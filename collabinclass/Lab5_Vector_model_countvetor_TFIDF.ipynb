{
  "nbformat": 4,
  "nbformat_minor": 0,
  "metadata": {
    "colab": {
      "provenance": [],
      "collapsed_sections": [
        "lMoxsY81EMr3"
      ]
    },
    "kernelspec": {
      "display_name": "Python 3",
      "name": "python3"
    },
    "language_info": {
      "name": "python"
    }
  },
  "cells": [
    {
      "cell_type": "markdown",
      "metadata": {
        "id": "gWpekq3p31Tg"
      },
      "source": [
        "# Count Vector"
      ]
    },
    {
      "cell_type": "code",
      "source": [
        "from google.colab import drive\n",
        "drive.mount('/content/drive')"
      ],
      "metadata": {
        "colab": {
          "base_uri": "https://localhost:8080/"
        },
        "id": "F4OrfU0VkKvO",
        "outputId": "eb783535-52f3-42ee-fe2a-d2a2353e5e4a"
      },
      "execution_count": null,
      "outputs": [
        {
          "output_type": "stream",
          "name": "stdout",
          "text": [
            "Mounted at /content/drive\n"
          ]
        }
      ]
    },
    {
      "cell_type": "code",
      "metadata": {
        "id": "K6r5yNCtfWOl",
        "colab": {
          "base_uri": "https://localhost:8080/",
          "height": 34
        },
        "outputId": "312bd7d8-dbc0-418b-a9e0-c0b197a4026a"
      },
      "source": [
        "import pandas as pd\n",
        "from sklearn.feature_extraction.text import CountVectorizer\n",
        "#from sklearn.linear_model import LogisticRegression\n",
        "\n",
        "sentences = ['John likes ice cream john','John hates chocolate.']\n",
        "sentences[0]"
      ],
      "execution_count": null,
      "outputs": [
        {
          "output_type": "execute_result",
          "data": {
            "text/plain": [
              "'John likes ice cream john'"
            ],
            "application/vnd.google.colaboratory.intrinsic+json": {
              "type": "string"
            }
          },
          "metadata": {},
          "execution_count": 17
        }
      ]
    },
    {
      "cell_type": "code",
      "metadata": {
        "id": "QIf0VPJL4M4Y"
      },
      "source": [
        "vectorizer = CountVectorizer(lowercase=True)"
      ],
      "execution_count": null,
      "outputs": []
    },
    {
      "cell_type": "code",
      "metadata": {
        "id": "YD1uusRiB3WL",
        "colab": {
          "base_uri": "https://localhost:8080/",
          "height": 75
        },
        "outputId": "02f6b653-c4aa-4e66-f61e-6462412fac10"
      },
      "source": [
        "vectorizer.fit(sentences)"
      ],
      "execution_count": null,
      "outputs": [
        {
          "output_type": "execute_result",
          "data": {
            "text/plain": [
              "CountVectorizer()"
            ],
            "text/html": [
              "<style>#sk-container-id-3 {color: black;background-color: white;}#sk-container-id-3 pre{padding: 0;}#sk-container-id-3 div.sk-toggleable {background-color: white;}#sk-container-id-3 label.sk-toggleable__label {cursor: pointer;display: block;width: 100%;margin-bottom: 0;padding: 0.3em;box-sizing: border-box;text-align: center;}#sk-container-id-3 label.sk-toggleable__label-arrow:before {content: \"▸\";float: left;margin-right: 0.25em;color: #696969;}#sk-container-id-3 label.sk-toggleable__label-arrow:hover:before {color: black;}#sk-container-id-3 div.sk-estimator:hover label.sk-toggleable__label-arrow:before {color: black;}#sk-container-id-3 div.sk-toggleable__content {max-height: 0;max-width: 0;overflow: hidden;text-align: left;background-color: #f0f8ff;}#sk-container-id-3 div.sk-toggleable__content pre {margin: 0.2em;color: black;border-radius: 0.25em;background-color: #f0f8ff;}#sk-container-id-3 input.sk-toggleable__control:checked~div.sk-toggleable__content {max-height: 200px;max-width: 100%;overflow: auto;}#sk-container-id-3 input.sk-toggleable__control:checked~label.sk-toggleable__label-arrow:before {content: \"▾\";}#sk-container-id-3 div.sk-estimator input.sk-toggleable__control:checked~label.sk-toggleable__label {background-color: #d4ebff;}#sk-container-id-3 div.sk-label input.sk-toggleable__control:checked~label.sk-toggleable__label {background-color: #d4ebff;}#sk-container-id-3 input.sk-hidden--visually {border: 0;clip: rect(1px 1px 1px 1px);clip: rect(1px, 1px, 1px, 1px);height: 1px;margin: -1px;overflow: hidden;padding: 0;position: absolute;width: 1px;}#sk-container-id-3 div.sk-estimator {font-family: monospace;background-color: #f0f8ff;border: 1px dotted black;border-radius: 0.25em;box-sizing: border-box;margin-bottom: 0.5em;}#sk-container-id-3 div.sk-estimator:hover {background-color: #d4ebff;}#sk-container-id-3 div.sk-parallel-item::after {content: \"\";width: 100%;border-bottom: 1px solid gray;flex-grow: 1;}#sk-container-id-3 div.sk-label:hover label.sk-toggleable__label {background-color: #d4ebff;}#sk-container-id-3 div.sk-serial::before {content: \"\";position: absolute;border-left: 1px solid gray;box-sizing: border-box;top: 0;bottom: 0;left: 50%;z-index: 0;}#sk-container-id-3 div.sk-serial {display: flex;flex-direction: column;align-items: center;background-color: white;padding-right: 0.2em;padding-left: 0.2em;position: relative;}#sk-container-id-3 div.sk-item {position: relative;z-index: 1;}#sk-container-id-3 div.sk-parallel {display: flex;align-items: stretch;justify-content: center;background-color: white;position: relative;}#sk-container-id-3 div.sk-item::before, #sk-container-id-3 div.sk-parallel-item::before {content: \"\";position: absolute;border-left: 1px solid gray;box-sizing: border-box;top: 0;bottom: 0;left: 50%;z-index: -1;}#sk-container-id-3 div.sk-parallel-item {display: flex;flex-direction: column;z-index: 1;position: relative;background-color: white;}#sk-container-id-3 div.sk-parallel-item:first-child::after {align-self: flex-end;width: 50%;}#sk-container-id-3 div.sk-parallel-item:last-child::after {align-self: flex-start;width: 50%;}#sk-container-id-3 div.sk-parallel-item:only-child::after {width: 0;}#sk-container-id-3 div.sk-dashed-wrapped {border: 1px dashed gray;margin: 0 0.4em 0.5em 0.4em;box-sizing: border-box;padding-bottom: 0.4em;background-color: white;}#sk-container-id-3 div.sk-label label {font-family: monospace;font-weight: bold;display: inline-block;line-height: 1.2em;}#sk-container-id-3 div.sk-label-container {text-align: center;}#sk-container-id-3 div.sk-container {/* jupyter's `normalize.less` sets `[hidden] { display: none; }` but bootstrap.min.css set `[hidden] { display: none !important; }` so we also need the `!important` here to be able to override the default hidden behavior on the sphinx rendered scikit-learn.org. See: https://github.com/scikit-learn/scikit-learn/issues/21755 */display: inline-block !important;position: relative;}#sk-container-id-3 div.sk-text-repr-fallback {display: none;}</style><div id=\"sk-container-id-3\" class=\"sk-top-container\"><div class=\"sk-text-repr-fallback\"><pre>CountVectorizer()</pre><b>In a Jupyter environment, please rerun this cell to show the HTML representation or trust the notebook. <br />On GitHub, the HTML representation is unable to render, please try loading this page with nbviewer.org.</b></div><div class=\"sk-container\" hidden><div class=\"sk-item\"><div class=\"sk-estimator sk-toggleable\"><input class=\"sk-toggleable__control sk-hidden--visually\" id=\"sk-estimator-id-3\" type=\"checkbox\" checked><label for=\"sk-estimator-id-3\" class=\"sk-toggleable__label sk-toggleable__label-arrow\">CountVectorizer</label><div class=\"sk-toggleable__content\"><pre>CountVectorizer()</pre></div></div></div></div></div>"
            ]
          },
          "metadata": {},
          "execution_count": 19
        }
      ]
    },
    {
      "cell_type": "code",
      "metadata": {
        "id": "kDCFEXgSB7eW",
        "colab": {
          "base_uri": "https://localhost:8080/"
        },
        "outputId": "8ff88d48-74b0-465b-e974-3e3be837f045"
      },
      "source": [
        "vectorizer.vocabulary_"
      ],
      "execution_count": null,
      "outputs": [
        {
          "output_type": "execute_result",
          "data": {
            "text/plain": [
              "{'john': 4, 'likes': 5, 'ice': 3, 'cream': 1, 'hates': 2, 'chocolate': 0}"
            ]
          },
          "metadata": {},
          "execution_count": 20
        }
      ]
    },
    {
      "cell_type": "code",
      "metadata": {
        "id": "9KY-qGKXCESF",
        "colab": {
          "base_uri": "https://localhost:8080/"
        },
        "outputId": "f6227f26-adec-4d1c-b4c7-8c70bd021b5a"
      },
      "source": [
        "vectorizer.transform(sentences).toarray()\n",
        " # Feature Vector"
      ],
      "execution_count": null,
      "outputs": [
        {
          "output_type": "execute_result",
          "data": {
            "text/plain": [
              "array([[0, 1, 0, 1, 2, 1],\n",
              "       [1, 0, 1, 0, 1, 0]])"
            ]
          },
          "metadata": {},
          "execution_count": 21
        }
      ]
    },
    {
      "cell_type": "code",
      "metadata": {
        "id": "-7XXcX2wCHNt",
        "colab": {
          "base_uri": "https://localhost:8080/"
        },
        "outputId": "344f8c60-938c-411b-8ad4-31d7e323c11d"
      },
      "source": [
        "document = [\"The man went out for a walk with a other man\", \"The children sat around the fire\", \"The man sat around the water\"]\n",
        "print(document)"
      ],
      "execution_count": null,
      "outputs": [
        {
          "output_type": "stream",
          "name": "stdout",
          "text": [
            "['The man went out for a walk with a other man', 'The children sat around the fire', 'The man sat around the water']\n"
          ]
        }
      ]
    },
    {
      "cell_type": "code",
      "metadata": {
        "id": "H7xW_fskCtMb",
        "colab": {
          "base_uri": "https://localhost:8080/"
        },
        "outputId": "1bc48cc8-368f-4752-fa15-e4aa00463d0c"
      },
      "source": [
        "count_vector = CountVectorizer(lowercase=True, analyzer = 'word', stop_words=\"english\")\n",
        "sparse_matrix = count_vector.fit_transform(document)\n",
        "doc_term_matrix = sparse_matrix.todense()\n",
        "\n",
        "\n",
        "print(count_vector.vocabulary_)\n",
        "print(sparse_matrix)\n",
        "print(doc_term_matrix)"
      ],
      "execution_count": null,
      "outputs": [
        {
          "output_type": "stream",
          "name": "stdout",
          "text": [
            "{'man': 1, 'went': 5, 'walk': 3, 'children': 0, 'sat': 2, 'water': 4}\n",
            "  (0, 1)\t2\n",
            "  (0, 5)\t1\n",
            "  (0, 3)\t1\n",
            "  (1, 0)\t1\n",
            "  (1, 2)\t1\n",
            "  (2, 1)\t1\n",
            "  (2, 2)\t1\n",
            "  (2, 4)\t1\n",
            "[[0 2 0 1 0 1]\n",
            " [1 0 1 0 0 0]\n",
            " [0 1 1 0 1 0]]\n"
          ]
        }
      ]
    },
    {
      "cell_type": "code",
      "metadata": {
        "id": "a6D9_zt9DZ1m",
        "colab": {
          "base_uri": "https://localhost:8080/"
        },
        "outputId": "8879bd98-4de7-4053-b2ec-9ca3b4f7fcf2"
      },
      "source": [
        "df = pd.DataFrame(doc_term_matrix,\n",
        "                  columns = count_vector.get_feature_names_out(),\n",
        "                  index = ['docA', 'docB', 'docC'])\n",
        "print(df)"
      ],
      "execution_count": null,
      "outputs": [
        {
          "output_type": "stream",
          "name": "stdout",
          "text": [
            "      children  man  sat  walk  water  went\n",
            "docA         0    2    0     1      0     1\n",
            "docB         1    0    1     0      0     0\n",
            "docC         0    1    1     0      1     0\n"
          ]
        }
      ]
    },
    {
      "cell_type": "markdown",
      "metadata": {
        "id": "lMoxsY81EMr3"
      },
      "source": [
        "# Simple LogisticRegression"
      ]
    },
    {
      "cell_type": "code",
      "metadata": {
        "id": "MHfqsKTcEKy8",
        "colab": {
          "base_uri": "https://localhost:8080/"
        },
        "outputId": "6365a8dd-e000-407a-a8cf-0b52d2e7d98a"
      },
      "source": [
        "import numpy as np\n",
        "import pandas as pd\n",
        "from matplotlib import cm\n",
        "import matplotlib.pyplot as plt\n",
        "\n",
        "df = pd.read_csv(\"/content/drive/MyDrive/Colab Notebooks/ex_data.csv\")\n",
        "print(df.head())"
      ],
      "execution_count": null,
      "outputs": [
        {
          "output_type": "stream",
          "name": "stdout",
          "text": [
            "           x          y  label\n",
            "0  34.623660  78.024693      0\n",
            "1  30.286711  43.894998      0\n",
            "2  35.847409  72.902198      0\n",
            "3  60.182599  86.308552      1\n",
            "4  79.032736  75.344376      1\n"
          ]
        }
      ]
    },
    {
      "cell_type": "code",
      "metadata": {
        "id": "-ixa3u-9GOKz",
        "colab": {
          "base_uri": "https://localhost:8080/",
          "height": 472
        },
        "outputId": "c4a08a00-60c3-448c-d67b-177533e9db6f"
      },
      "source": [
        "group1 = df[df.label == 0]\n",
        "group2 = df[df.label == 1]\n",
        "\n",
        "plt.title(\"Classification?\")\n",
        "plt.xlabel('X')\n",
        "plt.ylabel('Y')\n",
        "\n",
        "plt.axis(\"equal\")\n",
        "plt.scatter(group1.x, group1.y, c='g', marker='x', label='class 0')\n",
        "plt.scatter(group2.x, group2.y, c='r', marker='v', label='class 1')\n",
        "plt.legend(loc='upper right')\n",
        "plt.show()"
      ],
      "execution_count": null,
      "outputs": [
        {
          "output_type": "display_data",
          "data": {
            "text/plain": [
              "<Figure size 640x480 with 1 Axes>"
            ],
            "image/png": "[encoded data removed]"
          },
          "metadata": {}
        }
      ]
    },
    {
      "cell_type": "code",
      "metadata": {
        "id": "x_fVyMWfGh2O",
        "colab": {
          "base_uri": "https://localhost:8080/",
          "height": 75
        },
        "outputId": "ccef81b3-dedd-4dd1-9ee8-fd57bff76820"
      },
      "source": [
        "from sklearn.linear_model import LogisticRegression\n",
        "\n",
        "# instantiate the model (using the default parameters)\n",
        "logreg  = LogisticRegression()\n",
        "\n",
        "# fit the model with data\n",
        "logreg .fit(df[['x','y']], df.label)"
      ],
      "execution_count": null,
      "outputs": [
        {
          "output_type": "execute_result",
          "data": {
            "text/plain": [
              "LogisticRegression()"
            ],
            "text/html": [
              "<style>#sk-container-id-4 {color: black;background-color: white;}#sk-container-id-4 pre{padding: 0;}#sk-container-id-4 div.sk-toggleable {background-color: white;}#sk-container-id-4 label.sk-toggleable__label {cursor: pointer;display: block;width: 100%;margin-bottom: 0;padding: 0.3em;box-sizing: border-box;text-align: center;}#sk-container-id-4 label.sk-toggleable__label-arrow:before {content: \"▸\";float: left;margin-right: 0.25em;color: #696969;}#sk-container-id-4 label.sk-toggleable__label-arrow:hover:before {color: black;}#sk-container-id-4 div.sk-estimator:hover label.sk-toggleable__label-arrow:before {color: black;}#sk-container-id-4 div.sk-toggleable__content {max-height: 0;max-width: 0;overflow: hidden;text-align: left;background-color: #f0f8ff;}#sk-container-id-4 div.sk-toggleable__content pre {margin: 0.2em;color: black;border-radius: 0.25em;background-color: #f0f8ff;}#sk-container-id-4 input.sk-toggleable__control:checked~div.sk-toggleable__content {max-height: 200px;max-width: 100%;overflow: auto;}#sk-container-id-4 input.sk-toggleable__control:checked~label.sk-toggleable__label-arrow:before {content: \"▾\";}#sk-container-id-4 div.sk-estimator input.sk-toggleable__control:checked~label.sk-toggleable__label {background-color: #d4ebff;}#sk-container-id-4 div.sk-label input.sk-toggleable__control:checked~label.sk-toggleable__label {background-color: #d4ebff;}#sk-container-id-4 input.sk-hidden--visually {border: 0;clip: rect(1px 1px 1px 1px);clip: rect(1px, 1px, 1px, 1px);height: 1px;margin: -1px;overflow: hidden;padding: 0;position: absolute;width: 1px;}#sk-container-id-4 div.sk-estimator {font-family: monospace;background-color: #f0f8ff;border: 1px dotted black;border-radius: 0.25em;box-sizing: border-box;margin-bottom: 0.5em;}#sk-container-id-4 div.sk-estimator:hover {background-color: #d4ebff;}#sk-container-id-4 div.sk-parallel-item::after {content: \"\";width: 100%;border-bottom: 1px solid gray;flex-grow: 1;}#sk-container-id-4 div.sk-label:hover label.sk-toggleable__label {background-color: #d4ebff;}#sk-container-id-4 div.sk-serial::before {content: \"\";position: absolute;border-left: 1px solid gray;box-sizing: border-box;top: 0;bottom: 0;left: 50%;z-index: 0;}#sk-container-id-4 div.sk-serial {display: flex;flex-direction: column;align-items: center;background-color: white;padding-right: 0.2em;padding-left: 0.2em;position: relative;}#sk-container-id-4 div.sk-item {position: relative;z-index: 1;}#sk-container-id-4 div.sk-parallel {display: flex;align-items: stretch;justify-content: center;background-color: white;position: relative;}#sk-container-id-4 div.sk-item::before, #sk-container-id-4 div.sk-parallel-item::before {content: \"\";position: absolute;border-left: 1px solid gray;box-sizing: border-box;top: 0;bottom: 0;left: 50%;z-index: -1;}#sk-container-id-4 div.sk-parallel-item {display: flex;flex-direction: column;z-index: 1;position: relative;background-color: white;}#sk-container-id-4 div.sk-parallel-item:first-child::after {align-self: flex-end;width: 50%;}#sk-container-id-4 div.sk-parallel-item:last-child::after {align-self: flex-start;width: 50%;}#sk-container-id-4 div.sk-parallel-item:only-child::after {width: 0;}#sk-container-id-4 div.sk-dashed-wrapped {border: 1px dashed gray;margin: 0 0.4em 0.5em 0.4em;box-sizing: border-box;padding-bottom: 0.4em;background-color: white;}#sk-container-id-4 div.sk-label label {font-family: monospace;font-weight: bold;display: inline-block;line-height: 1.2em;}#sk-container-id-4 div.sk-label-container {text-align: center;}#sk-container-id-4 div.sk-container {/* jupyter's `normalize.less` sets `[hidden] { display: none; }` but bootstrap.min.css set `[hidden] { display: none !important; }` so we also need the `!important` here to be able to override the default hidden behavior on the sphinx rendered scikit-learn.org. See: https://github.com/scikit-learn/scikit-learn/issues/21755 */display: inline-block !important;position: relative;}#sk-container-id-4 div.sk-text-repr-fallback {display: none;}</style><div id=\"sk-container-id-4\" class=\"sk-top-container\"><div class=\"sk-text-repr-fallback\"><pre>LogisticRegression()</pre><b>In a Jupyter environment, please rerun this cell to show the HTML representation or trust the notebook. <br />On GitHub, the HTML representation is unable to render, please try loading this page with nbviewer.org.</b></div><div class=\"sk-container\" hidden><div class=\"sk-item\"><div class=\"sk-estimator sk-toggleable\"><input class=\"sk-toggleable__control sk-hidden--visually\" id=\"sk-estimator-id-4\" type=\"checkbox\" checked><label for=\"sk-estimator-id-4\" class=\"sk-toggleable__label sk-toggleable__label-arrow\">LogisticRegression</label><div class=\"sk-toggleable__content\"><pre>LogisticRegression()</pre></div></div></div></div></div>"
            ]
          },
          "metadata": {},
          "execution_count": 32
        }
      ]
    },
    {
      "cell_type": "code",
      "metadata": {
        "id": "-1pumTs2GvXx",
        "colab": {
          "base_uri": "https://localhost:8080/"
        },
        "outputId": "fc851cfa-ace1-4917-f8e3-394a41640d72"
      },
      "source": [
        "#ข้อมูลไม่เคยพบมาก่อน Unknow data\n",
        "x = 150\n",
        "y = 0\n",
        "answer = logreg.predict([[x, y]])\n",
        "print(\"(%s , %s) อยู่คลาส => %s\" % (x, y, answer[0]) )"
      ],
      "execution_count": null,
      "outputs": [
        {
          "output_type": "stream",
          "name": "stdout",
          "text": [
            "(150 , 0) อยู่คลาส => 1\n"
          ]
        },
        {
          "output_type": "stream",
          "name": "stderr",
          "text": [
            "/usr/local/lib/python3.10/dist-packages/sklearn/base.py:439: UserWarning: X does not have valid feature names, but LogisticRegression was fitted with feature names\n",
            "  warnings.warn(\n"
          ]
        }
      ]
    },
    {
      "cell_type": "code",
      "metadata": {
        "id": "SKB_SU9HHAyR"
      },
      "source": [
        "group1 = df[df.label == 0]\n",
        "group2 = df[df.label == 1]\n",
        "\n",
        "color = 'g' if answer == 0 else 'r'"
      ],
      "execution_count": null,
      "outputs": []
    },
    {
      "cell_type": "code",
      "metadata": {
        "id": "YWWxlsCwHI4Y",
        "colab": {
          "base_uri": "https://localhost:8080/",
          "height": 507
        },
        "outputId": "7d3bb37e-6869-45c2-eb14-d5fa21130db2"
      },
      "source": [
        "plt.title(\"Logistic Regression (Classification)\")\n",
        "plt.xlabel('X')\n",
        "plt.ylabel('Y')\n",
        "\n",
        "plt.axis(\"equal\")\n",
        "\n",
        "x_min, x_max = 0, 180\n",
        "y_min, y_max = 0, 180\n",
        "\n",
        "h = .02  # step size in the mesh\n",
        "xx, yy = np.meshgrid(np.arange(x_min, x_max, h), np.arange(y_min, y_max, h))\n",
        "Z = logreg.predict(np.c_[xx.ravel(), yy.ravel()])\n",
        "# Put the result into a color plot\n",
        "Z = Z.reshape(xx.shape)\n",
        "plt.figure(1, figsize=(4, 3))\n",
        "plt.pcolormesh(xx, yy, Z, cmap=plt.cm.Paired)\n",
        "\n",
        "plt.xlim(xx.min(), xx.max())\n",
        "plt.ylim(yy.min(), yy.max())\n",
        "\n",
        "plt.scatter(group1.x, group1.y, c='g', marker='x', label='class 0')\n",
        "plt.scatter(group2.x, group2.y, c='r', marker='v', label='class 1')\n",
        "plt.scatter(x, y, s=200, c=color, label='answer')\n",
        "\n",
        "plt.show()"
      ],
      "execution_count": null,
      "outputs": [
        {
          "output_type": "stream",
          "name": "stderr",
          "text": [
            "/usr/local/lib/python3.10/dist-packages/sklearn/base.py:439: UserWarning: X does not have valid feature names, but LogisticRegression was fitted with feature names\n",
            "  warnings.warn(\n"
          ]
        },
        {
          "output_type": "display_data",
          "data": {
            "text/plain": [
              "<Figure size 640x480 with 1 Axes>"
            ],
            "image/png": "[encoded data removed]"
          },
          "metadata": {}
        }
      ]
    },
    {
      "cell_type": "markdown",
      "metadata": {
        "id": "boeOSD6bHuwN"
      },
      "source": [
        "# Count Vector + LogisticRegression"
      ]
    },
    {
      "cell_type": "code",
      "metadata": {
        "id": "641f3iwWH3Ac",
        "colab": {
          "base_uri": "https://localhost:8080/"
        },
        "outputId": "af0625cd-0516-407b-f35d-ada487870efd"
      },
      "source": [
        "df = pd.read_csv('/content/drive/MyDrive/Colab Notebooks/amazon_cells_labelled.txt',\n",
        "                 names=['sentence','label'],sep='\\t')\n",
        "print(df.head(20))"
      ],
      "execution_count": null,
      "outputs": [
        {
          "output_type": "stream",
          "name": "stdout",
          "text": [
            "                                             sentence  label\n",
            "0   So there is no way for me to plug it in here i...      0\n",
            "1                         Good case, Excellent value.      1\n",
            "2                              Great for the jawbone.      1\n",
            "3   Tied to charger for conversations lasting more...      0\n",
            "4                                   The mic is great.      1\n",
            "5   I have to jiggle the plug to get it to line up...      0\n",
            "6   If you have several dozen or several hundred c...      0\n",
            "7         If you are Razr owner...you must have this!      1\n",
            "8                 Needless to say, I wasted my money.      0\n",
            "9                    What a waste of money and time!.      0\n",
            "10                    And the sound quality is great.      1\n",
            "11  He was very impressed when going from the orig...      1\n",
            "12  If the two were seperated by a mere 5+ ft I st...      0\n",
            "13                           Very good quality though      1\n",
            "14  The design is very odd, as the ear \"clip\" is n...      0\n",
            "15  Highly recommend for any one who has a blue to...      1\n",
            "16                I advise EVERYONE DO NOT BE FOOLED!      0\n",
            "17                                   So Far So Good!.      1\n",
            "18                                      Works great!.      1\n",
            "19  It clicks into place in a way that makes you w...      0\n"
          ]
        }
      ]
    },
    {
      "cell_type": "code",
      "metadata": {
        "id": "lsgL7qeCItJU",
        "colab": {
          "base_uri": "https://localhost:8080/"
        },
        "outputId": "8b5d8c46-2dec-49ee-fdda-223ed99e7be6"
      },
      "source": [
        "print(df.shape)\n",
        "print(df.label.value_counts())\n",
        "\n",
        "#Balancing data"
      ],
      "execution_count": null,
      "outputs": [
        {
          "output_type": "stream",
          "name": "stdout",
          "text": [
            "(1000, 2)\n",
            "0    500\n",
            "1    500\n",
            "Name: label, dtype: int64\n"
          ]
        }
      ]
    },
    {
      "cell_type": "code",
      "metadata": {
        "id": "l1ooxdhVKhYq",
        "colab": {
          "base_uri": "https://localhost:8080/",
          "height": 75
        },
        "outputId": "8902cf0c-66ea-4671-bfda-3541a7a7ed41"
      },
      "source": [
        "from sklearn.model_selection import train_test_split\n",
        "\n",
        "sentences = df['sentence'].values  #ทำการสร้าง Feature Vector\n",
        "y = df['label'].values  #Class คำตอบ, Tarket, label\n",
        "\n",
        "\n",
        "sentences_train, sentences_test, y_train, y_test = train_test_split(sentences, y, test_size=0.20, random_state=1000)\n",
        "vectorizer = CountVectorizer()\n",
        "vectorizer.fit(sentences_train) #Bag of Word"
      ],
      "execution_count": null,
      "outputs": [
        {
          "output_type": "execute_result",
          "data": {
            "text/plain": [
              "CountVectorizer()"
            ],
            "text/html": [
              "<style>#sk-container-id-5 {color: black;background-color: white;}#sk-container-id-5 pre{padding: 0;}#sk-container-id-5 div.sk-toggleable {background-color: white;}#sk-container-id-5 label.sk-toggleable__label {cursor: pointer;display: block;width: 100%;margin-bottom: 0;padding: 0.3em;box-sizing: border-box;text-align: center;}#sk-container-id-5 label.sk-toggleable__label-arrow:before {content: \"▸\";float: left;margin-right: 0.25em;color: #696969;}#sk-container-id-5 label.sk-toggleable__label-arrow:hover:before {color: black;}#sk-container-id-5 div.sk-estimator:hover label.sk-toggleable__label-arrow:before {color: black;}#sk-container-id-5 div.sk-toggleable__content {max-height: 0;max-width: 0;overflow: hidden;text-align: left;background-color: #f0f8ff;}#sk-container-id-5 div.sk-toggleable__content pre {margin: 0.2em;color: black;border-radius: 0.25em;background-color: #f0f8ff;}#sk-container-id-5 input.sk-toggleable__control:checked~div.sk-toggleable__content {max-height: 200px;max-width: 100%;overflow: auto;}#sk-container-id-5 input.sk-toggleable__control:checked~label.sk-toggleable__label-arrow:before {content: \"▾\";}#sk-container-id-5 div.sk-estimator input.sk-toggleable__control:checked~label.sk-toggleable__label {background-color: #d4ebff;}#sk-container-id-5 div.sk-label input.sk-toggleable__control:checked~label.sk-toggleable__label {background-color: #d4ebff;}#sk-container-id-5 input.sk-hidden--visually {border: 0;clip: rect(1px 1px 1px 1px);clip: rect(1px, 1px, 1px, 1px);height: 1px;margin: -1px;overflow: hidden;padding: 0;position: absolute;width: 1px;}#sk-container-id-5 div.sk-estimator {font-family: monospace;background-color: #f0f8ff;border: 1px dotted black;border-radius: 0.25em;box-sizing: border-box;margin-bottom: 0.5em;}#sk-container-id-5 div.sk-estimator:hover {background-color: #d4ebff;}#sk-container-id-5 div.sk-parallel-item::after {content: \"\";width: 100%;border-bottom: 1px solid gray;flex-grow: 1;}#sk-container-id-5 div.sk-label:hover label.sk-toggleable__label {background-color: #d4ebff;}#sk-container-id-5 div.sk-serial::before {content: \"\";position: absolute;border-left: 1px solid gray;box-sizing: border-box;top: 0;bottom: 0;left: 50%;z-index: 0;}#sk-container-id-5 div.sk-serial {display: flex;flex-direction: column;align-items: center;background-color: white;padding-right: 0.2em;padding-left: 0.2em;position: relative;}#sk-container-id-5 div.sk-item {position: relative;z-index: 1;}#sk-container-id-5 div.sk-parallel {display: flex;align-items: stretch;justify-content: center;background-color: white;position: relative;}#sk-container-id-5 div.sk-item::before, #sk-container-id-5 div.sk-parallel-item::before {content: \"\";position: absolute;border-left: 1px solid gray;box-sizing: border-box;top: 0;bottom: 0;left: 50%;z-index: -1;}#sk-container-id-5 div.sk-parallel-item {display: flex;flex-direction: column;z-index: 1;position: relative;background-color: white;}#sk-container-id-5 div.sk-parallel-item:first-child::after {align-self: flex-end;width: 50%;}#sk-container-id-5 div.sk-parallel-item:last-child::after {align-self: flex-start;width: 50%;}#sk-container-id-5 div.sk-parallel-item:only-child::after {width: 0;}#sk-container-id-5 div.sk-dashed-wrapped {border: 1px dashed gray;margin: 0 0.4em 0.5em 0.4em;box-sizing: border-box;padding-bottom: 0.4em;background-color: white;}#sk-container-id-5 div.sk-label label {font-family: monospace;font-weight: bold;display: inline-block;line-height: 1.2em;}#sk-container-id-5 div.sk-label-container {text-align: center;}#sk-container-id-5 div.sk-container {/* jupyter's `normalize.less` sets `[hidden] { display: none; }` but bootstrap.min.css set `[hidden] { display: none !important; }` so we also need the `!important` here to be able to override the default hidden behavior on the sphinx rendered scikit-learn.org. See: https://github.com/scikit-learn/scikit-learn/issues/21755 */display: inline-block !important;position: relative;}#sk-container-id-5 div.sk-text-repr-fallback {display: none;}</style><div id=\"sk-container-id-5\" class=\"sk-top-container\"><div class=\"sk-text-repr-fallback\"><pre>CountVectorizer()</pre><b>In a Jupyter environment, please rerun this cell to show the HTML representation or trust the notebook. <br />On GitHub, the HTML representation is unable to render, please try loading this page with nbviewer.org.</b></div><div class=\"sk-container\" hidden><div class=\"sk-item\"><div class=\"sk-estimator sk-toggleable\"><input class=\"sk-toggleable__control sk-hidden--visually\" id=\"sk-estimator-id-5\" type=\"checkbox\" checked><label for=\"sk-estimator-id-5\" class=\"sk-toggleable__label sk-toggleable__label-arrow\">CountVectorizer</label><div class=\"sk-toggleable__content\"><pre>CountVectorizer()</pre></div></div></div></div></div>"
            ]
          },
          "metadata": {},
          "execution_count": 45
        }
      ]
    },
    {
      "cell_type": "code",
      "metadata": {
        "id": "7GGS7Aq_Kqp6",
        "colab": {
          "base_uri": "https://localhost:8080/"
        },
        "outputId": "7ade4a46-274a-40fe-e2e0-ba082933b153"
      },
      "source": [
        "X_train = vectorizer.transform(sentences_train)\n",
        "X_test  = vectorizer.transform(sentences_test)\n",
        "\n",
        "\n",
        "# print(X_train)\n",
        "print(X_train.shape)\n",
        "print(X_test.shape)\n"
      ],
      "execution_count": null,
      "outputs": [
        {
          "output_type": "stream",
          "name": "stdout",
          "text": [
            "(800, 1595)\n",
            "(200, 1595)\n"
          ]
        }
      ]
    },
    {
      "cell_type": "code",
      "metadata": {
        "id": "lulvackALmLN",
        "colab": {
          "base_uri": "https://localhost:8080/"
        },
        "outputId": "d1b9e4c6-bcb8-4b93-e992-6645c5d03fcb"
      },
      "source": [
        "#print feature names\n",
        "#print(vectorizer.get_feature_names())\n",
        "print(vectorizer.vocabulary_)"
      ],
      "execution_count": null,
      "outputs": [
        {
          "output_type": "stream",
          "name": "stdout",
          "text": [
            "{'love': 837, 'the': 1377, 'look': 821, 'and': 79, 'feel': 535, 'of': 948, 'samsung': 1193, 'flipphones': 559, 'these': 1383, 'are': 97, 'certainly': 244, 'very': 1493, 'comfortable': 283, 'functionality': 594, 'is': 741, 'decent': 365, 'don': 418, 'think': 1388, 'it': 743, 'would': 1583, 'hold': 670, 'too': 1419, 'securly': 1212, 'on': 955, 'your': 1593, 'belt': 148, 'great': 627, 'phone': 1019, 'bottowm': 174, 'line': 804, 'another': 82, 'worthless': 1581, 'cheap': 254, 'gimmick': 607, 'from': 584, 'sprint': 1311, 'that': 1375, 'company': 292, 'joke': 754, 'then': 1380, 'had': 634, 'to': 1410, 'continue': 316, 'pairing': 994, 'periodically': 1015, 'since': 1260, 'somehow': 1288, 'kept': 762, 'dropping': 434, 'this': 1390, 'cable': 206, 'allows': 63, 'me': 861, 'connect': 307, 'any': 87, 'mini': 882, 'usb': 1475, 'device': 385, 'my': 914, 'pc': 1004, 'unfortunately': 1456, 'did': 388, 'not': 938, 'work': 1573, 'headset': 656, 'good': 621, 'item': 744, 'low': 840, 'price': 1065, 'was': 1515, 'horrible': 676, 'pda': 1005, 'rocks': 1183, 'using': 1482, 'with': 1563, 'an': 78, 'iriver': 740, 'spinn': 1309, 'case': 228, 'fits': 551, 'fine': 546, 'excited': 501, 'get': 604, 'because': 138, 'thought': 1394, 'really': 1121, 'cute': 352, 'wear': 1524, 'as': 104, 'well': 1532, 'which': 1540, 'probably': 1069, 'most': 898, 'important': 700, 'aspect': 106, 'about': 28, 'bought': 175, 'use': 1476, 'kindle': 769, 'fire': 548, 'absolutely': 31, 'loved': 838, 'thank': 1374, 'you': 1592, 'for': 567, 'such': 1341, 'service': 1226, 'so': 1283, '10': 0, 'saved': 1198, 'alot': 67, 'money': 892, 'simple': 1257, 'like': 802, 'battery': 133, 'got': 624, 'here': 663, 'fast': 528, 'around': 101, 'end': 470, 'may': 860, 'completely': 301, 'unhappy': 1457, 'what': 1535, 'wanted': 1512, 'picture': 1022, 'resolution': 1157, 'far': 527, 'below': 147, 'other': 972, 'comparably': 293, 'priced': 1066, 'phones': 1020, 'offering': 950, 'today': 1413, 'am': 72, 'sorry': 1297, 'made': 843, 'purchase': 1093, 'works': 1576, 'doesn': 416, 'earpiece': 450, 'large': 779, 'or': 967, 'heavy': 660, 'keeps': 761, 'falling': 523, 'out': 976, 'ear': 442, 'glad': 612, 'purchased': 1094, 'home': 674, 'stereo': 1324, 'linked': 805, 'without': 1565, 'effort': 462, 'quality': 1101, 'audio': 113, 'protector': 1085, 'convenient': 320, 'gets': 605, 'job': 753, 'done': 419, 'makes': 850, 'car': 221, 'ride': 1172, 'much': 908, 'smoother': 1280, 'ngage': 926, 'still': 1325, 'lacking': 776, 'in': 706, 'earbuds': 444, 'eargels': 446, 'channel': 246, 'sound': 1299, 'directly': 395, 'into': 733, 'seem': 1215, 'increase': 711, 'volume': 1500, 'clarity': 266, 'only': 959, 'will': 1551, 'drain': 426, 'player': 1034, 'but': 196, 'also': 68, 'potentially': 1055, 'fry': 586, 'does': 415, 'match': 857, 'packaged': 989, 'arrived': 103, 'time': 1402, 'intended': 729, 'used': 1477, 'dirty': 396, 'bad': 123, 'reception': 1133, 'buy': 198, 'nicely': 928, 'avoid': 116, 'damage': 355, 'loads': 815, 'super': 1346, 'couldn': 330, 'figure': 541, 've': 1490, 'nearly': 915, 'years': 1589, 'has': 646, 'worked': 1574, 'complaint': 299, 'standard': 1312, 'little': 812, 'even': 486, 'when': 1537, 'turned': 1445, 'up': 1467, 'mic': 876, 'there': 1381, 'quite': 1106, 'product': 1075, 'working': 1575, 'lot': 831, 'easier': 454, 'can': 214, 'go': 617, 'copier': 324, 'while': 1541, 'waiting': 1505, 'something': 1290, 'amazed': 73, 'at': 108, 'quick': 1102, 'arrival': 102, 'two': 1447, 'original': 970, 'lg': 796, 'cell': 238, 'batteries': 132, 'fraction': 576, 'happy': 643, '2005': 9, 'just': 757, 's710a': 1189, 'all': 59, 'say': 1199, 'wow': 1585, 'unreliable': 1463, 'mobile': 889, 'camera': 213, 'although': 69, 'rated': 1111, 'impressive': 703, 'megapixels': 867, 'renders': 1148, 'images': 698, 'fall': 522, 'expectations': 504, 'relatively': 1145, 'high': 665, 'save': 1197, '11': 2, 'months': 895, 'now': 942, 'motorola': 903, 'finally': 543, 'voice': 1498, 'bluetooth': 163, 'right': 1173, 'several': 1230, 'situations': 1264, 'father': 530, 'v265': 1486, 'dying': 438, 'recognition': 1136, 'tremendous': 1435, 'noise': 932, 'shield': 1237, 'incrediable': 712, 'life': 797, 'long': 819, 'enough': 475, 'razor': 1113, 'v3i': 1488, 'virgin': 1496, 'wireless': 1560, 'finds': 545, 'away': 117, 'enter': 476, 'recommend': 1138, 'faceplates': 517, 'looks': 823, 'nice': 927, 'elegant': 464, 'cool': 323, 'mother': 900, 'she': 1236, 'problem': 1070, 'disappointed': 399, 'have': 650, 'charger': 249, 'sitting': 1263, 'vehicle': 1491, 'cradle': 339, 'lost': 830, 'signal': 1253, 'its': 746, 'best': 149, 'extremely': 514, 'slow': 1274, 'takes': 1362, 'forever': 568, 'do': 413, 'anything': 89, 'plugged': 1043, 'find': 544, 'darn': 356, 'thing': 1386, 'five': 552, 'star': 1313, 'plus': 1044, 'excellent': 496, 'inconspicuous': 710, 'boot': 169, 'bluetoooth': 162, 'some': 1287, 'way': 1521, 'few': 539, 'weeks': 1529, 'no': 931, 'loop': 824, 'needed': 918, 'tiny': 1407, 'leopard': 793, 'print': 1068, 'wonderfully': 1569, 'wild': 1550, 'obviously': 946, 'adhesive': 50, 'last': 780, 'buying': 201, 'new': 925, 'problems': 1071, 'came': 212, 'less': 794, 'expected': 505, 'replacement': 1152, 'died': 390, 'possibility': 1053, 'double': 421, 'booking': 167, 'same': 1192, 'date': 358, 'after': 54, 'first': 549, 'headphones': 655, 'they': 1384, 'poor': 1048, 'talk': 1363, 'performance': 1012, 'everything': 492, 'need': 917, 'ask': 105, 'more': 896, 'steer': 1323, 'clear': 268, 'genuine': 603, 'palm': 995, 'replacementr': 1153, 'pens': 1009, 'come': 280, 'three': 1395, 'pack': 987, 'amazon': 75, 'sucks': 1342, 'both': 171, 'ears': 452, 'occupied': 947, 'background': 122, 'distracting': 409, 'particular': 999, 'model': 890, 'smartphone': 1277, 'described': 375, 'sounds': 1301, 'reasonably': 1124, 'effective': 460, 'cases': 229, 'tried': 1438, 'normally': 937, 'apart': 91, 'one': 957, 'seems': 1216, 'be': 134, 'haul': 649, 'bougth': 176, 'l7c': 775, 'how': 681, 'absolutel': 30, 'junk': 756, 'if': 693, 'dozen': 424, 'hundred': 687, 'contacts': 315, 'imagine': 699, 'fun': 591, 'sending': 1220, 'each': 441, 'them': 1379, 'by': 204, 'fails': 520, 'joy': 755, 'different': 392, 'earpieces': 451, 'jabra': 747, 'found': 573, 'comfortably': 284, 'light': 798, 'weight': 1530, 'hardly': 645, 'notice': 940, 'advise': 53, 'everyone': 491, 'fooled': 566, 'impressed': 702, 'anyone': 88, 'we': 1522, 'others': 973, 'stupid': 1336, 'keep': 759, 'chargers': 250, 'cradles': 340, 'kits': 771, 'every': 489, 'comes': 281, 'could': 329, 'improve': 705, 'leaks': 788, 'grtting': 631, 'deal': 363, '44': 15, 'until': 1465, 'v3c': 1487, 'razr': 1114, 'hours': 678, 'literally': 811, 'drained': 427, 'pleased': 1039, 'market': 856, 'results': 1164, 'being': 144, 'either': 463, 'stuck': 1334, 'max': 859, 'mute': 913, 'superb': 1347, 'network': 923, 'started': 1315, 'having': 652, 'auto': 114, 'reverse': 1168, 'tape': 1365, 'didn': 389, 'bargain': 127, 'piece': 1024, 'crap': 341, 'pleather': 1040, 'fit': 550, 'please': 1038, 'dont': 420, 'waste': 1517, 'locks': 817, 'screens': 1206, 'flash': 554, 'calls': 211, 'randomly': 1108, 'pocket': 1045, 'locked': 816, 'mega': 866, 'pixel': 1026, 'part': 998, 'good7': 622, 'charge': 247, 'going': 619, 'dead': 361, '12': 3, 'minutes': 885, 'aluminum': 70, 'vx': 1501, 'protected': 1082, 'handheld': 637, 'perfectly': 1011, 'charges': 251, 'easy': 456, 'access': 34, 'handy': 640, 'detachable': 382, 'clip': 273, '13': 4, 'bucks': 191, 'give': 609, 'wirefly': 1559, 'contact': 313, 'cingular': 265, 'inform': 719, 'practice': 1059, 'recognizes': 1137, 'storage': 1327, 'incredible': 713, 'gave': 599, 'stars': 1314, 'terrible': 1370, 'customer': 350, 'tool': 1421, 'entertainment': 477, 'communication': 289, 'data': 357, 'management': 852, 'oh': 952, 'sure': 1353, 'activesync': 42, 'optimal': 964, 'synchronization': 1360, 'essentially': 484, 'forget': 570, 'microsoft': 878, 'tech': 1366, 'support': 1350, 'paired': 993, 'treo': 1436, '700w': 21, 'skype': 1267, 'transceiver': 1430, 'sanyo': 1194, 'survived': 1356, 'dozens': 425, 'drops': 435, 'blacktop': 158, 'ill': 695, 'effect': 459, 'practically': 1058, 'useless': 1480, 'add': 47, 'kind': 768, 'boost': 168, 'usable': 1473, 'keyboard': 764, 'actually': 43, 'turns': 1446, 'real': 1120, 'world': 1577, 'useful': 1478, 'machine': 842, 'instead': 725, 'neat': 916, 'gadget': 595, 'ringer': 1176, 'choices': 262, 'loud': 833, 'week': 1528, 'stopped': 1326, 'charging': 252, 'hey': 664, 'pleasantly': 1037, 'suprised': 1352, 'given': 610, 'cost': 327, 'shipped': 1241, 'promptly': 1079, 'over': 979, 'ago': 57, 'stay': 1321, 'store': 1328, 'careful': 224, 'messages': 873, 'web': 1526, 'browsing': 186, 'significantly': 1255, 'faster': 529, 'than': 1373, 'previous': 1064, 'people': 1010, 'hear': 658, 'read': 1117, 'reviews': 1171, 'haven': 651, 'take': 1361, 'bar': 125, 'starts': 1316, 'beeping': 142, 'letting': 795, 'know': 772, 'dieing': 391, 'within': 1564, 'days': 360, 'longer': 820, 'wasn': 1516, 'always': 71, 'devices': 386, 'barely': 126, 'took': 1420, 'couple': 333, 'before': 143, 'making': 851, 'dialing': 387, 'feature': 532, 'small': 1276, 'difficult': 393, 'install': 724, 'plan': 1029, 'own': 984, 'moto': 901, 'simply': 1259, 'want': 1511, 'flip': 558, 'elsewhere': 466, 'extra': 513, 'bells': 146, 'whistles': 1543, 'mediocre': 865, 'favorite': 531, 'purchases': 1095, 'ever': 488, 'dissapointing': 408, 'recieve': 1135, 'value': 1489, 'been': 140, 'winner': 1555, 'us': 1472, 'said': 1191, 'above': 29, 'pretty': 1062, 'says': 1201, 'promised': 1077, 'timeframe': 1403, 'strength': 1331, 'dropped': 433, 'cables': 207, 'computer': 303, 'ipod': 737, 'overly': 981, 'expensive': 506, 'replace': 1150, 'operate': 962, 'better': 150, 'll': 814, 'drivng': 430, 'along': 66, 'ringing': 1177, 'reason': 1122, 'might': 879, 'gotten': 625, 'defect': 368, 'risk': 1180, 'again': 55, 'built': 193, 'alone': 65, 'addition': 48, 'feels': 536, 'amp': 76, 'lightweight': 801, 'plastic': 1032, 'bluetooths': 164, 'listener': 808, 'ease': 453, 'restored': 1162, 'features': 533, 'disappointment': 401, 'hate': 647, 'goes': 618, 'handsfree': 639, 'tries': 1439, 'download': 423, 'address': 49, 'book': 166, 'reboots': 1125, 'overall': 980, 'rate': 1110, 'hand': 636, 'contacted': 314, 'told': 1416, 'unit': 1459, 'under': 1453, 'warranty': 1514, 'produce': 1074, 'receipt': 1128, 'luck': 841, 'forgot': 571, 'mention': 869, 'weird': 1531, 'color': 276, 'wont': 1570, 'atleast': 109, 'big': 153, 'microphone': 877, 'according': 39, 'called': 210, 'applifies': 95, 'lasted': 781, 'day': 359, 'blew': 159, 'flimsy': 557, 'front': 585, 'side': 1252, 'protection': 1083, 'whatsoever': 1536, 'order': 968, 'hoping': 675, 'make': 849, 'bulky': 194, 'charm': 253, 'nothing': 939, 'reading': 1118, 'specs': 1307, 'holster': 673, 'photo': 1021, 'ad': 44, 'experience': 507, 'fourth': 575, 'hated': 648, 'tmobile': 1409, 'left': 791, 'linksys': 807, 'should': 1246, 'exchange': 499, 'refurb': 1141, 'falls': 524, 'easily': 455, 'fixes': 553, 'logitech': 818, 'accept': 32, 'cassette': 231, 'plug': 1042, '325': 10, 'cellphone': 239, 'worn': 1578, 'full': 589, 'static': 1319, 'embarassing': 467, 'hurt': 688, 'try': 1441, 'push': 1098, 'utterly': 1485, 'confusing': 306, 'caused': 234, 'lose': 829, 'basically': 131, 'threw': 1396, 'window': 1553, 'highly': 667, 'unacceptable': 1449, 'hands': 638, 'screen': 1205, 'software': 1285, 'interface': 731, 'decade': 364, 'old': 954, 'cannot': 217, 'compete': 295, 'designs': 378, 'tracfonewebsite': 1428, 'user': 1481, 'friendly': 582, 'toactivate': 1411, 'etc': 485, 'secure': 1211, 'holding': 671, 'keeping': 760, 'iphone': 736, 'inside': 723, 'reasonable': 1123, 'connected': 308, 'wife': 1549, 'hs850': 683, 'whether': 1539, 'beats': 136, 'fingers': 547, 'compromise': 302, 'between': 151, 'qwerty': 1107, 'basic': 130, 'number': 943, 'keypad': 765, 'restocking': 1161, 'fee': 534, 'refund': 1140, 'back': 121, 'unless': 1461, 'converter': 322, 'warning': 1513, 'sleek': 1268, 'looking': 822, 'practical': 1057, 'setup': 1229, 'ample': 77, 'place': 1027, 'range': 1109, 'shifting': 1238, 'bubbling': 190, 'peeling': 1007, 'scratch': 1203, 'happier': 642, 'droid': 431, 'couldnt': 331, 'pull': 1091, 'earphone': 448, 'mentioned': 870, 'poorly': 1049, 'contstruct': 319, 'hinge': 668, 'lately': 785, 'helpful': 662, 'build': 192, 'unlike': 1462, 'cumbersome': 346, 'design': 377, 'otherwise': 974, 'definitly': 371, 'able': 26, 'land': 777, 'holds': 672, 'wearing': 1525, 'conditions': 304, 'drop': 432, 'inches': 707, 'kitchen': 770, 'counter': 332, 'cracked': 338, 'laughing': 787, 'none': 935, 'sizes': 1266, 'sent': 1222, 'however': 682, 'bt': 187, 'headsets': 657, 'currently': 348, 'games': 597, 'person': 1017, 'shooters': 1243, 'delay': 372, 'messes': 875, 'uncomfortable': 1452, 'compared': 294, 'wired': 1558, 'allot': 60, 'clearer': 269, 'instruction': 726, 'manual': 853, 'fully': 590, 'charged': 248, 'went': 1533, 'bed': 139, 'off': 949, 'blue': 160, 'tooth': 1423, 'wi': 1548, 'fi': 540, 'noticed': 941, '20': 7, 'morning': 897, 'angle': 81, 'party': 1000, 'clearly': 270, 'beat': 135, 'shipping': 1242, 'items': 745, 'stated': 1318, 'included': 708, 'description': 376, 'stream': 1330, 'submerged': 1340, '15': 5, 'seconds': 1210, 'inexpensive': 717, 'sturdy': 1337, 'waterproof': 1520, 'text': 1372, 'messaging': 874, 'tricky': 1437, 'things': 1387, 'impossible': 701, 'received': 1130, 'white': 1544, 'colored': 277, 'hoursthe': 679, 'lasts': 783, 'thereplacement': 1382, 'show': 1250, 'four': 574, 'times': 1405, 'spring': 1310, 'latch': 784, 'broke': 184, 'visor': 1497, 'nokia': 934, 'nightmare': 930, 'later': 786, 'puff': 1090, 'smoke': 1279, 'breakage': 180, 'unacceptible': 1450, 'w810i': 1503, 'accessoryone': 36, 'satisifed': 1196, 'combination': 279, 'usually': 1483, 'headbands': 654, 'mess': 872, 'hair': 635, 'communications': 290, 'communicate': 288, 'tones': 1418, 'acceptable': 33, 'exactly': 494, 'awesome': 118, 'buzzing': 203, 'override': 983, 'conversations': 321, 'dit': 410, '5320': 19, 'worth': 1580, 'surefire': 1354, 'gx2': 632, 'buyer': 199, 'beware': 152, 'flush': 564, 'down': 422, 'toilet': 1415, 'engineered': 473, 'clever': 271, 'construction': 312, 'expect': 503, 'cheaply': 256, 'commercials': 287, 'misleading': 886, 'possesed': 1052, 'idea': 691, 'freezes': 579, 'frequently4': 580, 'recently': 1132, 'where': 1538, 'disconnected': 404, 'generally': 601, 'certain': 243, 'places': 1028, 'strong': 1333, 'rubber': 1186, 'petroleum': 1018, 'smell': 1278, 'unbearable': 1451, 'return': 1165, 'disappoint': 398, 'infra': 720, 'red': 1139, 'port': 1050, 'irda': 739, 'bars': 128, 'cant': 218, 'cheapy': 257, 'lots': 832, 'sounded': 1300, 'awful': 119, 'displeased': 407, 'smoothly': 1281, 'carries': 226, 'highest': 666, 'anti': 86, 'glare': 613, 'advertised': 52, 'loudspeaker': 836, 'option': 965, 'bumpers': 195, 'lights': 800, 'appealing': 93, 'turn': 1444, 'bother': 172, 'ideal': 692, 'whose': 1547, 'sensitive': 1221, 'those': 1392, 'top': 1424, 'causing': 235, 'discomfort': 403, 'magical': 844, 'help': 661, 'instructions': 727, 'provided': 1087, 'were': 1534, 'seller': 1219, 'plantronics': 1031, 'excelent': 495, 'returning': 1167, 'slim': 1272, 'display': 406, 'beautiful': 137, 'calendar': 208, 'sync': 1359, 'their': 1378, 'coverage': 336, 'los': 828, 'angeles': 80, 'delivery': 373, 'disappointing': 400, 'speakerphone': 1305, 'constantly': 311, 'saying': 1200, 'worst': 1579, 'loves': 839, 'krussel': 774, 'never': 924, 'att': 110, '8525': 22, 'thorn': 1391, 'abhor': 24, 'speaker': 1304, 'ring': 1175, 'giving': 611, 'igo': 694, 'brand': 178, 'mp3': 906, 'players': 1035, 'family': 525, 'definitely': 370, 's11': 1188, 'inexcusable': 716, 'perhaps': 1014, 'changing': 245, 'carriers': 225, 'muddy': 909, 'casing': 230, 'wire': 1557, 'insert': 722, 'glued': 616, 'slid': 1269, 'penny': 1008, 'motor': 902, 'control': 317, 'center': 242, 'voltage': 1499, 'humming': 686, 'equipment': 480, 'killer': 767, 'course': 335, 'breaking': 181, 'chinese': 260, 'who': 1545, 'mind': 880, 'gonna': 620, 'activated': 41, 'suddenly': 1344, 'unusable': 1466, 'moving': 905, 'freeway': 578, 'speed': 1308, 'infuriating': 721, 'controls': 318, 'accessable': 35, 'purcashed': 1092, 'hard': 644, 'bt250v': 188, 'comfort': 282, 'iam': 690, 'echo': 457, 'unsatisfactory': 1464, 'glove': 615, 'durable': 436, 'blueant': 161, 'supertooth': 1349, 'free': 577, 'wasted': 1518, 'strange': 1329, 'ticking': 1400, 'noises': 933, 'ends': 472, 'call': 209, 'crappy': 342, 'e715': 440, 'seeen': 1214, 'felt': 538, 'tinny': 1406, 'loops': 825, 'weak': 1523, 'material': 858, 'break': 179, 'see': 1213, 'travled': 1434, 'swivel': 1358, 'blackberry': 157, 'pushed': 1099, 'function': 592, 'maintain': 846, 'monkeys': 893, 'shouldn': 1247, 'share': 1234, 'dna': 412, 'copy': 325, 'humans': 685, 'seen': 1217, 'yet': 1591, 'update': 1469, 'procedure': 1072, 'checked': 258, 'everywhere': 493, 'bose': 170, 'cancelling': 216, 'amazing': 74, 'nyc': 945, 'commuter': 291, 'leather': 790, 'soft': 1284, 'tight': 1401, 'cut': 351, 'face': 516, 'shape': 1233, 'biggest': 154, 'drains': 428, 'superfast': 1348, 'sunglasses': 1345, 'texas': 1371, 'earbugs': 445, 'means': 862, 'ringtones': 1178, 'form': 572, 'existing': 502, 'cds': 237, 'internet': 732, 'connection': 310, 'crashed': 343, 'replaced': 1151, 'originally': 971, 'put': 1100, 'discarded': 402, 'scratched': 1204, 'won': 1567, 'regret': 1143, 'average': 115, 'operates': 963, 'switch': 1357, 'rocketed': 1182, 'destination': 380, 'unknown': 1460, 'docking': 414, 'station': 1320, 'thumbs': 1398, 'improper': 704, 'during': 437, 'minute': 884, 'experienced': 508, 'area': 98, 'earbud': 443, 'breaks': 182, 'prettier': 1061, 'graphics': 626, 'incredibly': 714, 'sharp': 1235, 'cat': 232, 'attacked': 111, 'he': 653, 'protective': 1084, 'strip': 1332, 'destroying': 381, 'choice': 261, 'cancellation': 215, 'coupon': 334, 'anywhere': 90, 'satisfied': 1195, 'bt50': 189, 'snap': 1282, 'pair': 992, 'wise': 1561, 'shots': 1245, 'sos': 1298, 'signals': 1254, 'seriously': 1225, 'plays': 1036, 'louder': 834, 'size': 1265, 'tips': 1408, 'especially': 483, 'answer': 83, 'flops': 563, 'worthwhile': 1582, 'negatively': 921, 'review': 1170, 'everyday': 490, 'runs': 1187, 'quickly': 1103, 'ca': 205, '42': 14, 'crisp': 345, 'yes': 1590, 'shiny': 1239, 'our': 975, 'whole': 1546, 'ability': 25, 'trying': 1442, 'many': 854, 'gadgets': 596, 'attractive': 112, 'appears': 94, 'set': 1227, 'disapoinment': 397, 'reversible': 1169, 'disgusting': 405, 'peachy': 1006, 'keen': 758, 'alarm': 58, 'clock': 275, 'removing': 1147, 'mine': 881, 'year': 1588, 'christmas': 263, 'rest': 1159, 'carry': 227, 'geeky': 600, 'thats': 1376, 'sex': 1232, 'toast': 1412, 'oozes': 960, 'embedded': 469, 'stylish': 1339, 'wallet': 1510, 'type': 1448, 'walkman': 1508, 'reoccure': 1149, 'bottom': 173, 'somewhere': 1293, 'else': 465, 'quiet': 1104, 'almost': 64, 'memory': 868, 'card': 222, 'majority': 848, 'failed': 519, 'accompanied': 38, 'brilliant': 183, 'believe': 145, 'steep': 1322, 'point': 1047, 'complained': 298, 'reccommend': 1127, 'keypads': 766, 'sometimes': 1291, 'reach': 1116, 'wrong': 1586, 'buttons': 197, 'black': 156, 'sudden': 1343, 'file': 542, 'browser': 185, 'offers': 951, 'options': 966, 'needs': 920, '510': 18, 'issues': 742, 'key': 763, 'pad': 990, 'lit': 810, 'tools': 1422, 'must': 912, 'linking': 806, '8530': 23, 'curve': 349, 'ipods': 738, 'self': 1218, 'portraits': 1051, 'outside': 978, 'exterior': 511, 'embarrassing': 468, 'mostly': 899, 'child': 259, 'vx9900': 1502, 'env': 479, 'painful': 991, 'once': 956, 'through': 1397, 'provides': 1088, 'classy': 267, 'fantastic': 526, 'earphones': 449, 'balance': 124, 'costs': 328, 'greater': 628, 'bitpim': 155, 'program': 1076, 'transfer': 1431, 'fact': 518, 'rests': 1163, 'lightly': 799, 'against': 56, 'rather': 1112, 'receiving': 1131, 'pitiful': 1025, 'respect': 1158, 'lap': 778, 'simpler': 1258, 'fliptop': 560, 'loose': 826, 'wobbly': 1566, 'eventually': 487, 'receive': 1129, 'catching': 233, 'seat': 1209, 'ended': 471, 'sliding': 1271, 'edge': 458, 'pants': 997, 'pockets': 1046, 'verizon': 1492, 'adapters': 46, '350': 11, 'jabra350': 748, '3o': 13, 'glasses': 614, 'mistake': 888, 'supposedly': 1351, '375': 12, 'apparently': 92, 'pay': 1003, 'pictures': 1023, 'lense': 792, 'covered': 337, 'im': 696, 'surprised': 1355, 'psyched': 1089, 'appointments': 96, 'least': 789, 'mins': 883, 'short': 1244, 'study': 1335, 'interested': 730, 'sins': 1261, 'industrial': 715, 'state': 1317, 'allow': 61, 'usage': 1474, 'driving': 429, 'boy': 177, 'cheaper': 255, 'neither': 922, 'cuts': 353, 'beep': 141, 'competitors': 296, '680': 20, 'modest': 891, 'cellular': 241, 'describe': 374, 'ready': 1119, 'prime': 1067, 'care': 223, 'tell': 1369, 'coming': 285, 'exchanged': 500, 'someone': 1289, 'shouldve': 1248, 'invented': 734, 'sooner': 1296, 'riingtones': 1174, 'recharge': 1134, '4s': 16, 'despite': 379, 'connecting': 309, 'multiple': 911, 'power': 1056, 'sources': 1302, 'imac': 697, 'external': 512, 'wall': 1509, 'outlet': 977, 'adorable': 51, 'utter': 1484, 'open': 961, 'allowing': 62, 'slide': 1270, 'grip': 630, 'prevents': 1063, 'slipping': 1273, 'waaay': 1504, 'plenty': 1041, 'capacity': 220, 'confortable': 305, 'somewhat': 1292, 'extended': 510, 'periods': 1016, 'overnight': 982, 'jawbone': 750, 'era': 481, 'huge': 684, 'flaw': 555, 'correctly': 326, 'happened': 641, 'tracking': 1429, 'wind': 1552, 'resistant': 1156, 'rotating': 1185, 'ant': 84, 'prompt': 1078, 'fabulous': 515, 'forgeries': 569, 'abound': 27, 'creaks': 344, 'wooden': 1571, 'floor': 561, 'together': 1414, 'restart': 1160, 'saggy': 1190, 'floppy': 562, 'posted': 1054, 'detailed': 383, 'comments': 286, 'grey': 629, 'decision': 366, 'upbeat': 1468, 'clicks': 272, 'wonder': 1568, 'mechanism': 863, 'effects': 461, 'play': 1033, 'video': 1494, 'whine': 1542, 'needless': 919, 'loudest': 835, 'setting': 1228, 'tick': 1399, 'maintains': 847, 'flawless': 556, 'normal': 936, '50': 17, 'motorolas': 904, 'mainly': 845, 'soon': 1295, 'purchasing': 1096, 'website': 1527, 'followed': 565, 'directions': 394, 'defective': 369, 'armband': 100, 'trash': 1433, 'thin': 1385, 'scary': 1202, 'deaf': 362, 'videos': 1495, 'adapter': 45, 'provide': 1086, 'current': 347, 'getting': 606, 'third': 1389, 'numerous': 944, 'palms': 996, 'd807': 354, 'wrongly': 1587, 'passed': 1001, 'mark': 855, 'shows': 1251, 'signs': 1256, '100': 1, 'functional': 593, 'pros': 1081, 'styles': 1338, 'ones': 958, 'properly': 1080, 'clips': 274, 'specially': 1306, 'buyers': 200, 'remorse': 1146, 'complaints': 300, 'regarding': 1142, 'tone': 1417, 'though': 1393, 'investment': 735, 'month': 894, 'cingulair': 264, 'nicer': 929, 'usefulness': 1479, 'wit': 1562, 'hit': 669, 'accidentally': 37, 'activate': 40, 'gentle': 602, 'touch': 1427, 'listening': 809, 'awsome': 120, 'upload': 1470, 'sony': 1294, 'ericson': 482, 'z500a': 1594, 'understanding': 1455, 'patient': 1002, 'timely': 1404, 'shipment': 1240, 'research': 1155, 'development': 384, 'division': 411, 'knows': 773, 're': 1115, 'doing': 417, 'earpad': 447, 'jiggle': 752, 'seperated': 1223, 'mere': 871, 'ft': 587, 'excessive': 498, 'garbled': 598, 'slowly': 1275, 'missed': 887, 'reccomendation': 1126, 'relative': 1144, 'lasting': 782, 'frequentyly': 581, 'arguing': 99, 'returned': 1166, 'explain': 509, 'jack': 749, 'ok': 953, 'totally': 1426, 'unintelligible': 1458, 'understand': 1454, 'word': 1572, 'buyit': 202, 'colors': 278, 'talking': 1364, 'shouting': 1249, 'telephone': 1368, 'hour': 677, 'entire': 478, 'soyo': 1303, 'technology': 1367, 'trouble': 1440, 'wasting': 1519, 'hype': 689, 'assumed': 107, 'girl': 608, 'complain': 297, 'wake': 1506, 'owner': 986, 'integrated': 728, 'seamlessly': 1207, '2000': 8, 'cellphones': 240, 'planning': 1030, 'quit': 1105, '18': 6, 'owned': 985, 'walked': 1507, 'procedures': 1073, 'wiping': 1556, 'looses': 827, 'feet': 537, 'house': 680, 'upstairs': 1471, 'basement': 129, 'sold': 1286, 'roam': 1181, 'living': 813, 'room': 1184, 'h500': 633, 'defeats': 367, 'purpose': 1097, 'wouldn': 1584, 'tungsten': 1443, 'e2': 439, 'fulfills': 588, 'requirements': 1154, 'antena': 85, 'liked': 803, 'except': 497, 'cbr': 236, 'mp3s': 907, 'preferably': 1060, 'ripped': 1179, 'windows': 1554, 'media': 864, 'infatuated': 718, 'sister': 1262, 'total': 1425, 'package': 988, 'friends': 583, 'enjoy': 474, 'performed': 1013, 'muffled': 910, 'incoming': 709, 'severe': 1231, 'searched': 1208, 'transformed': 1432, 'organizational': 969, 'capability': 219, 'jerks': 751, 'gosh': 623, 'bmw': 165, 'series': 1224, 'fairly': 521, 'hearing': 659}\n"
          ]
        }
      ]
    },
    {
      "cell_type": "code",
      "metadata": {
        "id": "tWBIDfafKunO",
        "colab": {
          "base_uri": "https://localhost:8080/"
        },
        "outputId": "3e31a0e9-3016-40ec-be0f-06902d79091b"
      },
      "source": [
        "from sklearn.linear_model import LogisticRegression\n",
        "classifier = LogisticRegression()\n",
        "classifier.fit(X_train, y_train)\n",
        "\n",
        "\n",
        "\n",
        "score = classifier.score(X_test, y_test)\n",
        "print(\"Accuracy:\", score)"
      ],
      "execution_count": null,
      "outputs": [
        {
          "output_type": "stream",
          "name": "stdout",
          "text": [
            "Accuracy: 0.8\n"
          ]
        }
      ]
    },
    {
      "cell_type": "code",
      "metadata": {
        "id": "vjRNgdrmNbRN",
        "colab": {
          "base_uri": "https://localhost:8080/"
        },
        "outputId": "c3d3e3f0-4e15-4857-fe86-06203e3f3dea"
      },
      "source": [
        "unknown = pd.DataFrame({'sentence': [\n",
        "    \"I love love love love this kitten\",\n",
        "    \"I hate hate hate hate this keyboard\",\n",
        "    \"I'm not sure how I feel about toast\",\n",
        "    \"Did you see the baseball game yesterday?\",\n",
        "    \"It is lovely, I like it\",\n",
        "    \"Trashy television shows are some of my favorites\",\n",
        "    \"I'm seeing a Kubrick film tomorrow, I hear not so great things about it.\",\n",
        "    \"I find chirping birds irritating, but I know I'm not the only one\",\n",
        "]})\n",
        "\n",
        "print(unknown)"
      ],
      "execution_count": null,
      "outputs": [
        {
          "output_type": "stream",
          "name": "stdout",
          "text": [
            "                                            sentence\n",
            "0                  I love love love love this kitten\n",
            "1                I hate hate hate hate this keyboard\n",
            "2                I'm not sure how I feel about toast\n",
            "3           Did you see the baseball game yesterday?\n",
            "4                            It is lovely, I like it\n",
            "5   Trashy television shows are some of my favorites\n",
            "6  I'm seeing a Kubrick film tomorrow, I hear not...\n",
            "7  I find chirping birds irritating, but I know I...\n"
          ]
        }
      ]
    },
    {
      "cell_type": "code",
      "metadata": {
        "id": "Q1Yt47KmNxW8"
      },
      "source": [
        "unknown_vectors = vectorizer.transform(unknown.sentence)\n",
        "unknown_words_df = pd.DataFrame(unknown_vectors.toarray(), columns=vectorizer.get_feature_names_out())"
      ],
      "execution_count": null,
      "outputs": []
    },
    {
      "cell_type": "code",
      "metadata": {
        "id": "gevYgeNeNxKV",
        "colab": {
          "base_uri": "https://localhost:8080/",
          "height": 330
        },
        "outputId": "0b8be216-57c5-424b-d181-880c711c1e1d"
      },
      "source": [
        "unknown_words_df.head(8)"
      ],
      "execution_count": null,
      "outputs": [
        {
          "output_type": "execute_result",
          "data": {
            "text/plain": [
              "   10  100  11  12  13  15  18  20  2000  2005  ...  wow  wrong  wrongly  \\\n",
              "0   0    0   0   0   0   0   0   0     0     0  ...    0      0        0   \n",
              "1   0    0   0   0   0   0   0   0     0     0  ...    0      0        0   \n",
              "2   0    0   0   0   0   0   0   0     0     0  ...    0      0        0   \n",
              "3   0    0   0   0   0   0   0   0     0     0  ...    0      0        0   \n",
              "4   0    0   0   0   0   0   0   0     0     0  ...    0      0        0   \n",
              "5   0    0   0   0   0   0   0   0     0     0  ...    0      0        0   \n",
              "6   0    0   0   0   0   0   0   0     0     0  ...    0      0        0   \n",
              "7   0    0   0   0   0   0   0   0     0     0  ...    0      0        0   \n",
              "\n",
              "   year  years  yes  yet  you  your  z500a  \n",
              "0     0      0    0    0    0     0      0  \n",
              "1     0      0    0    0    0     0      0  \n",
              "2     0      0    0    0    0     0      0  \n",
              "3     0      0    0    0    1     0      0  \n",
              "4     0      0    0    0    0     0      0  \n",
              "5     0      0    0    0    0     0      0  \n",
              "6     0      0    0    0    0     0      0  \n",
              "7     0      0    0    0    0     0      0  \n",
              "\n",
              "[8 rows x 1595 columns]"
            ],
            "text/html": [
              "\n",
              "\n",
              "  <div id=\"df-0ca41c14-7d1b-4b5d-8231-f1172c58042e\">\n",
              "    <div class=\"colab-df-container\">\n",
              "      <div>\n",
              "<style scoped>\n",
              "    .dataframe tbody tr th:only-of-type {\n",
              "        vertical-align: middle;\n",
              "    }\n",
              "\n",
              "    .dataframe tbody tr th {\n",
              "        vertical-align: top;\n",
              "    }\n",
              "\n",
              "    .dataframe thead th {\n",
              "        text-align: right;\n",
              "    }\n",
              "</style>\n",
              "<table border=\"1\" class=\"dataframe\">\n",
              "  <thead>\n",
              "    <tr style=\"text-align: right;\">\n",
              "      <th></th>\n",
              "      <th>10</th>\n",
              "      <th>100</th>\n",
              "      <th>11</th>\n",
              "      <th>12</th>\n",
              "      <th>13</th>\n",
              "      <th>15</th>\n",
              "      <th>18</th>\n",
              "      <th>20</th>\n",
              "      <th>2000</th>\n",
              "      <th>2005</th>\n",
              "      <th>...</th>\n",
              "      <th>wow</th>\n",
              "      <th>wrong</th>\n",
              "      <th>wrongly</th>\n",
              "      <th>year</th>\n",
              "      <th>years</th>\n",
              "      <th>yes</th>\n",
              "      <th>yet</th>\n",
              "      <th>you</th>\n",
              "      <th>your</th>\n",
              "      <th>z500a</th>\n",
              "    </tr>\n",
              "  </thead>\n",
              "  <tbody>\n",
              "    <tr>\n",
              "      <th>0</th>\n",
              "      <td>0</td>\n",
              "      <td>0</td>\n",
              "      <td>0</td>\n",
              "      <td>0</td>\n",
              "      <td>0</td>\n",
              "      <td>0</td>\n",
              "      <td>0</td>\n",
              "      <td>0</td>\n",
              "      <td>0</td>\n",
              "      <td>0</td>\n",
              "      <td>...</td>\n",
              "      <td>0</td>\n",
              "      <td>0</td>\n",
              "      <td>0</td>\n",
              "      <td>0</td>\n",
              "      <td>0</td>\n",
              "      <td>0</td>\n",
              "      <td>0</td>\n",
              "      <td>0</td>\n",
              "      <td>0</td>\n",
              "      <td>0</td>\n",
              "    </tr>\n",
              "    <tr>\n",
              "      <th>1</th>\n",
              "      <td>0</td>\n",
              "      <td>0</td>\n",
              "      <td>0</td>\n",
              "      <td>0</td>\n",
              "      <td>0</td>\n",
              "      <td>0</td>\n",
              "      <td>0</td>\n",
              "      <td>0</td>\n",
              "      <td>0</td>\n",
              "      <td>0</td>\n",
              "      <td>...</td>\n",
              "      <td>0</td>\n",
              "      <td>0</td>\n",
              "      <td>0</td>\n",
              "      <td>0</td>\n",
              "      <td>0</td>\n",
              "      <td>0</td>\n",
              "      <td>0</td>\n",
              "      <td>0</td>\n",
              "      <td>0</td>\n",
              "      <td>0</td>\n",
              "    </tr>\n",
              "    <tr>\n",
              "      <th>2</th>\n",
              "      <td>0</td>\n",
              "      <td>0</td>\n",
              "      <td>0</td>\n",
              "      <td>0</td>\n",
              "      <td>0</td>\n",
              "      <td>0</td>\n",
              "      <td>0</td>\n",
              "      <td>0</td>\n",
              "      <td>0</td>\n",
              "      <td>0</td>\n",
              "      <td>...</td>\n",
              "      <td>0</td>\n",
              "      <td>0</td>\n",
              "      <td>0</td>\n",
              "      <td>0</td>\n",
              "      <td>0</td>\n",
              "      <td>0</td>\n",
              "      <td>0</td>\n",
              "      <td>0</td>\n",
              "      <td>0</td>\n",
              "      <td>0</td>\n",
              "    </tr>\n",
              "    <tr>\n",
              "      <th>3</th>\n",
              "      <td>0</td>\n",
              "      <td>0</td>\n",
              "      <td>0</td>\n",
              "      <td>0</td>\n",
              "      <td>0</td>\n",
              "      <td>0</td>\n",
              "      <td>0</td>\n",
              "      <td>0</td>\n",
              "      <td>0</td>\n",
              "      <td>0</td>\n",
              "      <td>...</td>\n",
              "      <td>0</td>\n",
              "      <td>0</td>\n",
              "      <td>0</td>\n",
              "      <td>0</td>\n",
              "      <td>0</td>\n",
              "      <td>0</td>\n",
              "      <td>0</td>\n",
              "      <td>1</td>\n",
              "      <td>0</td>\n",
              "      <td>0</td>\n",
              "    </tr>\n",
              "    <tr>\n",
              "      <th>4</th>\n",
              "      <td>0</td>\n",
              "      <td>0</td>\n",
              "      <td>0</td>\n",
              "      <td>0</td>\n",
              "      <td>0</td>\n",
              "      <td>0</td>\n",
              "      <td>0</td>\n",
              "      <td>0</td>\n",
              "      <td>0</td>\n",
              "      <td>0</td>\n",
              "      <td>...</td>\n",
              "      <td>0</td>\n",
              "      <td>0</td>\n",
              "      <td>0</td>\n",
              "      <td>0</td>\n",
              "      <td>0</td>\n",
              "      <td>0</td>\n",
              "      <td>0</td>\n",
              "      <td>0</td>\n",
              "      <td>0</td>\n",
              "      <td>0</td>\n",
              "    </tr>\n",
              "    <tr>\n",
              "      <th>5</th>\n",
              "      <td>0</td>\n",
              "      <td>0</td>\n",
              "      <td>0</td>\n",
              "      <td>0</td>\n",
              "      <td>0</td>\n",
              "      <td>0</td>\n",
              "      <td>0</td>\n",
              "      <td>0</td>\n",
              "      <td>0</td>\n",
              "      <td>0</td>\n",
              "      <td>...</td>\n",
              "      <td>0</td>\n",
              "      <td>0</td>\n",
              "      <td>0</td>\n",
              "      <td>0</td>\n",
              "      <td>0</td>\n",
              "      <td>0</td>\n",
              "      <td>0</td>\n",
              "      <td>0</td>\n",
              "      <td>0</td>\n",
              "      <td>0</td>\n",
              "    </tr>\n",
              "    <tr>\n",
              "      <th>6</th>\n",
              "      <td>0</td>\n",
              "      <td>0</td>\n",
              "      <td>0</td>\n",
              "      <td>0</td>\n",
              "      <td>0</td>\n",
              "      <td>0</td>\n",
              "      <td>0</td>\n",
              "      <td>0</td>\n",
              "      <td>0</td>\n",
              "      <td>0</td>\n",
              "      <td>...</td>\n",
              "      <td>0</td>\n",
              "      <td>0</td>\n",
              "      <td>0</td>\n",
              "      <td>0</td>\n",
              "      <td>0</td>\n",
              "      <td>0</td>\n",
              "      <td>0</td>\n",
              "      <td>0</td>\n",
              "      <td>0</td>\n",
              "      <td>0</td>\n",
              "    </tr>\n",
              "    <tr>\n",
              "      <th>7</th>\n",
              "      <td>0</td>\n",
              "      <td>0</td>\n",
              "      <td>0</td>\n",
              "      <td>0</td>\n",
              "      <td>0</td>\n",
              "      <td>0</td>\n",
              "      <td>0</td>\n",
              "      <td>0</td>\n",
              "      <td>0</td>\n",
              "      <td>0</td>\n",
              "      <td>...</td>\n",
              "      <td>0</td>\n",
              "      <td>0</td>\n",
              "      <td>0</td>\n",
              "      <td>0</td>\n",
              "      <td>0</td>\n",
              "      <td>0</td>\n",
              "      <td>0</td>\n",
              "      <td>0</td>\n",
              "      <td>0</td>\n",
              "      <td>0</td>\n",
              "    </tr>\n",
              "  </tbody>\n",
              "</table>\n",
              "<p>8 rows × 1595 columns</p>\n",
              "</div>\n",
              "      <button class=\"colab-df-convert\" onclick=\"convertToInteractive('df-0ca41c14-7d1b-4b5d-8231-f1172c58042e')\"\n",
              "              title=\"Convert this dataframe to an interactive table.\"\n",
              "              style=\"display:none;\">\n",
              "\n",
              "  <svg xmlns=\"http://www.w3.org/2000/svg\" height=\"24px\"viewBox=\"0 0 24 24\"\n",
              "       width=\"24px\">\n",
              "    <path d=\"M0 0h24v24H0V0z\" fill=\"none\"/>\n",
              "    <path d=\"M18.56 5.44l.94 2.06.94-2.06 2.06-.94-2.06-.94-.94-2.06-.94 2.06-2.06.94zm-11 1L8.5 8.5l.94-2.06 2.06-.94-2.06-.94L8.5 2.5l-.94 2.06-2.06.94zm10 10l.94 2.06.94-2.06 2.06-.94-2.06-.94-.94-2.06-.94 2.06-2.06.94z\"/><path d=\"M17.41 7.96l-1.37-1.37c-.4-.4-.92-.59-1.43-.59-.52 0-1.04.2-1.43.59L10.3 9.45l-7.72 7.72c-.78.78-.78 2.05 0 2.83L4 21.41c.39.39.9.59 1.41.59.51 0 1.02-.2 1.41-.59l7.78-7.78 2.81-2.81c.8-.78.8-2.07 0-2.86zM5.41 20L4 18.59l7.72-7.72 1.47 1.35L5.41 20z\"/>\n",
              "  </svg>\n",
              "      </button>\n",
              "\n",
              "\n",
              "\n",
              "    <div id=\"df-c2a97afc-c945-4012-822e-b33c8e87c0d3\">\n",
              "      <button class=\"colab-df-quickchart\" onclick=\"quickchart('df-c2a97afc-c945-4012-822e-b33c8e87c0d3')\"\n",
              "              title=\"Suggest charts.\"\n",
              "              style=\"display:none;\">\n",
              "\n",
              "<svg xmlns=\"http://www.w3.org/2000/svg\" height=\"24px\"viewBox=\"0 0 24 24\"\n",
              "     width=\"24px\">\n",
              "    <g>\n",
              "        <path d=\"M19 3H5c-1.1 0-2 .9-2 2v14c0 1.1.9 2 2 2h14c1.1 0 2-.9 2-2V5c0-1.1-.9-2-2-2zM9 17H7v-7h2v7zm4 0h-2V7h2v10zm4 0h-2v-4h2v4z\"/>\n",
              "    </g>\n",
              "</svg>\n",
              "      </button>\n",
              "    </div>\n",
              "\n",
              "<style>\n",
              "  .colab-df-quickchart {\n",
              "    background-color: #E8F0FE;\n",
              "    border: none;\n",
              "    border-radius: 50%;\n",
              "    cursor: pointer;\n",
              "    display: none;\n",
              "    fill: #1967D2;\n",
              "    height: 32px;\n",
              "    padding: 0 0 0 0;\n",
              "    width: 32px;\n",
              "  }\n",
              "\n",
              "  .colab-df-quickchart:hover {\n",
              "    background-color: #E2EBFA;\n",
              "    box-shadow: 0px 1px 2px rgba(60, 64, 67, 0.3), 0px 1px 3px 1px rgba(60, 64, 67, 0.15);\n",
              "    fill: #174EA6;\n",
              "  }\n",
              "\n",
              "  [theme=dark] .colab-df-quickchart {\n",
              "    background-color: #3B4455;\n",
              "    fill: #D2E3FC;\n",
              "  }\n",
              "\n",
              "  [theme=dark] .colab-df-quickchart:hover {\n",
              "    background-color: #434B5C;\n",
              "    box-shadow: 0px 1px 3px 1px rgba(0, 0, 0, 0.15);\n",
              "    filter: drop-shadow(0px 1px 2px rgba(0, 0, 0, 0.3));\n",
              "    fill: #FFFFFF;\n",
              "  }\n",
              "</style>\n",
              "\n",
              "    <script>\n",
              "      async function quickchart(key) {\n",
              "        const containerElement = document.querySelector('#' + key);\n",
              "        const charts = await google.colab.kernel.invokeFunction(\n",
              "            'suggestCharts', [key], {});\n",
              "      }\n",
              "    </script>\n",
              "\n",
              "      <script>\n",
              "\n",
              "function displayQuickchartButton(domScope) {\n",
              "  let quickchartButtonEl =\n",
              "    domScope.querySelector('#df-c2a97afc-c945-4012-822e-b33c8e87c0d3 button.colab-df-quickchart');\n",
              "  quickchartButtonEl.style.display =\n",
              "    google.colab.kernel.accessAllowed ? 'block' : 'none';\n",
              "}\n",
              "\n",
              "        displayQuickchartButton(document);\n",
              "      </script>\n",
              "      <style>\n",
              "    .colab-df-container {\n",
              "      display:flex;\n",
              "      flex-wrap:wrap;\n",
              "      gap: 12px;\n",
              "    }\n",
              "\n",
              "    .colab-df-convert {\n",
              "      background-color: #E8F0FE;\n",
              "      border: none;\n",
              "      border-radius: 50%;\n",
              "      cursor: pointer;\n",
              "      display: none;\n",
              "      fill: #1967D2;\n",
              "      height: 32px;\n",
              "      padding: 0 0 0 0;\n",
              "      width: 32px;\n",
              "    }\n",
              "\n",
              "    .colab-df-convert:hover {\n",
              "      background-color: #E2EBFA;\n",
              "      box-shadow: 0px 1px 2px rgba(60, 64, 67, 0.3), 0px 1px 3px 1px rgba(60, 64, 67, 0.15);\n",
              "      fill: #174EA6;\n",
              "    }\n",
              "\n",
              "    [theme=dark] .colab-df-convert {\n",
              "      background-color: #3B4455;\n",
              "      fill: #D2E3FC;\n",
              "    }\n",
              "\n",
              "    [theme=dark] .colab-df-convert:hover {\n",
              "      background-color: #434B5C;\n",
              "      box-shadow: 0px 1px 3px 1px rgba(0, 0, 0, 0.15);\n",
              "      filter: drop-shadow(0px 1px 2px rgba(0, 0, 0, 0.3));\n",
              "      fill: #FFFFFF;\n",
              "    }\n",
              "  </style>\n",
              "\n",
              "      <script>\n",
              "        const buttonEl =\n",
              "          document.querySelector('#df-0ca41c14-7d1b-4b5d-8231-f1172c58042e button.colab-df-convert');\n",
              "        buttonEl.style.display =\n",
              "          google.colab.kernel.accessAllowed ? 'block' : 'none';\n",
              "\n",
              "        async function convertToInteractive(key) {\n",
              "          const element = document.querySelector('#df-0ca41c14-7d1b-4b5d-8231-f1172c58042e');\n",
              "          const dataTable =\n",
              "            await google.colab.kernel.invokeFunction('convertToInteractive',\n",
              "                                                     [key], {});\n",
              "          if (!dataTable) return;\n",
              "\n",
              "          const docLinkHtml = 'Like what you see? Visit the ' +\n",
              "            '<a target=\"_blank\" href=https://colab.research.google.com/notebooks/data_table.ipynb>data table notebook</a>'\n",
              "            + ' to learn more about interactive tables.';\n",
              "          element.innerHTML = '';\n",
              "          dataTable['output_type'] = 'display_data';\n",
              "          await google.colab.output.renderOutput(dataTable, element);\n",
              "          const docLink = document.createElement('div');\n",
              "          docLink.innerHTML = docLinkHtml;\n",
              "          element.appendChild(docLink);\n",
              "        }\n",
              "      </script>\n",
              "    </div>\n",
              "  </div>\n"
            ]
          },
          "metadata": {},
          "execution_count": 55
        }
      ]
    },
    {
      "cell_type": "code",
      "metadata": {
        "id": "P7fGJfoLOQK_",
        "colab": {
          "base_uri": "https://localhost:8080/"
        },
        "outputId": "892bf6b8-76c2-425f-ac43-2fd7b0be661c"
      },
      "source": [
        "# Logistic Regression predictions + probabilities\n",
        "unknown['class'] = classifier.predict(unknown_words_df)\n",
        "unknown['pred_logreg_proba'] = classifier.predict_proba(unknown_words_df)[:,1]\n",
        "\n",
        "print(unknown)"
      ],
      "execution_count": null,
      "outputs": [
        {
          "output_type": "stream",
          "name": "stdout",
          "text": [
            "                                            sentence  class  pred_logreg_proba\n",
            "0                  I love love love love this kitten      1           0.998792\n",
            "1                I hate hate hate hate this keyboard      0           0.301784\n",
            "2                I'm not sure how I feel about toast      0           0.086739\n",
            "3           Did you see the baseball game yesterday?      0           0.454636\n",
            "4                            It is lovely, I like it      1           0.566694\n",
            "5   Trashy television shows are some of my favorites      0           0.481557\n",
            "6  I'm seeing a Kubrick film tomorrow, I hear not...      0           0.429498\n",
            "7  I find chirping birds irritating, but I know I...      0           0.062242\n"
          ]
        },
        {
          "output_type": "stream",
          "name": "stderr",
          "text": [
            "/usr/local/lib/python3.10/dist-packages/sklearn/base.py:432: UserWarning: X has feature names, but LogisticRegression was fitted without feature names\n",
            "  warnings.warn(\n",
            "/usr/local/lib/python3.10/dist-packages/sklearn/base.py:432: UserWarning: X has feature names, but LogisticRegression was fitted without feature names\n",
            "  warnings.warn(\n"
          ]
        }
      ]
    },
    {
      "cell_type": "markdown",
      "metadata": {
        "id": "51QNTPMAs_OX"
      },
      "source": [
        "# Vector TF-IDF"
      ]
    },
    {
      "cell_type": "code",
      "metadata": {
        "id": "HJCOQY9ztDUM",
        "colab": {
          "base_uri": "https://localhost:8080/"
        },
        "outputId": "ba07978e-cf0c-4027-dfe3-53b7cb193ef3"
      },
      "source": [
        "from sklearn.feature_extraction.text import TfidfVectorizer\n",
        "import pandas as pd\n",
        "\n",
        "document = [\"The man went out for a walk\", \"The children sat around the fire\", \"The man sat around the water\"]\n",
        "print(document)\n"
      ],
      "execution_count": null,
      "outputs": [
        {
          "output_type": "stream",
          "name": "stdout",
          "text": [
            "['The man went out for a walk', 'The children sat around the fire', 'The man sat around the water']\n"
          ]
        }
      ]
    },
    {
      "cell_type": "code",
      "metadata": {
        "id": "D72UWjhFuXd5",
        "colab": {
          "base_uri": "https://localhost:8080/"
        },
        "outputId": "e28bd690-d44f-474b-dd08-65c1f7c9bbb1"
      },
      "source": [
        "#Repeat TfidfVectorizer\n",
        "vectorizer = TfidfVectorizer()\n",
        "sparse_matrix = vectorizer.fit_transform(document)\n",
        "doc_term_matrix = sparse_matrix.todense()\n",
        "\n",
        "print(doc_term_matrix)"
      ],
      "execution_count": null,
      "outputs": [
        {
          "output_type": "stream",
          "name": "stdout",
          "text": [
            "[[0.         0.         0.         0.45050407 0.34261996 0.45050407\n",
            "  0.         0.26607496 0.45050407 0.         0.45050407]\n",
            " [0.3564574  0.46869865 0.46869865 0.         0.         0.\n",
            "  0.3564574  0.55364194 0.         0.         0.        ]\n",
            " [0.37420726 0.         0.         0.         0.37420726 0.\n",
            "  0.37420726 0.58121064 0.         0.49203758 0.        ]]\n"
          ]
        }
      ]
    },
    {
      "cell_type": "code",
      "metadata": {
        "id": "CeG-mMM-vKF7",
        "colab": {
          "base_uri": "https://localhost:8080/"
        },
        "outputId": "0fdcb548-d5b5-433b-ecce-8e8fb445bd3a"
      },
      "source": [
        "df = pd.DataFrame(doc_term_matrix,\n",
        "                  columns = vectorizer.get_feature_names_out(),\n",
        "                  index = ['docA', 'docB', 'docC'])\n",
        "print(df)"
      ],
      "execution_count": null,
      "outputs": [
        {
          "output_type": "stream",
          "name": "stdout",
          "text": [
            "        around  children      fire       for       man       out       sat  \\\n",
            "docA  0.000000  0.000000  0.000000  0.450504  0.342620  0.450504  0.000000   \n",
            "docB  0.356457  0.468699  0.468699  0.000000  0.000000  0.000000  0.356457   \n",
            "docC  0.374207  0.000000  0.000000  0.000000  0.374207  0.000000  0.374207   \n",
            "\n",
            "           the      walk     water      went  \n",
            "docA  0.266075  0.450504  0.000000  0.450504  \n",
            "docB  0.553642  0.000000  0.000000  0.000000  \n",
            "docC  0.581211  0.000000  0.492038  0.000000  \n"
          ]
        }
      ]
    },
    {
      "cell_type": "markdown",
      "metadata": {
        "id": "1He2k-9Av5g5"
      },
      "source": [
        "# TF-IDF+LogisticRegression"
      ]
    },
    {
      "cell_type": "code",
      "metadata": {
        "id": "jCXh3oSFv3_p",
        "colab": {
          "base_uri": "https://localhost:8080/"
        },
        "outputId": "0a57c125-64f3-4c9a-fcab-b37fded69161"
      },
      "source": [
        "from sklearn.feature_extraction.text import TfidfVectorizer\n",
        "import pandas as pd\n",
        "df = pd.read_csv('/content/drive/MyDrive/Colab Notebooks/diabetes.csv',\n",
        "                 names=['sentence','label'],sep = '\\t')\n",
        "print(df.head(5))"
      ],
      "execution_count": null,
      "outputs": [
        {
          "output_type": "stream",
          "name": "stdout",
          "text": [
            "                                            sentence  label\n",
            "0  Pregnancies,Glucose,BloodPressure,SkinThicknes...    NaN\n",
            "1                      6,148,72,35,0,33.6,0.627,50,1    NaN\n",
            "2                       1,85,66,29,0,26.6,0.351,31,0    NaN\n",
            "3                       8,183,64,0,0,23.3,0.672,32,1    NaN\n",
            "4                      1,89,66,23,94,28.1,0.167,21,0    NaN\n"
          ]
        }
      ]
    },
    {
      "cell_type": "code",
      "metadata": {
        "id": "EbSAXi-BwbZL",
        "colab": {
          "base_uri": "https://localhost:8080/"
        },
        "outputId": "32228543-9567-436f-d50c-53878c12c527"
      },
      "source": [
        "print(df.shape)\n",
        "print(df.label.value_counts())\n",
        "\n",
        "from sklearn.model_selection import train_test_split\n",
        "sentences = df['sentence'].values\n",
        "y = df['label'].values"
      ],
      "execution_count": null,
      "outputs": [
        {
          "output_type": "stream",
          "name": "stdout",
          "text": [
            "(769, 2)\n",
            "Series([], Name: label, dtype: int64)\n"
          ]
        }
      ]
    },
    {
      "cell_type": "code",
      "metadata": {
        "id": "EzTh-H0tw01M"
      },
      "source": [
        "sentences_train, sentences_test, y_train, y_test = train_test_split(sentences, y, test_size=0.20, random_state=1000)\n",
        "vectorizer_tfidf = TfidfVectorizer(max_features=1000)"
      ],
      "execution_count": null,
      "outputs": []
    },
    {
      "cell_type": "code",
      "metadata": {
        "id": "H7kgA8XFy2dm"
      },
      "source": [
        "train_vector = vectorizer_tfidf.fit(sentences_train)\n",
        "train_vector =  vectorizer_tfidf.transform(sentences_train)\n",
        "doc_term_matrix = train_vector.todense()\n",
        "print(vectorizer_tfidf.get_feature_names_out())\n",
        "df = pd.DataFrame(doc_term_matrix,columns = vectorizer_tfidf.get_feature_names_out())\n",
        "print(df)"
      ],
      "execution_count": null,
      "outputs": []
    },
    {
      "cell_type": "code",
      "metadata": {
        "id": "jvlvaZjo20A5"
      },
      "source": [
        "test_vector = vectorizer_tfidf.transform(sentences_test)\n",
        "doc_term_matrix = test_vector.todense()\n",
        "print(vectorizer_tfidf.get_feature_names_out())\n",
        "df = pd.DataFrame(doc_term_matrix,columns = vectorizer_tfidf.get_feature_names_out())\n",
        "print(df)"
      ],
      "execution_count": null,
      "outputs": []
    },
    {
      "cell_type": "code",
      "metadata": {
        "id": "c8m8Te7f3QcP",
        "colab": {
          "base_uri": "https://localhost:8080/",
          "height": 426
        },
        "outputId": "4acd9aa4-9337-426b-97f9-346f7625571c"
      },
      "source": [
        "%%time\n",
        "from sklearn.linear_model import LogisticRegression\n",
        "classifier = LogisticRegression()\n",
        "classifier.fit(train_vector, y_train)\n",
        "\n",
        "score = classifier.score(test_vector, y_test)\n",
        "print(\"Accuracy:\", score)\n",
        "\n",
        "\n",
        "y_predict = classifier.predict(test_vector)\n",
        "print(y_predict)\n",
        "print(y_test)"
      ],
      "execution_count": null,
      "outputs": [
        {
          "output_type": "error",
          "ename": "ValueError",
          "evalue": "ignored",
          "traceback": [
            "\u001b[0;31m---------------------------------------------------------------------------\u001b[0m",
            "\u001b[0;31mValueError\u001b[0m                                Traceback (most recent call last)",
            "\u001b[0;32m<timed exec>\u001b[0m in \u001b[0;36m<module>\u001b[0;34m\u001b[0m\n",
            "\u001b[0;32m/usr/local/lib/python3.10/dist-packages/sklearn/linear_model/_logistic.py\u001b[0m in \u001b[0;36mfit\u001b[0;34m(self, X, y, sample_weight)\u001b[0m\n\u001b[1;32m   1194\u001b[0m             \u001b[0m_dtype\u001b[0m \u001b[0;34m=\u001b[0m \u001b[0;34m[\u001b[0m\u001b[0mnp\u001b[0m\u001b[0;34m.\u001b[0m\u001b[0mfloat64\u001b[0m\u001b[0;34m,\u001b[0m \u001b[0mnp\u001b[0m\u001b[0;34m.\u001b[0m\u001b[0mfloat32\u001b[0m\u001b[0;34m]\u001b[0m\u001b[0;34m\u001b[0m\u001b[0;34m\u001b[0m\u001b[0m\n\u001b[1;32m   1195\u001b[0m \u001b[0;34m\u001b[0m\u001b[0m\n\u001b[0;32m-> 1196\u001b[0;31m         X, y = self._validate_data(\n\u001b[0m\u001b[1;32m   1197\u001b[0m             \u001b[0mX\u001b[0m\u001b[0;34m,\u001b[0m\u001b[0;34m\u001b[0m\u001b[0;34m\u001b[0m\u001b[0m\n\u001b[1;32m   1198\u001b[0m             \u001b[0my\u001b[0m\u001b[0;34m,\u001b[0m\u001b[0;34m\u001b[0m\u001b[0;34m\u001b[0m\u001b[0m\n",
            "\u001b[0;32m/usr/local/lib/python3.10/dist-packages/sklearn/base.py\u001b[0m in \u001b[0;36m_validate_data\u001b[0;34m(self, X, y, reset, validate_separately, **check_params)\u001b[0m\n\u001b[1;32m    582\u001b[0m                 \u001b[0my\u001b[0m \u001b[0;34m=\u001b[0m \u001b[0mcheck_array\u001b[0m\u001b[0;34m(\u001b[0m\u001b[0my\u001b[0m\u001b[0;34m,\u001b[0m \u001b[0minput_name\u001b[0m\u001b[0;34m=\u001b[0m\u001b[0;34m\"y\"\u001b[0m\u001b[0;34m,\u001b[0m \u001b[0;34m**\u001b[0m\u001b[0mcheck_y_params\u001b[0m\u001b[0;34m)\u001b[0m\u001b[0;34m\u001b[0m\u001b[0;34m\u001b[0m\u001b[0m\n\u001b[1;32m    583\u001b[0m             \u001b[0;32melse\u001b[0m\u001b[0;34m:\u001b[0m\u001b[0;34m\u001b[0m\u001b[0;34m\u001b[0m\u001b[0m\n\u001b[0;32m--> 584\u001b[0;31m                 \u001b[0mX\u001b[0m\u001b[0;34m,\u001b[0m \u001b[0my\u001b[0m \u001b[0;34m=\u001b[0m \u001b[0mcheck_X_y\u001b[0m\u001b[0;34m(\u001b[0m\u001b[0mX\u001b[0m\u001b[0;34m,\u001b[0m \u001b[0my\u001b[0m\u001b[0;34m,\u001b[0m \u001b[0;34m**\u001b[0m\u001b[0mcheck_params\u001b[0m\u001b[0;34m)\u001b[0m\u001b[0;34m\u001b[0m\u001b[0;34m\u001b[0m\u001b[0m\n\u001b[0m\u001b[1;32m    585\u001b[0m             \u001b[0mout\u001b[0m \u001b[0;34m=\u001b[0m \u001b[0mX\u001b[0m\u001b[0;34m,\u001b[0m \u001b[0my\u001b[0m\u001b[0;34m\u001b[0m\u001b[0;34m\u001b[0m\u001b[0m\n\u001b[1;32m    586\u001b[0m \u001b[0;34m\u001b[0m\u001b[0m\n",
            "\u001b[0;32m/usr/local/lib/python3.10/dist-packages/sklearn/utils/validation.py\u001b[0m in \u001b[0;36mcheck_X_y\u001b[0;34m(X, y, accept_sparse, accept_large_sparse, dtype, order, copy, force_all_finite, ensure_2d, allow_nd, multi_output, ensure_min_samples, ensure_min_features, y_numeric, estimator)\u001b[0m\n\u001b[1;32m   1120\u001b[0m     )\n\u001b[1;32m   1121\u001b[0m \u001b[0;34m\u001b[0m\u001b[0m\n\u001b[0;32m-> 1122\u001b[0;31m     \u001b[0my\u001b[0m \u001b[0;34m=\u001b[0m \u001b[0m_check_y\u001b[0m\u001b[0;34m(\u001b[0m\u001b[0my\u001b[0m\u001b[0;34m,\u001b[0m \u001b[0mmulti_output\u001b[0m\u001b[0;34m=\u001b[0m\u001b[0mmulti_output\u001b[0m\u001b[0;34m,\u001b[0m \u001b[0my_numeric\u001b[0m\u001b[0;34m=\u001b[0m\u001b[0my_numeric\u001b[0m\u001b[0;34m,\u001b[0m \u001b[0mestimator\u001b[0m\u001b[0;34m=\u001b[0m\u001b[0mestimator\u001b[0m\u001b[0;34m)\u001b[0m\u001b[0;34m\u001b[0m\u001b[0;34m\u001b[0m\u001b[0m\n\u001b[0m\u001b[1;32m   1123\u001b[0m \u001b[0;34m\u001b[0m\u001b[0m\n\u001b[1;32m   1124\u001b[0m     \u001b[0mcheck_consistent_length\u001b[0m\u001b[0;34m(\u001b[0m\u001b[0mX\u001b[0m\u001b[0;34m,\u001b[0m \u001b[0my\u001b[0m\u001b[0;34m)\u001b[0m\u001b[0;34m\u001b[0m\u001b[0;34m\u001b[0m\u001b[0m\n",
            "\u001b[0;32m/usr/local/lib/python3.10/dist-packages/sklearn/utils/validation.py\u001b[0m in \u001b[0;36m_check_y\u001b[0;34m(y, multi_output, y_numeric, estimator)\u001b[0m\n\u001b[1;32m   1142\u001b[0m         \u001b[0mestimator_name\u001b[0m \u001b[0;34m=\u001b[0m \u001b[0m_check_estimator_name\u001b[0m\u001b[0;34m(\u001b[0m\u001b[0mestimator\u001b[0m\u001b[0;34m)\u001b[0m\u001b[0;34m\u001b[0m\u001b[0;34m\u001b[0m\u001b[0m\n\u001b[1;32m   1143\u001b[0m         \u001b[0my\u001b[0m \u001b[0;34m=\u001b[0m \u001b[0mcolumn_or_1d\u001b[0m\u001b[0;34m(\u001b[0m\u001b[0my\u001b[0m\u001b[0;34m,\u001b[0m \u001b[0mwarn\u001b[0m\u001b[0;34m=\u001b[0m\u001b[0;32mTrue\u001b[0m\u001b[0;34m)\u001b[0m\u001b[0;34m\u001b[0m\u001b[0;34m\u001b[0m\u001b[0m\n\u001b[0;32m-> 1144\u001b[0;31m         \u001b[0m_assert_all_finite\u001b[0m\u001b[0;34m(\u001b[0m\u001b[0my\u001b[0m\u001b[0;34m,\u001b[0m \u001b[0minput_name\u001b[0m\u001b[0;34m=\u001b[0m\u001b[0;34m\"y\"\u001b[0m\u001b[0;34m,\u001b[0m \u001b[0mestimator_name\u001b[0m\u001b[0;34m=\u001b[0m\u001b[0mestimator_name\u001b[0m\u001b[0;34m)\u001b[0m\u001b[0;34m\u001b[0m\u001b[0;34m\u001b[0m\u001b[0m\n\u001b[0m\u001b[1;32m   1145\u001b[0m         \u001b[0m_ensure_no_complex_data\u001b[0m\u001b[0;34m(\u001b[0m\u001b[0my\u001b[0m\u001b[0;34m)\u001b[0m\u001b[0;34m\u001b[0m\u001b[0;34m\u001b[0m\u001b[0m\n\u001b[1;32m   1146\u001b[0m     \u001b[0;32mif\u001b[0m \u001b[0my_numeric\u001b[0m \u001b[0;32mand\u001b[0m \u001b[0my\u001b[0m\u001b[0;34m.\u001b[0m\u001b[0mdtype\u001b[0m\u001b[0;34m.\u001b[0m\u001b[0mkind\u001b[0m \u001b[0;34m==\u001b[0m \u001b[0;34m\"O\"\u001b[0m\u001b[0;34m:\u001b[0m\u001b[0;34m\u001b[0m\u001b[0;34m\u001b[0m\u001b[0m\n",
            "\u001b[0;32m/usr/local/lib/python3.10/dist-packages/sklearn/utils/validation.py\u001b[0m in \u001b[0;36m_assert_all_finite\u001b[0;34m(X, allow_nan, msg_dtype, estimator_name, input_name)\u001b[0m\n\u001b[1;32m    159\u001b[0m                 \u001b[0;34m\"#estimators-that-handle-nan-values\"\u001b[0m\u001b[0;34m\u001b[0m\u001b[0;34m\u001b[0m\u001b[0m\n\u001b[1;32m    160\u001b[0m             )\n\u001b[0;32m--> 161\u001b[0;31m         \u001b[0;32mraise\u001b[0m \u001b[0mValueError\u001b[0m\u001b[0;34m(\u001b[0m\u001b[0mmsg_err\u001b[0m\u001b[0;34m)\u001b[0m\u001b[0;34m\u001b[0m\u001b[0;34m\u001b[0m\u001b[0m\n\u001b[0m\u001b[1;32m    162\u001b[0m \u001b[0;34m\u001b[0m\u001b[0m\n\u001b[1;32m    163\u001b[0m \u001b[0;34m\u001b[0m\u001b[0m\n",
            "\u001b[0;31mValueError\u001b[0m: Input y contains NaN."
          ]
        }
      ]
    },
    {
      "cell_type": "code",
      "source": [
        "from sklearn.metrics import confusion_matrix\n",
        "import seaborn as sns\n",
        "mat = confusion_matrix(y_predict, y_test)\n",
        "sns.heatmap(mat.T, square=True, annot=True, fmt='d', cbar=False)\n",
        "plt.xlabel('true label')\n",
        "plt.ylabel('predicted label');"
      ],
      "metadata": {
        "id": "VibPTENHoiOe",
        "colab": {
          "base_uri": "https://localhost:8080/",
          "height": 246
        },
        "outputId": "cf59e7bc-9f11-454a-b7ed-005e97dcc65f"
      },
      "execution_count": null,
      "outputs": [
        {
          "output_type": "error",
          "ename": "NameError",
          "evalue": "ignored",
          "traceback": [
            "\u001b[0;31m---------------------------------------------------------------------------\u001b[0m",
            "\u001b[0;31mNameError\u001b[0m                                 Traceback (most recent call last)",
            "\u001b[0;32m<ipython-input-85-6697660f6c06>\u001b[0m in \u001b[0;36m<cell line: 3>\u001b[0;34m()\u001b[0m\n\u001b[1;32m      1\u001b[0m \u001b[0;32mfrom\u001b[0m \u001b[0msklearn\u001b[0m\u001b[0;34m.\u001b[0m\u001b[0mmetrics\u001b[0m \u001b[0;32mimport\u001b[0m \u001b[0mconfusion_matrix\u001b[0m\u001b[0;34m\u001b[0m\u001b[0;34m\u001b[0m\u001b[0m\n\u001b[1;32m      2\u001b[0m \u001b[0;32mimport\u001b[0m \u001b[0mseaborn\u001b[0m \u001b[0;32mas\u001b[0m \u001b[0msns\u001b[0m\u001b[0;34m\u001b[0m\u001b[0;34m\u001b[0m\u001b[0m\n\u001b[0;32m----> 3\u001b[0;31m \u001b[0mmat\u001b[0m \u001b[0;34m=\u001b[0m \u001b[0mconfusion_matrix\u001b[0m\u001b[0;34m(\u001b[0m\u001b[0my_predict\u001b[0m\u001b[0;34m,\u001b[0m \u001b[0my_test\u001b[0m\u001b[0;34m)\u001b[0m\u001b[0;34m\u001b[0m\u001b[0;34m\u001b[0m\u001b[0m\n\u001b[0m\u001b[1;32m      4\u001b[0m \u001b[0msns\u001b[0m\u001b[0;34m.\u001b[0m\u001b[0mheatmap\u001b[0m\u001b[0;34m(\u001b[0m\u001b[0mmat\u001b[0m\u001b[0;34m.\u001b[0m\u001b[0mT\u001b[0m\u001b[0;34m,\u001b[0m \u001b[0msquare\u001b[0m\u001b[0;34m=\u001b[0m\u001b[0;32mTrue\u001b[0m\u001b[0;34m,\u001b[0m \u001b[0mannot\u001b[0m\u001b[0;34m=\u001b[0m\u001b[0;32mTrue\u001b[0m\u001b[0;34m,\u001b[0m \u001b[0mfmt\u001b[0m\u001b[0;34m=\u001b[0m\u001b[0;34m'd'\u001b[0m\u001b[0;34m,\u001b[0m \u001b[0mcbar\u001b[0m\u001b[0;34m=\u001b[0m\u001b[0;32mFalse\u001b[0m\u001b[0;34m)\u001b[0m\u001b[0;34m\u001b[0m\u001b[0;34m\u001b[0m\u001b[0m\n\u001b[1;32m      5\u001b[0m \u001b[0mplt\u001b[0m\u001b[0;34m.\u001b[0m\u001b[0mxlabel\u001b[0m\u001b[0;34m(\u001b[0m\u001b[0;34m'true label'\u001b[0m\u001b[0;34m)\u001b[0m\u001b[0;34m\u001b[0m\u001b[0;34m\u001b[0m\u001b[0m\n",
            "\u001b[0;31mNameError\u001b[0m: name 'y_predict' is not defined"
          ]
        }
      ]
    },
    {
      "cell_type": "markdown",
      "source": [
        "# TF-IDF-Naive Bay"
      ],
      "metadata": {
        "id": "XPbdFVHrUN_d"
      }
    },
    {
      "cell_type": "code",
      "source": [
        "from sklearn.naive_bayes import MultinomialNB\n",
        "\n",
        "classifier_NB = MultinomialNB()\n",
        "classifier_NB.fit(train_vector, y_train)\n",
        "\n",
        "y_predict = classifier_NB.predict(test_vector)\n",
        "\n",
        "score = classifier_NB.score(test_vector, y_test)\n",
        "print(\"Accuracy:\", score)\n",
        "print(y_predict, y_test)\n",
        "\n",
        "\n",
        "from sklearn.metrics import confusion_matrix\n",
        "mat = confusion_matrix(y_predict, y_test)\n",
        "sns.heatmap(mat.T, square=True, annot=True, fmt='d', cbar=False)\n",
        "plt.xlabel('true label')\n",
        "plt.ylabel('predicted label');"
      ],
      "metadata": {
        "id": "qYpO61VFUc74"
      },
      "execution_count": null,
      "outputs": []
    },
    {
      "cell_type": "code",
      "source": [
        "from sklearn.metrics import confusion_matrix,precision_score\n",
        "import seaborn as sns; sns.set()\n",
        "\n",
        "mat = confusion_matrix(y_predict, y_test)\n",
        "sns.heatmap(mat.T, square=True, annot=True, fmt='d', cbar=False)\n",
        "plt.xlabel('true label')\n",
        "plt.ylabel('predicted label');\n"
      ],
      "metadata": {
        "id": "fJX336UDU4f1"
      },
      "execution_count": null,
      "outputs": []
    },
    {
      "cell_type": "markdown",
      "source": [
        "# TF-IDF KNN"
      ],
      "metadata": {
        "id": "ajQzw7X4Ybpe"
      }
    },
    {
      "cell_type": "code",
      "source": [
        "from sklearn.neighbors import KNeighborsClassifier\n",
        "knn = KNeighborsClassifier(n_neighbors = 3, weights='distance')\n",
        "knn.fit(train_vector, y_train)"
      ],
      "metadata": {
        "id": "yVqWfQArYpOb"
      },
      "execution_count": null,
      "outputs": []
    },
    {
      "cell_type": "code",
      "source": [
        "y_predict = knn.predict(test_vector)\n",
        "\n",
        "score = knn.score(test_vector, y_test)\n",
        "print(\"Accuracy:\", score)\n",
        "print(y_predict, y_test)"
      ],
      "metadata": {
        "id": "G4VOGiVPYw9O"
      },
      "execution_count": null,
      "outputs": []
    },
    {
      "cell_type": "code",
      "source": [
        "mat = confusion_matrix(y_predict, y_test)\n",
        "sns.heatmap(mat.T, square=True, annot=True, fmt='d', cbar=False)\n",
        "plt.xlabel('true label')\n",
        "plt.ylabel('predicted label');\n",
        "\n",
        "precision = precision_score(y_test, y_predict, average='binary')\n",
        "print('Precision: %.3f' % precision)\n",
        "\n"
      ],
      "metadata": {
        "id": "2dJQ8lkZY9Z_"
      },
      "execution_count": null,
      "outputs": []
    }
  ]
}