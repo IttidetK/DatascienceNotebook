{
  "nbformat": 4,
  "nbformat_minor": 0,
  "metadata": {
    "colab": {
      "provenance": []
    },
    "kernelspec": {
      "name": "python3",
      "display_name": "Python 3"
    },
    "language_info": {
      "name": "python"
    }
  },
  "cells": [
    {
      "cell_type": "code",
      "execution_count": null,
      "metadata": {
        "colab": {
          "base_uri": "https://localhost:8080/"
        },
        "id": "y9t9Lsa5iCNU",
        "outputId": "9e6d6ab0-f1ac-49b1-c30b-8ae7fcbf3603"
      },
      "outputs": [
        {
          "output_type": "stream",
          "name": "stdout",
          "text": [
            "Requirement already satisfied: pythainlp in /usr/local/lib/python3.10/dist-packages (5.0.5)\n",
            "Requirement already satisfied: requests>=2.22.0 in /usr/local/lib/python3.10/dist-packages (from pythainlp) (2.32.3)\n",
            "Requirement already satisfied: charset-normalizer<4,>=2 in /usr/local/lib/python3.10/dist-packages (from requests>=2.22.0->pythainlp) (3.4.0)\n",
            "Requirement already satisfied: idna<4,>=2.5 in /usr/local/lib/python3.10/dist-packages (from requests>=2.22.0->pythainlp) (3.10)\n",
            "Requirement already satisfied: urllib3<3,>=1.21.1 in /usr/local/lib/python3.10/dist-packages (from requests>=2.22.0->pythainlp) (2.2.3)\n",
            "Requirement already satisfied: certifi>=2017.4.17 in /usr/local/lib/python3.10/dist-packages (from requests>=2.22.0->pythainlp) (2024.8.30)\n"
          ]
        }
      ],
      "source": [
        "!pip install pythainlp"
      ]
    },
    {
      "cell_type": "code",
      "source": [
        "!wget --no-check-certificate 'https://docs.google.com/uc?export=download&id=1K0VgdwYagNidu5k_y5pnSrGrGIOBPsyS' -O FastFood_Opinion.csv"
      ],
      "metadata": {
        "colab": {
          "base_uri": "https://localhost:8080/"
        },
        "id": "-wznSGr0jpMo",
        "outputId": "1f7f3cb5-94dd-4561-8807-6c9dd9969a32"
      },
      "execution_count": null,
      "outputs": [
        {
          "output_type": "stream",
          "name": "stdout",
          "text": [
            "--2024-12-16 09:01:35--  https://docs.google.com/uc?export=download&id=1K0VgdwYagNidu5k_y5pnSrGrGIOBPsyS\n",
            "Resolving docs.google.com (docs.google.com)... 142.251.16.101, 142.251.16.139, 142.251.16.102, ...\n",
            "Connecting to docs.google.com (docs.google.com)|142.251.16.101|:443... connected.\n",
            "HTTP request sent, awaiting response... 303 See Other\n",
            "Location: https://drive.usercontent.google.com/download?id=1K0VgdwYagNidu5k_y5pnSrGrGIOBPsyS&export=download [following]\n",
            "--2024-12-16 09:01:35--  https://drive.usercontent.google.com/download?id=1K0VgdwYagNidu5k_y5pnSrGrGIOBPsyS&export=download\n",
            "Resolving drive.usercontent.google.com (drive.usercontent.google.com)... 142.251.163.132, 2607:f8b0:4004:c1b::84\n",
            "Connecting to drive.usercontent.google.com (drive.usercontent.google.com)|142.251.163.132|:443... connected.\n",
            "HTTP request sent, awaiting response... 200 OK\n",
            "Length: 348315 (340K) [application/octet-stream]\n",
            "Saving to: ‘FastFood_Opinion.csv’\n",
            "\n",
            "FastFood_Opinion.cs 100%[===================>] 340.15K  --.-KB/s    in 0.04s   \n",
            "\n",
            "2024-12-16 09:01:38 (8.92 MB/s) - ‘FastFood_Opinion.csv’ saved [348315/348315]\n",
            "\n"
          ]
        }
      ]
    },
    {
      "cell_type": "code",
      "source": [
        "import pandas as pd\n",
        "import numpy as np\n",
        "from pythainlp.tokenize import word_tokenize\n",
        "from sklearn.feature_extraction.text import CountVectorizer\n",
        "from sklearn.feature_extraction.text import TfidfVectorizer\n",
        "from sklearn.model_selection import train_test_split\n",
        "from sklearn.linear_model import LogisticRegression\n",
        "from sklearn.naive_bayes import MultinomialNB\n",
        "from sklearn.metrics import accuracy_score\n",
        "\n",
        "df = pd.read_csv('FastFood_Opinion.csv')\n",
        "df.head()"
      ],
      "metadata": {
        "colab": {
          "base_uri": "https://localhost:8080/",
          "height": 362
        },
        "id": "dVhDOzQQiUvZ",
        "outputId": "2efe7787-7901-4036-e5f4-c1596b5b11bc"
      },
      "execution_count": null,
      "outputs": [
        {
          "output_type": "execute_result",
          "data": {
            "text/plain": [
              "   class                                            message\n",
              "0      0  11.30 น. ไปที่สาขาในปั๊มคาลเท็กซ์ ประชานุกูล ซ...\n",
              "1      0  BK ทุกสาขาบริการดี โดยเฉพาะอย่างยิ่งเอมโพเรียม...\n",
              "2      0  Burger King สาขา The Bright พระราม 2 บริการห่ว...\n",
              "3      0  Burger King สาขาปั้ม ป.ต.ท.บ้านพร อ.ถลาง เมื่อ...\n",
              "4      0  chicken strip ชิ้นเล็กมาก เทียบกับป้ายโฆษณาบนโต๊ะ"
            ],
            "text/html": [
              "\n",
              "  <div id=\"df-8299f3b6-6167-4a22-9655-e3a30afc68fd\" class=\"colab-df-container\">\n",
              "    <div>\n",
              "<style scoped>\n",
              "    .dataframe tbody tr th:only-of-type {\n",
              "        vertical-align: middle;\n",
              "    }\n",
              "\n",
              "    .dataframe tbody tr th {\n",
              "        vertical-align: top;\n",
              "    }\n",
              "\n",
              "    .dataframe thead th {\n",
              "        text-align: right;\n",
              "    }\n",
              "</style>\n",
              "<table border=\"1\" class=\"dataframe\">\n",
              "  <thead>\n",
              "    <tr style=\"text-align: right;\">\n",
              "      <th></th>\n",
              "      <th>class</th>\n",
              "      <th>message</th>\n",
              "    </tr>\n",
              "  </thead>\n",
              "  <tbody>\n",
              "    <tr>\n",
              "      <th>0</th>\n",
              "      <td>0</td>\n",
              "      <td>11.30 น. ไปที่สาขาในปั๊มคาลเท็กซ์ ประชานุกูล ซ...</td>\n",
              "    </tr>\n",
              "    <tr>\n",
              "      <th>1</th>\n",
              "      <td>0</td>\n",
              "      <td>BK ทุกสาขาบริการดี โดยเฉพาะอย่างยิ่งเอมโพเรียม...</td>\n",
              "    </tr>\n",
              "    <tr>\n",
              "      <th>2</th>\n",
              "      <td>0</td>\n",
              "      <td>Burger King สาขา The Bright พระราม 2 บริการห่ว...</td>\n",
              "    </tr>\n",
              "    <tr>\n",
              "      <th>3</th>\n",
              "      <td>0</td>\n",
              "      <td>Burger King สาขาปั้ม ป.ต.ท.บ้านพร อ.ถลาง เมื่อ...</td>\n",
              "    </tr>\n",
              "    <tr>\n",
              "      <th>4</th>\n",
              "      <td>0</td>\n",
              "      <td>chicken strip ชิ้นเล็กมาก เทียบกับป้ายโฆษณาบนโต๊ะ</td>\n",
              "    </tr>\n",
              "  </tbody>\n",
              "</table>\n",
              "</div>\n",
              "    <div class=\"colab-df-buttons\">\n",
              "\n",
              "  <div class=\"colab-df-container\">\n",
              "    <button class=\"colab-df-convert\" onclick=\"convertToInteractive('df-8299f3b6-6167-4a22-9655-e3a30afc68fd')\"\n",
              "            title=\"Convert this dataframe to an interactive table.\"\n",
              "            style=\"display:none;\">\n",
              "\n",
              "  <svg xmlns=\"http://www.w3.org/2000/svg\" height=\"24px\" viewBox=\"0 -960 960 960\">\n",
              "    <path d=\"M120-120v-720h720v720H120Zm60-500h600v-160H180v160Zm220 220h160v-160H400v160Zm0 220h160v-160H400v160ZM180-400h160v-160H180v160Zm440 0h160v-160H620v160ZM180-180h160v-160H180v160Zm440 0h160v-160H620v160Z\"/>\n",
              "  </svg>\n",
              "    </button>\n",
              "\n",
              "  <style>\n",
              "    .colab-df-container {\n",
              "      display:flex;\n",
              "      gap: 12px;\n",
              "    }\n",
              "\n",
              "    .colab-df-convert {\n",
              "      background-color: #E8F0FE;\n",
              "      border: none;\n",
              "      border-radius: 50%;\n",
              "      cursor: pointer;\n",
              "      display: none;\n",
              "      fill: #1967D2;\n",
              "      height: 32px;\n",
              "      padding: 0 0 0 0;\n",
              "      width: 32px;\n",
              "    }\n",
              "\n",
              "    .colab-df-convert:hover {\n",
              "      background-color: #E2EBFA;\n",
              "      box-shadow: 0px 1px 2px rgba(60, 64, 67, 0.3), 0px 1px 3px 1px rgba(60, 64, 67, 0.15);\n",
              "      fill: #174EA6;\n",
              "    }\n",
              "\n",
              "    .colab-df-buttons div {\n",
              "      margin-bottom: 4px;\n",
              "    }\n",
              "\n",
              "    [theme=dark] .colab-df-convert {\n",
              "      background-color: #3B4455;\n",
              "      fill: #D2E3FC;\n",
              "    }\n",
              "\n",
              "    [theme=dark] .colab-df-convert:hover {\n",
              "      background-color: #434B5C;\n",
              "      box-shadow: 0px 1px 3px 1px rgba(0, 0, 0, 0.15);\n",
              "      filter: drop-shadow(0px 1px 2px rgba(0, 0, 0, 0.3));\n",
              "      fill: #FFFFFF;\n",
              "    }\n",
              "  </style>\n",
              "\n",
              "    <script>\n",
              "      const buttonEl =\n",
              "        document.querySelector('#df-8299f3b6-6167-4a22-9655-e3a30afc68fd button.colab-df-convert');\n",
              "      buttonEl.style.display =\n",
              "        google.colab.kernel.accessAllowed ? 'block' : 'none';\n",
              "\n",
              "      async function convertToInteractive(key) {\n",
              "        const element = document.querySelector('#df-8299f3b6-6167-4a22-9655-e3a30afc68fd');\n",
              "        const dataTable =\n",
              "          await google.colab.kernel.invokeFunction('convertToInteractive',\n",
              "                                                    [key], {});\n",
              "        if (!dataTable) return;\n",
              "\n",
              "        const docLinkHtml = 'Like what you see? Visit the ' +\n",
              "          '<a target=\"_blank\" href=https://colab.research.google.com/notebooks/data_table.ipynb>data table notebook</a>'\n",
              "          + ' to learn more about interactive tables.';\n",
              "        element.innerHTML = '';\n",
              "        dataTable['output_type'] = 'display_data';\n",
              "        await google.colab.output.renderOutput(dataTable, element);\n",
              "        const docLink = document.createElement('div');\n",
              "        docLink.innerHTML = docLinkHtml;\n",
              "        element.appendChild(docLink);\n",
              "      }\n",
              "    </script>\n",
              "  </div>\n",
              "\n",
              "\n",
              "<div id=\"df-c16bd695-71fd-4a1c-8198-2667bbed45a7\">\n",
              "  <button class=\"colab-df-quickchart\" onclick=\"quickchart('df-c16bd695-71fd-4a1c-8198-2667bbed45a7')\"\n",
              "            title=\"Suggest charts\"\n",
              "            style=\"display:none;\">\n",
              "\n",
              "<svg xmlns=\"http://www.w3.org/2000/svg\" height=\"24px\"viewBox=\"0 0 24 24\"\n",
              "     width=\"24px\">\n",
              "    <g>\n",
              "        <path d=\"M19 3H5c-1.1 0-2 .9-2 2v14c0 1.1.9 2 2 2h14c1.1 0 2-.9 2-2V5c0-1.1-.9-2-2-2zM9 17H7v-7h2v7zm4 0h-2V7h2v10zm4 0h-2v-4h2v4z\"/>\n",
              "    </g>\n",
              "</svg>\n",
              "  </button>\n",
              "\n",
              "<style>\n",
              "  .colab-df-quickchart {\n",
              "      --bg-color: #E8F0FE;\n",
              "      --fill-color: #1967D2;\n",
              "      --hover-bg-color: #E2EBFA;\n",
              "      --hover-fill-color: #174EA6;\n",
              "      --disabled-fill-color: #AAA;\n",
              "      --disabled-bg-color: #DDD;\n",
              "  }\n",
              "\n",
              "  [theme=dark] .colab-df-quickchart {\n",
              "      --bg-color: #3B4455;\n",
              "      --fill-color: #D2E3FC;\n",
              "      --hover-bg-color: #434B5C;\n",
              "      --hover-fill-color: #FFFFFF;\n",
              "      --disabled-bg-color: #3B4455;\n",
              "      --disabled-fill-color: #666;\n",
              "  }\n",
              "\n",
              "  .colab-df-quickchart {\n",
              "    background-color: var(--bg-color);\n",
              "    border: none;\n",
              "    border-radius: 50%;\n",
              "    cursor: pointer;\n",
              "    display: none;\n",
              "    fill: var(--fill-color);\n",
              "    height: 32px;\n",
              "    padding: 0;\n",
              "    width: 32px;\n",
              "  }\n",
              "\n",
              "  .colab-df-quickchart:hover {\n",
              "    background-color: var(--hover-bg-color);\n",
              "    box-shadow: 0 1px 2px rgba(60, 64, 67, 0.3), 0 1px 3px 1px rgba(60, 64, 67, 0.15);\n",
              "    fill: var(--button-hover-fill-color);\n",
              "  }\n",
              "\n",
              "  .colab-df-quickchart-complete:disabled,\n",
              "  .colab-df-quickchart-complete:disabled:hover {\n",
              "    background-color: var(--disabled-bg-color);\n",
              "    fill: var(--disabled-fill-color);\n",
              "    box-shadow: none;\n",
              "  }\n",
              "\n",
              "  .colab-df-spinner {\n",
              "    border: 2px solid var(--fill-color);\n",
              "    border-color: transparent;\n",
              "    border-bottom-color: var(--fill-color);\n",
              "    animation:\n",
              "      spin 1s steps(1) infinite;\n",
              "  }\n",
              "\n",
              "  @keyframes spin {\n",
              "    0% {\n",
              "      border-color: transparent;\n",
              "      border-bottom-color: var(--fill-color);\n",
              "      border-left-color: var(--fill-color);\n",
              "    }\n",
              "    20% {\n",
              "      border-color: transparent;\n",
              "      border-left-color: var(--fill-color);\n",
              "      border-top-color: var(--fill-color);\n",
              "    }\n",
              "    30% {\n",
              "      border-color: transparent;\n",
              "      border-left-color: var(--fill-color);\n",
              "      border-top-color: var(--fill-color);\n",
              "      border-right-color: var(--fill-color);\n",
              "    }\n",
              "    40% {\n",
              "      border-color: transparent;\n",
              "      border-right-color: var(--fill-color);\n",
              "      border-top-color: var(--fill-color);\n",
              "    }\n",
              "    60% {\n",
              "      border-color: transparent;\n",
              "      border-right-color: var(--fill-color);\n",
              "    }\n",
              "    80% {\n",
              "      border-color: transparent;\n",
              "      border-right-color: var(--fill-color);\n",
              "      border-bottom-color: var(--fill-color);\n",
              "    }\n",
              "    90% {\n",
              "      border-color: transparent;\n",
              "      border-bottom-color: var(--fill-color);\n",
              "    }\n",
              "  }\n",
              "</style>\n",
              "\n",
              "  <script>\n",
              "    async function quickchart(key) {\n",
              "      const quickchartButtonEl =\n",
              "        document.querySelector('#' + key + ' button');\n",
              "      quickchartButtonEl.disabled = true;  // To prevent multiple clicks.\n",
              "      quickchartButtonEl.classList.add('colab-df-spinner');\n",
              "      try {\n",
              "        const charts = await google.colab.kernel.invokeFunction(\n",
              "            'suggestCharts', [key], {});\n",
              "      } catch (error) {\n",
              "        console.error('Error during call to suggestCharts:', error);\n",
              "      }\n",
              "      quickchartButtonEl.classList.remove('colab-df-spinner');\n",
              "      quickchartButtonEl.classList.add('colab-df-quickchart-complete');\n",
              "    }\n",
              "    (() => {\n",
              "      let quickchartButtonEl =\n",
              "        document.querySelector('#df-c16bd695-71fd-4a1c-8198-2667bbed45a7 button');\n",
              "      quickchartButtonEl.style.display =\n",
              "        google.colab.kernel.accessAllowed ? 'block' : 'none';\n",
              "    })();\n",
              "  </script>\n",
              "</div>\n",
              "\n",
              "    </div>\n",
              "  </div>\n"
            ],
            "application/vnd.google.colaboratory.intrinsic+json": {
              "type": "dataframe",
              "variable_name": "df",
              "summary": "{\n  \"name\": \"df\",\n  \"rows\": 642,\n  \"fields\": [\n    {\n      \"column\": \"class\",\n      \"properties\": {\n        \"dtype\": \"number\",\n        \"std\": 0,\n        \"min\": 0,\n        \"max\": 1,\n        \"num_unique_values\": 2,\n        \"samples\": [\n          1,\n          0\n        ],\n        \"semantic_type\": \"\",\n        \"description\": \"\"\n      }\n    },\n    {\n      \"column\": \"message\",\n      \"properties\": {\n        \"dtype\": \"string\",\n        \"num_unique_values\": 640,\n        \"samples\": [\n          \"\\u0e02\\u0e2d\\u0e1a\\u0e0a\\u0e35\\u0e2a\\u0e0b\\u0e35\\u0e48\\u0e40\\u0e1a\\u0e2d\\u0e40\\u0e01\\u0e2d\\u0e23\\u0e4c\\u0e14\\u0e35\\u0e07\\u0e32\\u0e21\\u0e21\\u0e32\\u0e01 \\u0e44\\u0e21\\u0e48\\u0e40\\u0e25\\u0e35\\u0e48\\u0e22\\u0e19\\u0e41\\u0e16\\u0e21\\u0e01\\u0e34\\u0e19\\u0e40\\u0e1e\\u0e25\\u0e34\\u0e19\\u0e40\\u0e1a\\u0e22\",\n          \"\\u0e44\\u0e01\\u0e48 spicy \\u0e40\\u0e1b\\u0e25\\u0e35\\u0e48\\u0e22\\u0e19\\u0e01\\u0e32\\u0e23\\u0e2b\\u0e21\\u0e31\\u0e01\\u0e44\\u0e01\\u0e48\\u0e44\\u0e21\\u0e48\\u0e40\\u0e2b\\u0e21\\u0e37\\u0e2d\\u0e19\\u0e40\\u0e14\\u0e34\\u0e21 \\u0e17\\u0e33\\u0e44\\u0e21\\u0e44\\u0e21\\u0e48\\u0e41\\u0e08\\u0e49\\u0e07\\u0e25\\u0e39\\u0e01\\u0e04\\u0e49\\u0e32\\u0e01\\u0e48\\u0e2d\\u0e19\\u0e04\\u0e30 \\u0e40\\u0e02\\u0e35\\u0e22\\u0e19\\u0e43\\u0e19\\u0e40\\u0e21\\u0e19\\u0e39\\u0e40\\u0e25\\u0e22\\u0e22\\u0e34\\u0e48\\u0e07\\u0e14\\u0e35\\u0e04\\u0e48\\u0e30 \\u0e40\\u0e2a\\u0e35\\u0e22\\u0e04\\u0e27\\u0e32\\u0e21\\u0e23\\u0e39\\u0e49\\u0e2a\\u0e36\\u0e01\\u0e21\\u0e32\\u0e01\\u0e04\\u0e48\\u0e30\"\n        ],\n        \"semantic_type\": \"\",\n        \"description\": \"\"\n      }\n    }\n  ]\n}"
            }
          },
          "metadata": {},
          "execution_count": 50
        }
      ]
    },
    {
      "cell_type": "code",
      "source": [
        "X = df['message'].astype(str)\n",
        "y = df['class']\n",
        "X_tokenized = X.apply(lambda x: word_tokenize(x, engine='longest', keep_whitespace=False))\n",
        "X_tokenized"
      ],
      "metadata": {
        "colab": {
          "base_uri": "https://localhost:8080/",
          "height": 458
        },
        "id": "lhQzobzsi_fJ",
        "outputId": "90a1a06c-f237-41cf-806f-c6acde11f17f"
      },
      "execution_count": null,
      "outputs": [
        {
          "output_type": "execute_result",
          "data": {
            "text/plain": [
              "0      [11.30, น., ไป, ที่, สาขา, ใน, ปั๊ม, คาลเท็กซ์...\n",
              "1      [bk, ทุก, สาขา, บริการ, ดี, โดยเฉพาะอย่างยิ่ง,...\n",
              "2      [burger, king, สาขา, the, bright, พระราม, 2, บ...\n",
              "3      [burger, king, สา, ขา, ปั้ม, ป., ต., ท., บ้าน,...\n",
              "4      [chicken, strip, ชิ้น, เล็ก, มาก, เทียบ, กับ, ...\n",
              "                             ...                        \n",
              "637                 [ช่วง, โปรฯ, คุณภาพ, เกิน, ราคา, คะ]\n",
              "638              [อร่อย, มาก, ราคา, โอ, เค, ร, เลย, ค่ะ]\n",
              "639                              [อาหาร, อร่อย, มาก, คะ]\n",
              "640            [คุณภาพ, และ, การ, บริการ, ระดับ, 5, ดาว]\n",
              "641                            [อาหาร, อร่อย, มากๆ, ค่ะ]\n",
              "Name: message, Length: 642, dtype: object"
            ],
            "text/html": [
              "<div>\n",
              "<style scoped>\n",
              "    .dataframe tbody tr th:only-of-type {\n",
              "        vertical-align: middle;\n",
              "    }\n",
              "\n",
              "    .dataframe tbody tr th {\n",
              "        vertical-align: top;\n",
              "    }\n",
              "\n",
              "    .dataframe thead th {\n",
              "        text-align: right;\n",
              "    }\n",
              "</style>\n",
              "<table border=\"1\" class=\"dataframe\">\n",
              "  <thead>\n",
              "    <tr style=\"text-align: right;\">\n",
              "      <th></th>\n",
              "      <th>message</th>\n",
              "    </tr>\n",
              "  </thead>\n",
              "  <tbody>\n",
              "    <tr>\n",
              "      <th>0</th>\n",
              "      <td>[11.30, น., ไป, ที่, สาขา, ใน, ปั๊ม, คาลเท็กซ์...</td>\n",
              "    </tr>\n",
              "    <tr>\n",
              "      <th>1</th>\n",
              "      <td>[bk, ทุก, สาขา, บริการ, ดี, โดยเฉพาะอย่างยิ่ง,...</td>\n",
              "    </tr>\n",
              "    <tr>\n",
              "      <th>2</th>\n",
              "      <td>[burger, king, สาขา, the, bright, พระราม, 2, บ...</td>\n",
              "    </tr>\n",
              "    <tr>\n",
              "      <th>3</th>\n",
              "      <td>[burger, king, สา, ขา, ปั้ม, ป., ต., ท., บ้าน,...</td>\n",
              "    </tr>\n",
              "    <tr>\n",
              "      <th>4</th>\n",
              "      <td>[chicken, strip, ชิ้น, เล็ก, มาก, เทียบ, กับ, ...</td>\n",
              "    </tr>\n",
              "    <tr>\n",
              "      <th>...</th>\n",
              "      <td>...</td>\n",
              "    </tr>\n",
              "    <tr>\n",
              "      <th>637</th>\n",
              "      <td>[ช่วง, โปรฯ, คุณภาพ, เกิน, ราคา, คะ]</td>\n",
              "    </tr>\n",
              "    <tr>\n",
              "      <th>638</th>\n",
              "      <td>[อร่อย, มาก, ราคา, โอ, เค, ร, เลย, ค่ะ]</td>\n",
              "    </tr>\n",
              "    <tr>\n",
              "      <th>639</th>\n",
              "      <td>[อาหาร, อร่อย, มาก, คะ]</td>\n",
              "    </tr>\n",
              "    <tr>\n",
              "      <th>640</th>\n",
              "      <td>[คุณภาพ, และ, การ, บริการ, ระดับ, 5, ดาว]</td>\n",
              "    </tr>\n",
              "    <tr>\n",
              "      <th>641</th>\n",
              "      <td>[อาหาร, อร่อย, มากๆ, ค่ะ]</td>\n",
              "    </tr>\n",
              "  </tbody>\n",
              "</table>\n",
              "<p>642 rows × 1 columns</p>\n",
              "</div><br><label><b>dtype:</b> object</label>"
            ]
          },
          "metadata": {},
          "execution_count": 51
        }
      ]
    },
    {
      "cell_type": "markdown",
      "source": [
        "# Logistic Regression"
      ],
      "metadata": {
        "id": "UjmkkVUKlRQY"
      }
    },
    {
      "cell_type": "markdown",
      "source": [
        "## term frequency"
      ],
      "metadata": {
        "id": "nRKyDX8ylfkx"
      }
    },
    {
      "cell_type": "code",
      "source": [
        "vectorizer = CountVectorizer(analyzer=lambda x: x)\n",
        "X_bow = vectorizer.fit_transform(X_tokenized)\n",
        "X_train, X_test, y_train, y_test = train_test_split(X_bow, y, test_size=0.2, random_state=42)\n",
        "\n",
        "logis = LogisticRegression()\n",
        "logis.fit(X_train, y_train)\n",
        "\n",
        "y_pred = logis.predict(X_test)\n",
        "accuracy = accuracy_score(y_test, y_pred)\n",
        "accuracy"
      ],
      "metadata": {
        "colab": {
          "base_uri": "https://localhost:8080/"
        },
        "id": "UexnGSvalwRI",
        "outputId": "7ee968b0-5dbd-41a8-ad99-44d6df5ba894"
      },
      "execution_count": null,
      "outputs": [
        {
          "output_type": "execute_result",
          "data": {
            "text/plain": [
              "0.9069767441860465"
            ]
          },
          "metadata": {},
          "execution_count": 64
        }
      ]
    },
    {
      "cell_type": "code",
      "source": [
        "new_text = [\"ไม่แย่ ดี\",\"ไม่ดี แย่\"]\n",
        "new_text_tokenized = [word_tokenize(text, engine='longest', keep_whitespace=False) for text in new_text]\n",
        "new_text_bow = vectorizer.transform(new_text_tokenized)\n",
        "\n",
        "logis.predict(new_text_bow)"
      ],
      "metadata": {
        "colab": {
          "base_uri": "https://localhost:8080/"
        },
        "id": "G5f_7RP4nw-Y",
        "outputId": "16847e8f-fa63-4083-de55-d18c65a4742c"
      },
      "execution_count": null,
      "outputs": [
        {
          "output_type": "execute_result",
          "data": {
            "text/plain": [
              "array([0, 0])"
            ]
          },
          "metadata": {},
          "execution_count": 66
        }
      ]
    },
    {
      "cell_type": "markdown",
      "source": [
        "## one hot"
      ],
      "metadata": {
        "id": "ZH8mSw6elq63"
      }
    },
    {
      "cell_type": "code",
      "source": [
        "vectorizer_oh = CountVectorizer(analyzer=lambda x: x,binary=True)\n",
        "X_bow = vectorizer_oh.fit_transform(X_tokenized)\n",
        "X_train, X_test, y_train, y_test = train_test_split(X_bow, y, test_size=0.2, random_state=42)\n",
        "\n",
        "logis_oh = LogisticRegression()\n",
        "logis_oh.fit(X_train, y_train)\n",
        "\n",
        "y_pred = logis_oh.predict(X_test)\n",
        "accuracy = accuracy_score(y_test, y_pred)\n",
        "accuracy"
      ],
      "metadata": {
        "colab": {
          "base_uri": "https://localhost:8080/"
        },
        "id": "TExTtUNAlwq_",
        "outputId": "1e76f24b-79c5-4bf2-c8d0-6869c8ac6097"
      },
      "execution_count": null,
      "outputs": [
        {
          "output_type": "execute_result",
          "data": {
            "text/plain": [
              "0.9147286821705426"
            ]
          },
          "metadata": {},
          "execution_count": 54
        }
      ]
    },
    {
      "cell_type": "code",
      "source": [
        "new_text = [\"ไม่แย่ ดี\",\"ไม่ดี แย่\"]\n",
        "new_text_tokenized = [word_tokenize(text, engine='longest', keep_whitespace=False) for text in new_text]\n",
        "new_text_bow = vectorizer_oh.transform(new_text_tokenized)\n",
        "\n",
        "logis_oh.predict(new_text_bow)"
      ],
      "metadata": {
        "colab": {
          "base_uri": "https://localhost:8080/"
        },
        "id": "AyzJSpsxq7Cv",
        "outputId": "8cacda7d-094f-438d-b366-297db834ace1"
      },
      "execution_count": null,
      "outputs": [
        {
          "output_type": "execute_result",
          "data": {
            "text/plain": [
              "array([0, 0])"
            ]
          },
          "metadata": {},
          "execution_count": 55
        }
      ]
    },
    {
      "cell_type": "markdown",
      "source": [
        "## TF-IDF"
      ],
      "metadata": {
        "id": "5wFVA04BltLg"
      }
    },
    {
      "cell_type": "code",
      "source": [
        "vectorizer_tfidf = TfidfVectorizer(analyzer=lambda x: x)\n",
        "X_bow = vectorizer_tfidf.fit_transform(X_tokenized)\n",
        "X_train, X_test, y_train, y_test = train_test_split(X_bow, y, test_size=0.2, random_state=42)\n",
        "\n",
        "logis_tfidf = LogisticRegression()\n",
        "logis_tfidf.fit(X_train, y_train)\n",
        "\n",
        "y_pred = logis_tfidf.predict(X_test)\n",
        "accuracy = accuracy_score(y_test, y_pred)\n",
        "accuracy"
      ],
      "metadata": {
        "colab": {
          "base_uri": "https://localhost:8080/"
        },
        "id": "JFCqDR9IlxIo",
        "outputId": "6a810cdb-116b-42e8-ddc2-26145b77d83e"
      },
      "execution_count": null,
      "outputs": [
        {
          "output_type": "execute_result",
          "data": {
            "text/plain": [
              "0.9069767441860465"
            ]
          },
          "metadata": {},
          "execution_count": 56
        }
      ]
    },
    {
      "cell_type": "code",
      "source": [
        "new_text = [\"ไม่แย่ ดี\",\"ไม่ดี แย่\"]\n",
        "new_text_tokenized = [word_tokenize(text, engine='longest', keep_whitespace=False) for text in new_text]\n",
        "new_text_bow = vectorizer_tfidf.transform(new_text_tokenized)\n",
        "\n",
        "logis_tfidf.predict(new_text_bow)"
      ],
      "metadata": {
        "colab": {
          "base_uri": "https://localhost:8080/"
        },
        "id": "akGAdbB8rz9_",
        "outputId": "aa673855-e588-492a-aab0-bf0847daa949"
      },
      "execution_count": null,
      "outputs": [
        {
          "output_type": "execute_result",
          "data": {
            "text/plain": [
              "array([0, 0])"
            ]
          },
          "metadata": {},
          "execution_count": 57
        }
      ]
    },
    {
      "cell_type": "markdown",
      "source": [
        "# Naive Bayes"
      ],
      "metadata": {
        "id": "RztrFwh4k8mA"
      }
    },
    {
      "cell_type": "markdown",
      "source": [
        "## term frequency"
      ],
      "metadata": {
        "id": "fL8hc8jwlzYI"
      }
    },
    {
      "cell_type": "code",
      "source": [
        "vectorizer = CountVectorizer(analyzer=lambda x: x)\n",
        "X_bow = vectorizer.fit_transform(X_tokenized)\n",
        "X_train, X_test, y_train, y_test = train_test_split(X_bow, y, test_size=0.2, random_state=42)\n",
        "\n",
        "nb = MultinomialNB()\n",
        "nb.fit(X_train, y_train)\n",
        "\n",
        "y_pred = nb.predict(X_test)\n",
        "accuracy = accuracy_score(y_test, y_pred)\n",
        "accuracy"
      ],
      "metadata": {
        "colab": {
          "base_uri": "https://localhost:8080/"
        },
        "id": "6hr-S7R7lQxo",
        "outputId": "68541012-70c8-4ba6-9919-83a1a9d0f59f"
      },
      "execution_count": null,
      "outputs": [
        {
          "output_type": "execute_result",
          "data": {
            "text/plain": [
              "0.9069767441860465"
            ]
          },
          "metadata": {},
          "execution_count": 58
        }
      ]
    },
    {
      "cell_type": "code",
      "source": [
        "new_text = [\"ไม่แย่ ดี\",\"ไม่ดี แย่\"]\n",
        "new_text_tokenized = [word_tokenize(text, engine='longest', keep_whitespace=False) for text in new_text]\n",
        "new_text_bow = vectorizer.transform(new_text_tokenized)\n",
        "\n",
        "nb.predict(new_text_bow)"
      ],
      "metadata": {
        "colab": {
          "base_uri": "https://localhost:8080/"
        },
        "id": "-GtMATTCsG-n",
        "outputId": "bb59bd0b-c4c0-47c6-aab6-c88e4b1d47e4"
      },
      "execution_count": null,
      "outputs": [
        {
          "output_type": "execute_result",
          "data": {
            "text/plain": [
              "array([0, 0])"
            ]
          },
          "metadata": {},
          "execution_count": 59
        }
      ]
    },
    {
      "cell_type": "markdown",
      "source": [
        "## one hot"
      ],
      "metadata": {
        "id": "ZpNr-XYcl2BY"
      }
    },
    {
      "cell_type": "code",
      "source": [
        "vectorizer_oh = CountVectorizer(analyzer=lambda x: x,binary=True)\n",
        "X_bow = vectorizer_oh.fit_transform(X_tokenized)\n",
        "X_train, X_test, y_train, y_test = train_test_split(X_bow, y, test_size=0.2, random_state=42)\n",
        "\n",
        "nb_oh = MultinomialNB()\n",
        "nb_oh.fit(X_train, y_train)\n",
        "\n",
        "y_pred = nb_oh.predict(X_test)\n",
        "accuracy = accuracy_score(y_test, y_pred)\n",
        "accuracy"
      ],
      "metadata": {
        "colab": {
          "base_uri": "https://localhost:8080/"
        },
        "id": "EyIVm0tml3SP",
        "outputId": "14479e41-dcb3-4992-8777-b7ebc194211c"
      },
      "execution_count": null,
      "outputs": [
        {
          "output_type": "execute_result",
          "data": {
            "text/plain": [
              "0.8914728682170543"
            ]
          },
          "metadata": {},
          "execution_count": 60
        }
      ]
    },
    {
      "cell_type": "code",
      "source": [
        "new_text = [\"ไม่แย่ ดี\",\"ไม่ดี แย่\"]\n",
        "new_text_tokenized = [word_tokenize(text, engine='longest', keep_whitespace=False) for text in new_text]\n",
        "new_text_bow = vectorizer_oh.transform(new_text_tokenized)\n",
        "\n",
        "nb_oh.predict(new_text_bow)"
      ],
      "metadata": {
        "colab": {
          "base_uri": "https://localhost:8080/"
        },
        "id": "ksckcRSCsTRY",
        "outputId": "ab954f87-b584-4475-9b07-b8dc75dd547a"
      },
      "execution_count": null,
      "outputs": [
        {
          "output_type": "execute_result",
          "data": {
            "text/plain": [
              "array([0, 0])"
            ]
          },
          "metadata": {},
          "execution_count": 61
        }
      ]
    },
    {
      "cell_type": "markdown",
      "source": [
        "## TF-IDF"
      ],
      "metadata": {
        "id": "C6aj1vxrl5DX"
      }
    },
    {
      "cell_type": "code",
      "source": [
        "vectorizer_tfidf = TfidfVectorizer(analyzer=lambda x: x)\n",
        "X_bow = vectorizer_tfidf.fit_transform(X_tokenized)\n",
        "X_train, X_test, y_train, y_test = train_test_split(X_bow, y, test_size=0.2, random_state=42)\n",
        "\n",
        "nb_tfidf = LogisticRegression()\n",
        "nb_tfidf.fit(X_train, y_train)\n",
        "\n",
        "y_pred = nb_tfidf.predict(X_test)\n",
        "accuracy = accuracy_score(y_test, y_pred)\n",
        "accuracy"
      ],
      "metadata": {
        "colab": {
          "base_uri": "https://localhost:8080/"
        },
        "id": "0qOjIQ44l6HH",
        "outputId": "644fec92-6269-469e-a41d-0c8d2f91bb0a"
      },
      "execution_count": null,
      "outputs": [
        {
          "output_type": "execute_result",
          "data": {
            "text/plain": [
              "0.9069767441860465"
            ]
          },
          "metadata": {},
          "execution_count": 62
        }
      ]
    },
    {
      "cell_type": "code",
      "source": [
        "new_text = [\"ไม่แย่ ดี\",\"ไม่ดี แย่\"]\n",
        "new_text_tokenized = [word_tokenize(text, engine='longest', keep_whitespace=False) for text in new_text]\n",
        "new_text_bow = vectorizer_tfidf.transform(new_text_tokenized)\n",
        "\n",
        "nb_tfidf.predict(new_text_bow)"
      ],
      "metadata": {
        "colab": {
          "base_uri": "https://localhost:8080/"
        },
        "id": "_GAvyEkusje6",
        "outputId": "f880b811-3b15-4cc0-994b-0defe663125b"
      },
      "execution_count": null,
      "outputs": [
        {
          "output_type": "execute_result",
          "data": {
            "text/plain": [
              "array([0, 0])"
            ]
          },
          "metadata": {},
          "execution_count": 63
        }
      ]
    }
  ]
}