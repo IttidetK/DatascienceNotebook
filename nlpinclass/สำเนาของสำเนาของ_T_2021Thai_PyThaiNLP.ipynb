{
  "nbformat": 4,
  "nbformat_minor": 0,
  "metadata": {
    "colab": {
      "provenance": []
    },
    "kernelspec": {
      "name": "python3",
      "display_name": "Python 3"
    },
    "widgets": {
      "application/vnd.jupyter.widget-state+json": {
        "d17bece33c724412bbe4d78c62375089": {
          "model_module": "@jupyter-widgets/controls",
          "model_name": "HBoxModel",
          "model_module_version": "1.5.0",
          "state": {
            "_dom_classes": [],
            "_model_module": "@jupyter-widgets/controls",
            "_model_module_version": "1.5.0",
            "_model_name": "HBoxModel",
            "_view_count": null,
            "_view_module": "@jupyter-widgets/controls",
            "_view_module_version": "1.5.0",
            "_view_name": "HBoxView",
            "box_style": "",
            "children": [
              "IPY_MODEL_7d2d9d1e2fad4e3da45fb545d8102070",
              "IPY_MODEL_441f47461d444b46bcc19b6c6fed549c",
              "IPY_MODEL_c861054439554169b43fbde081213aac"
            ],
            "layout": "IPY_MODEL_2d91010b3aaf4db083981c1371cf7d80"
          }
        },
        "7d2d9d1e2fad4e3da45fb545d8102070": {
          "model_module": "@jupyter-widgets/controls",
          "model_name": "HTMLModel",
          "model_module_version": "1.5.0",
          "state": {
            "_dom_classes": [],
            "_model_module": "@jupyter-widgets/controls",
            "_model_module_version": "1.5.0",
            "_model_name": "HTMLModel",
            "_view_count": null,
            "_view_module": "@jupyter-widgets/controls",
            "_view_module_version": "1.5.0",
            "_view_name": "HTMLView",
            "description": "",
            "description_tooltip": null,
            "layout": "IPY_MODEL_8c9fd5ff759f42be9774ace145290935",
            "placeholder": "​",
            "style": "IPY_MODEL_0054376a8f7c4923ab6d4a268389b947",
            "value": "Downloading https://raw.githubusercontent.com/stanfordnlp/stanza-resources/main/resources_1.9.0.json: "
          }
        },
        "441f47461d444b46bcc19b6c6fed549c": {
          "model_module": "@jupyter-widgets/controls",
          "model_name": "FloatProgressModel",
          "model_module_version": "1.5.0",
          "state": {
            "_dom_classes": [],
            "_model_module": "@jupyter-widgets/controls",
            "_model_module_version": "1.5.0",
            "_model_name": "FloatProgressModel",
            "_view_count": null,
            "_view_module": "@jupyter-widgets/controls",
            "_view_module_version": "1.5.0",
            "_view_name": "ProgressView",
            "bar_style": "success",
            "description": "",
            "description_tooltip": null,
            "layout": "IPY_MODEL_7789f660b65f45dc9b5630ed80e6d453",
            "max": 48453,
            "min": 0,
            "orientation": "horizontal",
            "style": "IPY_MODEL_deb1be9a77a449528c1cfbca401f5790",
            "value": 48453
          }
        },
        "c861054439554169b43fbde081213aac": {
          "model_module": "@jupyter-widgets/controls",
          "model_name": "HTMLModel",
          "model_module_version": "1.5.0",
          "state": {
            "_dom_classes": [],
            "_model_module": "@jupyter-widgets/controls",
            "_model_module_version": "1.5.0",
            "_model_name": "HTMLModel",
            "_view_count": null,
            "_view_module": "@jupyter-widgets/controls",
            "_view_module_version": "1.5.0",
            "_view_name": "HTMLView",
            "description": "",
            "description_tooltip": null,
            "layout": "IPY_MODEL_6b62d68e75284a05a5f6fd50232e73f4",
            "placeholder": "​",
            "style": "IPY_MODEL_2130c7834f644c3084da0638ae480366",
            "value": " 392k/? [00:00&lt;00:00, 11.8MB/s]"
          }
        },
        "2d91010b3aaf4db083981c1371cf7d80": {
          "model_module": "@jupyter-widgets/base",
          "model_name": "LayoutModel",
          "model_module_version": "1.2.0",
          "state": {
            "_model_module": "@jupyter-widgets/base",
            "_model_module_version": "1.2.0",
            "_model_name": "LayoutModel",
            "_view_count": null,
            "_view_module": "@jupyter-widgets/base",
            "_view_module_version": "1.2.0",
            "_view_name": "LayoutView",
            "align_content": null,
            "align_items": null,
            "align_self": null,
            "border": null,
            "bottom": null,
            "display": null,
            "flex": null,
            "flex_flow": null,
            "grid_area": null,
            "grid_auto_columns": null,
            "grid_auto_flow": null,
            "grid_auto_rows": null,
            "grid_column": null,
            "grid_gap": null,
            "grid_row": null,
            "grid_template_areas": null,
            "grid_template_columns": null,
            "grid_template_rows": null,
            "height": null,
            "justify_content": null,
            "justify_items": null,
            "left": null,
            "margin": null,
            "max_height": null,
            "max_width": null,
            "min_height": null,
            "min_width": null,
            "object_fit": null,
            "object_position": null,
            "order": null,
            "overflow": null,
            "overflow_x": null,
            "overflow_y": null,
            "padding": null,
            "right": null,
            "top": null,
            "visibility": null,
            "width": null
          }
        },
        "8c9fd5ff759f42be9774ace145290935": {
          "model_module": "@jupyter-widgets/base",
          "model_name": "LayoutModel",
          "model_module_version": "1.2.0",
          "state": {
            "_model_module": "@jupyter-widgets/base",
            "_model_module_version": "1.2.0",
            "_model_name": "LayoutModel",
            "_view_count": null,
            "_view_module": "@jupyter-widgets/base",
            "_view_module_version": "1.2.0",
            "_view_name": "LayoutView",
            "align_content": null,
            "align_items": null,
            "align_self": null,
            "border": null,
            "bottom": null,
            "display": null,
            "flex": null,
            "flex_flow": null,
            "grid_area": null,
            "grid_auto_columns": null,
            "grid_auto_flow": null,
            "grid_auto_rows": null,
            "grid_column": null,
            "grid_gap": null,
            "grid_row": null,
            "grid_template_areas": null,
            "grid_template_columns": null,
            "grid_template_rows": null,
            "height": null,
            "justify_content": null,
            "justify_items": null,
            "left": null,
            "margin": null,
            "max_height": null,
            "max_width": null,
            "min_height": null,
            "min_width": null,
            "object_fit": null,
            "object_position": null,
            "order": null,
            "overflow": null,
            "overflow_x": null,
            "overflow_y": null,
            "padding": null,
            "right": null,
            "top": null,
            "visibility": null,
            "width": null
          }
        },
        "0054376a8f7c4923ab6d4a268389b947": {
          "model_module": "@jupyter-widgets/controls",
          "model_name": "DescriptionStyleModel",
          "model_module_version": "1.5.0",
          "state": {
            "_model_module": "@jupyter-widgets/controls",
            "_model_module_version": "1.5.0",
            "_model_name": "DescriptionStyleModel",
            "_view_count": null,
            "_view_module": "@jupyter-widgets/base",
            "_view_module_version": "1.2.0",
            "_view_name": "StyleView",
            "description_width": ""
          }
        },
        "7789f660b65f45dc9b5630ed80e6d453": {
          "model_module": "@jupyter-widgets/base",
          "model_name": "LayoutModel",
          "model_module_version": "1.2.0",
          "state": {
            "_model_module": "@jupyter-widgets/base",
            "_model_module_version": "1.2.0",
            "_model_name": "LayoutModel",
            "_view_count": null,
            "_view_module": "@jupyter-widgets/base",
            "_view_module_version": "1.2.0",
            "_view_name": "LayoutView",
            "align_content": null,
            "align_items": null,
            "align_self": null,
            "border": null,
            "bottom": null,
            "display": null,
            "flex": null,
            "flex_flow": null,
            "grid_area": null,
            "grid_auto_columns": null,
            "grid_auto_flow": null,
            "grid_auto_rows": null,
            "grid_column": null,
            "grid_gap": null,
            "grid_row": null,
            "grid_template_areas": null,
            "grid_template_columns": null,
            "grid_template_rows": null,
            "height": null,
            "justify_content": null,
            "justify_items": null,
            "left": null,
            "margin": null,
            "max_height": null,
            "max_width": null,
            "min_height": null,
            "min_width": null,
            "object_fit": null,
            "object_position": null,
            "order": null,
            "overflow": null,
            "overflow_x": null,
            "overflow_y": null,
            "padding": null,
            "right": null,
            "top": null,
            "visibility": null,
            "width": null
          }
        },
        "deb1be9a77a449528c1cfbca401f5790": {
          "model_module": "@jupyter-widgets/controls",
          "model_name": "ProgressStyleModel",
          "model_module_version": "1.5.0",
          "state": {
            "_model_module": "@jupyter-widgets/controls",
            "_model_module_version": "1.5.0",
            "_model_name": "ProgressStyleModel",
            "_view_count": null,
            "_view_module": "@jupyter-widgets/base",
            "_view_module_version": "1.2.0",
            "_view_name": "StyleView",
            "bar_color": null,
            "description_width": ""
          }
        },
        "6b62d68e75284a05a5f6fd50232e73f4": {
          "model_module": "@jupyter-widgets/base",
          "model_name": "LayoutModel",
          "model_module_version": "1.2.0",
          "state": {
            "_model_module": "@jupyter-widgets/base",
            "_model_module_version": "1.2.0",
            "_model_name": "LayoutModel",
            "_view_count": null,
            "_view_module": "@jupyter-widgets/base",
            "_view_module_version": "1.2.0",
            "_view_name": "LayoutView",
            "align_content": null,
            "align_items": null,
            "align_self": null,
            "border": null,
            "bottom": null,
            "display": null,
            "flex": null,
            "flex_flow": null,
            "grid_area": null,
            "grid_auto_columns": null,
            "grid_auto_flow": null,
            "grid_auto_rows": null,
            "grid_column": null,
            "grid_gap": null,
            "grid_row": null,
            "grid_template_areas": null,
            "grid_template_columns": null,
            "grid_template_rows": null,
            "height": null,
            "justify_content": null,
            "justify_items": null,
            "left": null,
            "margin": null,
            "max_height": null,
            "max_width": null,
            "min_height": null,
            "min_width": null,
            "object_fit": null,
            "object_position": null,
            "order": null,
            "overflow": null,
            "overflow_x": null,
            "overflow_y": null,
            "padding": null,
            "right": null,
            "top": null,
            "visibility": null,
            "width": null
          }
        },
        "2130c7834f644c3084da0638ae480366": {
          "model_module": "@jupyter-widgets/controls",
          "model_name": "DescriptionStyleModel",
          "model_module_version": "1.5.0",
          "state": {
            "_model_module": "@jupyter-widgets/controls",
            "_model_module_version": "1.5.0",
            "_model_name": "DescriptionStyleModel",
            "_view_count": null,
            "_view_module": "@jupyter-widgets/base",
            "_view_module_version": "1.2.0",
            "_view_name": "StyleView",
            "description_width": ""
          }
        },
        "be17fd3655f34a8ea8b7599e8233f844": {
          "model_module": "@jupyter-widgets/controls",
          "model_name": "HBoxModel",
          "model_module_version": "1.5.0",
          "state": {
            "_dom_classes": [],
            "_model_module": "@jupyter-widgets/controls",
            "_model_module_version": "1.5.0",
            "_model_name": "HBoxModel",
            "_view_count": null,
            "_view_module": "@jupyter-widgets/controls",
            "_view_module_version": "1.5.0",
            "_view_name": "HBoxView",
            "box_style": "",
            "children": [
              "IPY_MODEL_e1b16a1ab9264b1f8f90d0f061d93833",
              "IPY_MODEL_e5e9cf06aa37412f8e099c8d9d4cec9b",
              "IPY_MODEL_08cbc622c7074941a054a38eea3ee0c9"
            ],
            "layout": "IPY_MODEL_2aa0f1e4741544a69f6af588e071cd71"
          }
        },
        "e1b16a1ab9264b1f8f90d0f061d93833": {
          "model_module": "@jupyter-widgets/controls",
          "model_name": "HTMLModel",
          "model_module_version": "1.5.0",
          "state": {
            "_dom_classes": [],
            "_model_module": "@jupyter-widgets/controls",
            "_model_module_version": "1.5.0",
            "_model_name": "HTMLModel",
            "_view_count": null,
            "_view_module": "@jupyter-widgets/controls",
            "_view_module_version": "1.5.0",
            "_view_name": "HTMLView",
            "description": "",
            "description_tooltip": null,
            "layout": "IPY_MODEL_b94c2133de744b52b7a760e5e3923134",
            "placeholder": "​",
            "style": "IPY_MODEL_c7a61b032f1247da908bea851458efbd",
            "value": "Downloading https://huggingface.co/stanfordnlp/stanza-th/resolve/v1.9.0/models/default.zip: 100%"
          }
        },
        "e5e9cf06aa37412f8e099c8d9d4cec9b": {
          "model_module": "@jupyter-widgets/controls",
          "model_name": "FloatProgressModel",
          "model_module_version": "1.5.0",
          "state": {
            "_dom_classes": [],
            "_model_module": "@jupyter-widgets/controls",
            "_model_module_version": "1.5.0",
            "_model_name": "FloatProgressModel",
            "_view_count": null,
            "_view_module": "@jupyter-widgets/controls",
            "_view_module_version": "1.5.0",
            "_view_name": "ProgressView",
            "bar_style": "success",
            "description": "",
            "description_tooltip": null,
            "layout": "IPY_MODEL_2dc761223e5643839c20ea3128e547ae",
            "max": 241851539,
            "min": 0,
            "orientation": "horizontal",
            "style": "IPY_MODEL_0697152249bc4bd89bb6479388472d79",
            "value": 241851539
          }
        },
        "08cbc622c7074941a054a38eea3ee0c9": {
          "model_module": "@jupyter-widgets/controls",
          "model_name": "HTMLModel",
          "model_module_version": "1.5.0",
          "state": {
            "_dom_classes": [],
            "_model_module": "@jupyter-widgets/controls",
            "_model_module_version": "1.5.0",
            "_model_name": "HTMLModel",
            "_view_count": null,
            "_view_module": "@jupyter-widgets/controls",
            "_view_module_version": "1.5.0",
            "_view_name": "HTMLView",
            "description": "",
            "description_tooltip": null,
            "layout": "IPY_MODEL_a43cf440ec024ac1a69395d2dfd7cf7a",
            "placeholder": "​",
            "style": "IPY_MODEL_a8349216adfc48f6bc50d1826a71435e",
            "value": " 242M/242M [00:01&lt;00:00, 161MB/s]"
          }
        },
        "2aa0f1e4741544a69f6af588e071cd71": {
          "model_module": "@jupyter-widgets/base",
          "model_name": "LayoutModel",
          "model_module_version": "1.2.0",
          "state": {
            "_model_module": "@jupyter-widgets/base",
            "_model_module_version": "1.2.0",
            "_model_name": "LayoutModel",
            "_view_count": null,
            "_view_module": "@jupyter-widgets/base",
            "_view_module_version": "1.2.0",
            "_view_name": "LayoutView",
            "align_content": null,
            "align_items": null,
            "align_self": null,
            "border": null,
            "bottom": null,
            "display": null,
            "flex": null,
            "flex_flow": null,
            "grid_area": null,
            "grid_auto_columns": null,
            "grid_auto_flow": null,
            "grid_auto_rows": null,
            "grid_column": null,
            "grid_gap": null,
            "grid_row": null,
            "grid_template_areas": null,
            "grid_template_columns": null,
            "grid_template_rows": null,
            "height": null,
            "justify_content": null,
            "justify_items": null,
            "left": null,
            "margin": null,
            "max_height": null,
            "max_width": null,
            "min_height": null,
            "min_width": null,
            "object_fit": null,
            "object_position": null,
            "order": null,
            "overflow": null,
            "overflow_x": null,
            "overflow_y": null,
            "padding": null,
            "right": null,
            "top": null,
            "visibility": null,
            "width": null
          }
        },
        "b94c2133de744b52b7a760e5e3923134": {
          "model_module": "@jupyter-widgets/base",
          "model_name": "LayoutModel",
          "model_module_version": "1.2.0",
          "state": {
            "_model_module": "@jupyter-widgets/base",
            "_model_module_version": "1.2.0",
            "_model_name": "LayoutModel",
            "_view_count": null,
            "_view_module": "@jupyter-widgets/base",
            "_view_module_version": "1.2.0",
            "_view_name": "LayoutView",
            "align_content": null,
            "align_items": null,
            "align_self": null,
            "border": null,
            "bottom": null,
            "display": null,
            "flex": null,
            "flex_flow": null,
            "grid_area": null,
            "grid_auto_columns": null,
            "grid_auto_flow": null,
            "grid_auto_rows": null,
            "grid_column": null,
            "grid_gap": null,
            "grid_row": null,
            "grid_template_areas": null,
            "grid_template_columns": null,
            "grid_template_rows": null,
            "height": null,
            "justify_content": null,
            "justify_items": null,
            "left": null,
            "margin": null,
            "max_height": null,
            "max_width": null,
            "min_height": null,
            "min_width": null,
            "object_fit": null,
            "object_position": null,
            "order": null,
            "overflow": null,
            "overflow_x": null,
            "overflow_y": null,
            "padding": null,
            "right": null,
            "top": null,
            "visibility": null,
            "width": null
          }
        },
        "c7a61b032f1247da908bea851458efbd": {
          "model_module": "@jupyter-widgets/controls",
          "model_name": "DescriptionStyleModel",
          "model_module_version": "1.5.0",
          "state": {
            "_model_module": "@jupyter-widgets/controls",
            "_model_module_version": "1.5.0",
            "_model_name": "DescriptionStyleModel",
            "_view_count": null,
            "_view_module": "@jupyter-widgets/base",
            "_view_module_version": "1.2.0",
            "_view_name": "StyleView",
            "description_width": ""
          }
        },
        "2dc761223e5643839c20ea3128e547ae": {
          "model_module": "@jupyter-widgets/base",
          "model_name": "LayoutModel",
          "model_module_version": "1.2.0",
          "state": {
            "_model_module": "@jupyter-widgets/base",
            "_model_module_version": "1.2.0",
            "_model_name": "LayoutModel",
            "_view_count": null,
            "_view_module": "@jupyter-widgets/base",
            "_view_module_version": "1.2.0",
            "_view_name": "LayoutView",
            "align_content": null,
            "align_items": null,
            "align_self": null,
            "border": null,
            "bottom": null,
            "display": null,
            "flex": null,
            "flex_flow": null,
            "grid_area": null,
            "grid_auto_columns": null,
            "grid_auto_flow": null,
            "grid_auto_rows": null,
            "grid_column": null,
            "grid_gap": null,
            "grid_row": null,
            "grid_template_areas": null,
            "grid_template_columns": null,
            "grid_template_rows": null,
            "height": null,
            "justify_content": null,
            "justify_items": null,
            "left": null,
            "margin": null,
            "max_height": null,
            "max_width": null,
            "min_height": null,
            "min_width": null,
            "object_fit": null,
            "object_position": null,
            "order": null,
            "overflow": null,
            "overflow_x": null,
            "overflow_y": null,
            "padding": null,
            "right": null,
            "top": null,
            "visibility": null,
            "width": null
          }
        },
        "0697152249bc4bd89bb6479388472d79": {
          "model_module": "@jupyter-widgets/controls",
          "model_name": "ProgressStyleModel",
          "model_module_version": "1.5.0",
          "state": {
            "_model_module": "@jupyter-widgets/controls",
            "_model_module_version": "1.5.0",
            "_model_name": "ProgressStyleModel",
            "_view_count": null,
            "_view_module": "@jupyter-widgets/base",
            "_view_module_version": "1.2.0",
            "_view_name": "StyleView",
            "bar_color": null,
            "description_width": ""
          }
        },
        "a43cf440ec024ac1a69395d2dfd7cf7a": {
          "model_module": "@jupyter-widgets/base",
          "model_name": "LayoutModel",
          "model_module_version": "1.2.0",
          "state": {
            "_model_module": "@jupyter-widgets/base",
            "_model_module_version": "1.2.0",
            "_model_name": "LayoutModel",
            "_view_count": null,
            "_view_module": "@jupyter-widgets/base",
            "_view_module_version": "1.2.0",
            "_view_name": "LayoutView",
            "align_content": null,
            "align_items": null,
            "align_self": null,
            "border": null,
            "bottom": null,
            "display": null,
            "flex": null,
            "flex_flow": null,
            "grid_area": null,
            "grid_auto_columns": null,
            "grid_auto_flow": null,
            "grid_auto_rows": null,
            "grid_column": null,
            "grid_gap": null,
            "grid_row": null,
            "grid_template_areas": null,
            "grid_template_columns": null,
            "grid_template_rows": null,
            "height": null,
            "justify_content": null,
            "justify_items": null,
            "left": null,
            "margin": null,
            "max_height": null,
            "max_width": null,
            "min_height": null,
            "min_width": null,
            "object_fit": null,
            "object_position": null,
            "order": null,
            "overflow": null,
            "overflow_x": null,
            "overflow_y": null,
            "padding": null,
            "right": null,
            "top": null,
            "visibility": null,
            "width": null
          }
        },
        "a8349216adfc48f6bc50d1826a71435e": {
          "model_module": "@jupyter-widgets/controls",
          "model_name": "DescriptionStyleModel",
          "model_module_version": "1.5.0",
          "state": {
            "_model_module": "@jupyter-widgets/controls",
            "_model_module_version": "1.5.0",
            "_model_name": "DescriptionStyleModel",
            "_view_count": null,
            "_view_module": "@jupyter-widgets/base",
            "_view_module_version": "1.2.0",
            "_view_name": "StyleView",
            "description_width": ""
          }
        },
        "ca8d83e1c8c3449f99e2aead1eaea1f3": {
          "model_module": "@jupyter-widgets/controls",
          "model_name": "HBoxModel",
          "model_module_version": "1.5.0",
          "state": {
            "_dom_classes": [],
            "_model_module": "@jupyter-widgets/controls",
            "_model_module_version": "1.5.0",
            "_model_name": "HBoxModel",
            "_view_count": null,
            "_view_module": "@jupyter-widgets/controls",
            "_view_module_version": "1.5.0",
            "_view_name": "HBoxView",
            "box_style": "",
            "children": [
              "IPY_MODEL_0465481255b44f09861359792b8ffcd1",
              "IPY_MODEL_31f60e9b3ccc45b499444161e06be6c5",
              "IPY_MODEL_4371280703af4219b4f001f565f6b715"
            ],
            "layout": "IPY_MODEL_9b8447287d5c4feb8296c3585fef7110"
          }
        },
        "0465481255b44f09861359792b8ffcd1": {
          "model_module": "@jupyter-widgets/controls",
          "model_name": "HTMLModel",
          "model_module_version": "1.5.0",
          "state": {
            "_dom_classes": [],
            "_model_module": "@jupyter-widgets/controls",
            "_model_module_version": "1.5.0",
            "_model_name": "HTMLModel",
            "_view_count": null,
            "_view_module": "@jupyter-widgets/controls",
            "_view_module_version": "1.5.0",
            "_view_name": "HTMLView",
            "description": "",
            "description_tooltip": null,
            "layout": "IPY_MODEL_aa43098355714dd5b0853a02501bba88",
            "placeholder": "​",
            "style": "IPY_MODEL_a37709cf083c4bdaa863c4be188aed76",
            "value": "Downloading https://raw.githubusercontent.com/stanfordnlp/stanza-resources/main/resources_1.9.0.json: "
          }
        },
        "31f60e9b3ccc45b499444161e06be6c5": {
          "model_module": "@jupyter-widgets/controls",
          "model_name": "FloatProgressModel",
          "model_module_version": "1.5.0",
          "state": {
            "_dom_classes": [],
            "_model_module": "@jupyter-widgets/controls",
            "_model_module_version": "1.5.0",
            "_model_name": "FloatProgressModel",
            "_view_count": null,
            "_view_module": "@jupyter-widgets/controls",
            "_view_module_version": "1.5.0",
            "_view_name": "ProgressView",
            "bar_style": "success",
            "description": "",
            "description_tooltip": null,
            "layout": "IPY_MODEL_a2a10e2afcb64473885b154e678dc6f6",
            "max": 48453,
            "min": 0,
            "orientation": "horizontal",
            "style": "IPY_MODEL_0b7cda4898d84dd999ca1ce9d6401630",
            "value": 48453
          }
        },
        "4371280703af4219b4f001f565f6b715": {
          "model_module": "@jupyter-widgets/controls",
          "model_name": "HTMLModel",
          "model_module_version": "1.5.0",
          "state": {
            "_dom_classes": [],
            "_model_module": "@jupyter-widgets/controls",
            "_model_module_version": "1.5.0",
            "_model_name": "HTMLModel",
            "_view_count": null,
            "_view_module": "@jupyter-widgets/controls",
            "_view_module_version": "1.5.0",
            "_view_name": "HTMLView",
            "description": "",
            "description_tooltip": null,
            "layout": "IPY_MODEL_8d8732cf86e343b88304565c379b269f",
            "placeholder": "​",
            "style": "IPY_MODEL_6d57654440064defb97732adab1f70d9",
            "value": " 392k/? [00:00&lt;00:00, 6.13MB/s]"
          }
        },
        "9b8447287d5c4feb8296c3585fef7110": {
          "model_module": "@jupyter-widgets/base",
          "model_name": "LayoutModel",
          "model_module_version": "1.2.0",
          "state": {
            "_model_module": "@jupyter-widgets/base",
            "_model_module_version": "1.2.0",
            "_model_name": "LayoutModel",
            "_view_count": null,
            "_view_module": "@jupyter-widgets/base",
            "_view_module_version": "1.2.0",
            "_view_name": "LayoutView",
            "align_content": null,
            "align_items": null,
            "align_self": null,
            "border": null,
            "bottom": null,
            "display": null,
            "flex": null,
            "flex_flow": null,
            "grid_area": null,
            "grid_auto_columns": null,
            "grid_auto_flow": null,
            "grid_auto_rows": null,
            "grid_column": null,
            "grid_gap": null,
            "grid_row": null,
            "grid_template_areas": null,
            "grid_template_columns": null,
            "grid_template_rows": null,
            "height": null,
            "justify_content": null,
            "justify_items": null,
            "left": null,
            "margin": null,
            "max_height": null,
            "max_width": null,
            "min_height": null,
            "min_width": null,
            "object_fit": null,
            "object_position": null,
            "order": null,
            "overflow": null,
            "overflow_x": null,
            "overflow_y": null,
            "padding": null,
            "right": null,
            "top": null,
            "visibility": null,
            "width": null
          }
        },
        "aa43098355714dd5b0853a02501bba88": {
          "model_module": "@jupyter-widgets/base",
          "model_name": "LayoutModel",
          "model_module_version": "1.2.0",
          "state": {
            "_model_module": "@jupyter-widgets/base",
            "_model_module_version": "1.2.0",
            "_model_name": "LayoutModel",
            "_view_count": null,
            "_view_module": "@jupyter-widgets/base",
            "_view_module_version": "1.2.0",
            "_view_name": "LayoutView",
            "align_content": null,
            "align_items": null,
            "align_self": null,
            "border": null,
            "bottom": null,
            "display": null,
            "flex": null,
            "flex_flow": null,
            "grid_area": null,
            "grid_auto_columns": null,
            "grid_auto_flow": null,
            "grid_auto_rows": null,
            "grid_column": null,
            "grid_gap": null,
            "grid_row": null,
            "grid_template_areas": null,
            "grid_template_columns": null,
            "grid_template_rows": null,
            "height": null,
            "justify_content": null,
            "justify_items": null,
            "left": null,
            "margin": null,
            "max_height": null,
            "max_width": null,
            "min_height": null,
            "min_width": null,
            "object_fit": null,
            "object_position": null,
            "order": null,
            "overflow": null,
            "overflow_x": null,
            "overflow_y": null,
            "padding": null,
            "right": null,
            "top": null,
            "visibility": null,
            "width": null
          }
        },
        "a37709cf083c4bdaa863c4be188aed76": {
          "model_module": "@jupyter-widgets/controls",
          "model_name": "DescriptionStyleModel",
          "model_module_version": "1.5.0",
          "state": {
            "_model_module": "@jupyter-widgets/controls",
            "_model_module_version": "1.5.0",
            "_model_name": "DescriptionStyleModel",
            "_view_count": null,
            "_view_module": "@jupyter-widgets/base",
            "_view_module_version": "1.2.0",
            "_view_name": "StyleView",
            "description_width": ""
          }
        },
        "a2a10e2afcb64473885b154e678dc6f6": {
          "model_module": "@jupyter-widgets/base",
          "model_name": "LayoutModel",
          "model_module_version": "1.2.0",
          "state": {
            "_model_module": "@jupyter-widgets/base",
            "_model_module_version": "1.2.0",
            "_model_name": "LayoutModel",
            "_view_count": null,
            "_view_module": "@jupyter-widgets/base",
            "_view_module_version": "1.2.0",
            "_view_name": "LayoutView",
            "align_content": null,
            "align_items": null,
            "align_self": null,
            "border": null,
            "bottom": null,
            "display": null,
            "flex": null,
            "flex_flow": null,
            "grid_area": null,
            "grid_auto_columns": null,
            "grid_auto_flow": null,
            "grid_auto_rows": null,
            "grid_column": null,
            "grid_gap": null,
            "grid_row": null,
            "grid_template_areas": null,
            "grid_template_columns": null,
            "grid_template_rows": null,
            "height": null,
            "justify_content": null,
            "justify_items": null,
            "left": null,
            "margin": null,
            "max_height": null,
            "max_width": null,
            "min_height": null,
            "min_width": null,
            "object_fit": null,
            "object_position": null,
            "order": null,
            "overflow": null,
            "overflow_x": null,
            "overflow_y": null,
            "padding": null,
            "right": null,
            "top": null,
            "visibility": null,
            "width": null
          }
        },
        "0b7cda4898d84dd999ca1ce9d6401630": {
          "model_module": "@jupyter-widgets/controls",
          "model_name": "ProgressStyleModel",
          "model_module_version": "1.5.0",
          "state": {
            "_model_module": "@jupyter-widgets/controls",
            "_model_module_version": "1.5.0",
            "_model_name": "ProgressStyleModel",
            "_view_count": null,
            "_view_module": "@jupyter-widgets/base",
            "_view_module_version": "1.2.0",
            "_view_name": "StyleView",
            "bar_color": null,
            "description_width": ""
          }
        },
        "8d8732cf86e343b88304565c379b269f": {
          "model_module": "@jupyter-widgets/base",
          "model_name": "LayoutModel",
          "model_module_version": "1.2.0",
          "state": {
            "_model_module": "@jupyter-widgets/base",
            "_model_module_version": "1.2.0",
            "_model_name": "LayoutModel",
            "_view_count": null,
            "_view_module": "@jupyter-widgets/base",
            "_view_module_version": "1.2.0",
            "_view_name": "LayoutView",
            "align_content": null,
            "align_items": null,
            "align_self": null,
            "border": null,
            "bottom": null,
            "display": null,
            "flex": null,
            "flex_flow": null,
            "grid_area": null,
            "grid_auto_columns": null,
            "grid_auto_flow": null,
            "grid_auto_rows": null,
            "grid_column": null,
            "grid_gap": null,
            "grid_row": null,
            "grid_template_areas": null,
            "grid_template_columns": null,
            "grid_template_rows": null,
            "height": null,
            "justify_content": null,
            "justify_items": null,
            "left": null,
            "margin": null,
            "max_height": null,
            "max_width": null,
            "min_height": null,
            "min_width": null,
            "object_fit": null,
            "object_position": null,
            "order": null,
            "overflow": null,
            "overflow_x": null,
            "overflow_y": null,
            "padding": null,
            "right": null,
            "top": null,
            "visibility": null,
            "width": null
          }
        },
        "6d57654440064defb97732adab1f70d9": {
          "model_module": "@jupyter-widgets/controls",
          "model_name": "DescriptionStyleModel",
          "model_module_version": "1.5.0",
          "state": {
            "_model_module": "@jupyter-widgets/controls",
            "_model_module_version": "1.5.0",
            "_model_name": "DescriptionStyleModel",
            "_view_count": null,
            "_view_module": "@jupyter-widgets/base",
            "_view_module_version": "1.2.0",
            "_view_name": "StyleView",
            "description_width": ""
          }
        }
      }
    }
  },
  "cells": [
    {
      "cell_type": "markdown",
      "source": [
        "### นายอิทธิเดช กระจ่าง 6430250440"
      ],
      "metadata": {
        "id": "tdBY4cd2kEnn"
      }
    },
    {
      "cell_type": "markdown",
      "metadata": {
        "id": "mbq7Wj3GbGyb"
      },
      "source": [
        "# Reference  \n",
        "1.   PyThaiNlp https://pythainlp.github.io\n",
        "2.   news https://www.sanook.com/hitech/1482489/\n",
        "3.   Thai word tokennization https://bit.ly/2RZPMCV\n"
      ]
    },
    {
      "cell_type": "markdown",
      "metadata": {
        "id": "uNJnNAUE9UOe"
      },
      "source": [
        "# 0.Import pythainlp and deepcut"
      ]
    },
    {
      "cell_type": "code",
      "metadata": {
        "id": "HAX-ovdurZ1C",
        "colab": {
          "base_uri": "https://localhost:8080/"
        },
        "outputId": "a68f4722-c151-4eab-87e1-03c488a7eaf2"
      },
      "source": [
        "!pip install pythainlp\n",
        "!pip install deepcut\n",
        "import pythainlp"
      ],
      "execution_count": null,
      "outputs": [
        {
          "output_type": "stream",
          "name": "stdout",
          "text": [
            "Collecting pythainlp\n",
            "  Downloading pythainlp-5.0.4-py3-none-any.whl.metadata (7.7 kB)\n",
            "Requirement already satisfied: requests>=2.22.0 in /usr/local/lib/python3.10/dist-packages (from pythainlp) (2.32.3)\n",
            "Requirement already satisfied: charset-normalizer<4,>=2 in /usr/local/lib/python3.10/dist-packages (from requests>=2.22.0->pythainlp) (3.4.0)\n",
            "Requirement already satisfied: idna<4,>=2.5 in /usr/local/lib/python3.10/dist-packages (from requests>=2.22.0->pythainlp) (3.10)\n",
            "Requirement already satisfied: urllib3<3,>=1.21.1 in /usr/local/lib/python3.10/dist-packages (from requests>=2.22.0->pythainlp) (2.2.3)\n",
            "Requirement already satisfied: certifi>=2017.4.17 in /usr/local/lib/python3.10/dist-packages (from requests>=2.22.0->pythainlp) (2024.8.30)\n",
            "Downloading pythainlp-5.0.4-py3-none-any.whl (17.9 MB)\n",
            "\u001b[2K   \u001b[90m━━━━━━━━━━━━━━━━━━━━━━━━━━━━━━━━━━━━━━━━\u001b[0m \u001b[32m17.9/17.9 MB\u001b[0m \u001b[31m30.5 MB/s\u001b[0m eta \u001b[36m0:00:00\u001b[0m\n",
            "\u001b[?25hInstalling collected packages: pythainlp\n",
            "Successfully installed pythainlp-5.0.4\n",
            "Collecting deepcut\n",
            "  Downloading deepcut-0.7.0.0-py3-none-any.whl.metadata (600 bytes)\n",
            "Requirement already satisfied: tensorflow>=2.0.0 in /usr/local/lib/python3.10/dist-packages (from deepcut) (2.17.1)\n",
            "Requirement already satisfied: pandas in /usr/local/lib/python3.10/dist-packages (from deepcut) (2.2.2)\n",
            "Requirement already satisfied: scipy in /usr/local/lib/python3.10/dist-packages (from deepcut) (1.13.1)\n",
            "Requirement already satisfied: numpy in /usr/local/lib/python3.10/dist-packages (from deepcut) (1.26.4)\n",
            "Requirement already satisfied: scikit-learn in /usr/local/lib/python3.10/dist-packages (from deepcut) (1.5.2)\n",
            "Requirement already satisfied: h5py in /usr/local/lib/python3.10/dist-packages (from deepcut) (3.12.1)\n",
            "Requirement already satisfied: absl-py>=1.0.0 in /usr/local/lib/python3.10/dist-packages (from tensorflow>=2.0.0->deepcut) (1.4.0)\n",
            "Requirement already satisfied: astunparse>=1.6.0 in /usr/local/lib/python3.10/dist-packages (from tensorflow>=2.0.0->deepcut) (1.6.3)\n",
            "Requirement already satisfied: flatbuffers>=24.3.25 in /usr/local/lib/python3.10/dist-packages (from tensorflow>=2.0.0->deepcut) (24.3.25)\n",
            "Requirement already satisfied: gast!=0.5.0,!=0.5.1,!=0.5.2,>=0.2.1 in /usr/local/lib/python3.10/dist-packages (from tensorflow>=2.0.0->deepcut) (0.6.0)\n",
            "Requirement already satisfied: google-pasta>=0.1.1 in /usr/local/lib/python3.10/dist-packages (from tensorflow>=2.0.0->deepcut) (0.2.0)\n",
            "Requirement already satisfied: libclang>=13.0.0 in /usr/local/lib/python3.10/dist-packages (from tensorflow>=2.0.0->deepcut) (18.1.1)\n",
            "Requirement already satisfied: ml-dtypes<0.5.0,>=0.3.1 in /usr/local/lib/python3.10/dist-packages (from tensorflow>=2.0.0->deepcut) (0.4.1)\n",
            "Requirement already satisfied: opt-einsum>=2.3.2 in /usr/local/lib/python3.10/dist-packages (from tensorflow>=2.0.0->deepcut) (3.4.0)\n",
            "Requirement already satisfied: packaging in /usr/local/lib/python3.10/dist-packages (from tensorflow>=2.0.0->deepcut) (24.2)\n",
            "Requirement already satisfied: protobuf!=4.21.0,!=4.21.1,!=4.21.2,!=4.21.3,!=4.21.4,!=4.21.5,<5.0.0dev,>=3.20.3 in /usr/local/lib/python3.10/dist-packages (from tensorflow>=2.0.0->deepcut) (4.25.5)\n",
            "Requirement already satisfied: requests<3,>=2.21.0 in /usr/local/lib/python3.10/dist-packages (from tensorflow>=2.0.0->deepcut) (2.32.3)\n",
            "Requirement already satisfied: setuptools in /usr/local/lib/python3.10/dist-packages (from tensorflow>=2.0.0->deepcut) (75.1.0)\n",
            "Requirement already satisfied: six>=1.12.0 in /usr/local/lib/python3.10/dist-packages (from tensorflow>=2.0.0->deepcut) (1.16.0)\n",
            "Requirement already satisfied: termcolor>=1.1.0 in /usr/local/lib/python3.10/dist-packages (from tensorflow>=2.0.0->deepcut) (2.5.0)\n",
            "Requirement already satisfied: typing-extensions>=3.6.6 in /usr/local/lib/python3.10/dist-packages (from tensorflow>=2.0.0->deepcut) (4.12.2)\n",
            "Requirement already satisfied: wrapt>=1.11.0 in /usr/local/lib/python3.10/dist-packages (from tensorflow>=2.0.0->deepcut) (1.16.0)\n",
            "Requirement already satisfied: grpcio<2.0,>=1.24.3 in /usr/local/lib/python3.10/dist-packages (from tensorflow>=2.0.0->deepcut) (1.68.0)\n",
            "Requirement already satisfied: tensorboard<2.18,>=2.17 in /usr/local/lib/python3.10/dist-packages (from tensorflow>=2.0.0->deepcut) (2.17.1)\n",
            "Requirement already satisfied: keras>=3.2.0 in /usr/local/lib/python3.10/dist-packages (from tensorflow>=2.0.0->deepcut) (3.5.0)\n",
            "Requirement already satisfied: tensorflow-io-gcs-filesystem>=0.23.1 in /usr/local/lib/python3.10/dist-packages (from tensorflow>=2.0.0->deepcut) (0.37.1)\n",
            "Requirement already satisfied: python-dateutil>=2.8.2 in /usr/local/lib/python3.10/dist-packages (from pandas->deepcut) (2.8.2)\n",
            "Requirement already satisfied: pytz>=2020.1 in /usr/local/lib/python3.10/dist-packages (from pandas->deepcut) (2024.2)\n",
            "Requirement already satisfied: tzdata>=2022.7 in /usr/local/lib/python3.10/dist-packages (from pandas->deepcut) (2024.2)\n",
            "Requirement already satisfied: joblib>=1.2.0 in /usr/local/lib/python3.10/dist-packages (from scikit-learn->deepcut) (1.4.2)\n",
            "Requirement already satisfied: threadpoolctl>=3.1.0 in /usr/local/lib/python3.10/dist-packages (from scikit-learn->deepcut) (3.5.0)\n",
            "Requirement already satisfied: wheel<1.0,>=0.23.0 in /usr/local/lib/python3.10/dist-packages (from astunparse>=1.6.0->tensorflow>=2.0.0->deepcut) (0.45.0)\n",
            "Requirement already satisfied: rich in /usr/local/lib/python3.10/dist-packages (from keras>=3.2.0->tensorflow>=2.0.0->deepcut) (13.9.4)\n",
            "Requirement already satisfied: namex in /usr/local/lib/python3.10/dist-packages (from keras>=3.2.0->tensorflow>=2.0.0->deepcut) (0.0.8)\n",
            "Requirement already satisfied: optree in /usr/local/lib/python3.10/dist-packages (from keras>=3.2.0->tensorflow>=2.0.0->deepcut) (0.13.1)\n",
            "Requirement already satisfied: charset-normalizer<4,>=2 in /usr/local/lib/python3.10/dist-packages (from requests<3,>=2.21.0->tensorflow>=2.0.0->deepcut) (3.4.0)\n",
            "Requirement already satisfied: idna<4,>=2.5 in /usr/local/lib/python3.10/dist-packages (from requests<3,>=2.21.0->tensorflow>=2.0.0->deepcut) (3.10)\n",
            "Requirement already satisfied: urllib3<3,>=1.21.1 in /usr/local/lib/python3.10/dist-packages (from requests<3,>=2.21.0->tensorflow>=2.0.0->deepcut) (2.2.3)\n",
            "Requirement already satisfied: certifi>=2017.4.17 in /usr/local/lib/python3.10/dist-packages (from requests<3,>=2.21.0->tensorflow>=2.0.0->deepcut) (2024.8.30)\n",
            "Requirement already satisfied: markdown>=2.6.8 in /usr/local/lib/python3.10/dist-packages (from tensorboard<2.18,>=2.17->tensorflow>=2.0.0->deepcut) (3.7)\n",
            "Requirement already satisfied: tensorboard-data-server<0.8.0,>=0.7.0 in /usr/local/lib/python3.10/dist-packages (from tensorboard<2.18,>=2.17->tensorflow>=2.0.0->deepcut) (0.7.2)\n",
            "Requirement already satisfied: werkzeug>=1.0.1 in /usr/local/lib/python3.10/dist-packages (from tensorboard<2.18,>=2.17->tensorflow>=2.0.0->deepcut) (3.1.3)\n",
            "Requirement already satisfied: MarkupSafe>=2.1.1 in /usr/local/lib/python3.10/dist-packages (from werkzeug>=1.0.1->tensorboard<2.18,>=2.17->tensorflow>=2.0.0->deepcut) (3.0.2)\n",
            "Requirement already satisfied: markdown-it-py>=2.2.0 in /usr/local/lib/python3.10/dist-packages (from rich->keras>=3.2.0->tensorflow>=2.0.0->deepcut) (3.0.0)\n",
            "Requirement already satisfied: pygments<3.0.0,>=2.13.0 in /usr/local/lib/python3.10/dist-packages (from rich->keras>=3.2.0->tensorflow>=2.0.0->deepcut) (2.18.0)\n",
            "Requirement already satisfied: mdurl~=0.1 in /usr/local/lib/python3.10/dist-packages (from markdown-it-py>=2.2.0->rich->keras>=3.2.0->tensorflow>=2.0.0->deepcut) (0.1.2)\n",
            "Downloading deepcut-0.7.0.0-py3-none-any.whl (2.0 MB)\n",
            "\u001b[2K   \u001b[90m━━━━━━━━━━━━━━━━━━━━━━━━━━━━━━━━━━━━━━━━\u001b[0m \u001b[32m2.0/2.0 MB\u001b[0m \u001b[31m28.9 MB/s\u001b[0m eta \u001b[36m0:00:00\u001b[0m\n",
            "\u001b[?25hInstalling collected packages: deepcut\n",
            "Successfully installed deepcut-0.7.0.0\n"
          ]
        }
      ]
    },
    {
      "cell_type": "markdown",
      "metadata": {
        "id": "Qwzb-SJvllNN"
      },
      "source": [
        "# 1.Cleaning"
      ]
    },
    {
      "cell_type": "code",
      "metadata": {
        "id": "HiHhGmN_yw-E"
      },
      "source": [
        "text_list = ['''<H1><p>#Google#สแกนนิ้ว#2019#ที่สุด ล็อกอินเข้า\\n“บัญชี Google” ง่ายขึ้น เพียงแค่ “สแกนนิ้ว” บนสมาร์ตโฟน Android</p></H1><br>''',\n",
        "             '''<H2><B>เมื่อวันก่อน Google </B>\\tได้เผยฟีเจอร์ใหม่ที่จะทำให้ผู้ใช้สามารถยืนยันตัวตนบนบริการต่าง ๆ ของ Google ได้ง่าย ๆ<img src='https://xxx'></H2>โดยไม่ต้องใช้รหัสผ่านอีกต่อไป''']"
      ],
      "execution_count": null,
      "outputs": []
    },
    {
      "cell_type": "code",
      "metadata": {
        "id": "OJNGFeVDzhHL"
      },
      "source": [
        "import re  #นำ module re คือ regular expression module มาใช้\n",
        "import string\n",
        "\n",
        "\n",
        "def clean_msg(msg):\n",
        "  #remove html tag\n",
        "  Tag_clean = re.compile(r'<[^>]+>')\n",
        "  msg=Tag_clean.sub('', msg)\n",
        "\n",
        "  #remove # and  “ , ”\n",
        "  msg = re.sub(r'#|”|“',' ',msg)\n",
        "\n",
        "  #remove separator (\\n, \\t)\n",
        "  msg = ' '.join(msg.split())\n",
        "\n",
        "  #remove numeric\n",
        "  msg = ''.join([i for i in msg if not i.isdigit()])\n",
        "\n",
        "  return msg"
      ],
      "execution_count": null,
      "outputs": []
    },
    {
      "cell_type": "code",
      "metadata": {
        "id": "cAqZE1H92fLY",
        "colab": {
          "base_uri": "https://localhost:8080/"
        },
        "outputId": "fb23838a-167c-406f-e84e-6912b55ca557"
      },
      "source": [
        "print('original text-1:\\n',text_list[0])\n",
        "print('original text-2:\\n',text_list[1])\n",
        "print('\\n=====================\\n')\n",
        "print('clean text-1:\\n',clean_msg(text_list[0]))\n",
        "print('clean text-2 :\\n',clean_msg(text_list[1]))"
      ],
      "execution_count": null,
      "outputs": [
        {
          "output_type": "stream",
          "name": "stdout",
          "text": [
            "original text-1:\n",
            " <H1><p>#Google#สแกนนิ้ว#2019#ที่สุด ล็อกอินเข้า\n",
            "“บัญชี Google” ง่ายขึ้น เพียงแค่ “สแกนนิ้ว” บนสมาร์ตโฟน Android</p></H1><br>\n",
            "original text-2:\n",
            " <H2><B>เมื่อวันก่อน Google </B>\tได้เผยฟีเจอร์ใหม่ที่จะทำให้ผู้ใช้สามารถยืนยันตัวตนบนบริการต่าง ๆ ของ Google ได้ง่าย ๆ<img src='https://xxx'></H2>โดยไม่ต้องใช้รหัสผ่านอีกต่อไป\n",
            "\n",
            "=====================\n",
            "\n",
            "clean text-1:\n",
            " Google สแกนนิ้ว  ที่สุด ล็อกอินเข้า บัญชี Google ง่ายขึ้น เพียงแค่ สแกนนิ้ว บนสมาร์ตโฟน Android\n",
            "clean text-2 :\n",
            " เมื่อวันก่อน Google ได้เผยฟีเจอร์ใหม่ที่จะทำให้ผู้ใช้สามารถยืนยันตัวตนบนบริการต่าง ๆ ของ Google ได้ง่าย ๆโดยไม่ต้องใช้รหัสผ่านอีกต่อไป\n"
          ]
        }
      ]
    },
    {
      "cell_type": "code",
      "metadata": {
        "id": "XM4tAaU2Gxf-",
        "colab": {
          "base_uri": "https://localhost:8080/"
        },
        "outputId": "d58a20c9-8463-4172-95bc-51c931462568"
      },
      "source": [
        "#using for loop for clean\n",
        "clean_text = [clean_msg(txt) for txt in text_list]\n",
        "print(clean_text[0])\n",
        "print(clean_text[1])"
      ],
      "execution_count": null,
      "outputs": [
        {
          "output_type": "stream",
          "name": "stdout",
          "text": [
            "Google สแกนนิ้ว  ที่สุด ล็อกอินเข้า บัญชี Google ง่ายขึ้น เพียงแค่ สแกนนิ้ว บนสมาร์ตโฟน Android\n",
            "เมื่อวันก่อน Google ได้เผยฟีเจอร์ใหม่ที่จะทำให้ผู้ใช้สามารถยืนยันตัวตนบนบริการต่าง ๆ ของ Google ได้ง่าย ๆโดยไม่ต้องใช้รหัสผ่านอีกต่อไป\n"
          ]
        }
      ]
    },
    {
      "cell_type": "markdown",
      "metadata": {
        "id": "HMsJiL3-_4p5"
      },
      "source": [
        "#2.Segmentation"
      ]
    },
    {
      "cell_type": "markdown",
      "metadata": {
        "id": "pP-p38iVKdKC"
      },
      "source": [
        "##2.1.sentences tokenization"
      ]
    },
    {
      "cell_type": "code",
      "metadata": {
        "id": "nkMP7HMKtMM6",
        "colab": {
          "base_uri": "https://localhost:8080/"
        },
        "outputId": "286d69a2-9aa2-4bbb-8b4f-731bdeab3232"
      },
      "source": [
        "from pythainlp.tokenize import sent_tokenize\n",
        "thai_sen = \"เมื่อวันก่อน Google\\nได้เผยฟีเจอร์ใหม่\\tที่จะทำให้ผู้ใช้สามารถยืนยันตัวตนบนบริการต่าง ๆ ของ Google ได้ง่าย ๆ\"\n",
        "sen_token = sent_tokenize(thai_sen, engine=\"whitespace\")\n",
        "\n",
        "print('original thai_sen:\\n',thai_sen)\n",
        "print('sent_tokenize:\\n',sen_token)"
      ],
      "execution_count": null,
      "outputs": [
        {
          "output_type": "stream",
          "name": "stdout",
          "text": [
            "original thai_sen:\n",
            " เมื่อวันก่อน Google\n",
            "ได้เผยฟีเจอร์ใหม่\tที่จะทำให้ผู้ใช้สามารถยืนยันตัวตนบนบริการต่าง ๆ ของ Google ได้ง่าย ๆ\n",
            "sent_tokenize:\n",
            " ['เมื่อวันก่อน', 'Google\\nได้เผยฟีเจอร์ใหม่\\tที่จะทำให้ผู้ใช้สามารถยืนยันตัวตนบนบริการต่าง', 'ๆ', 'ของ', 'Google', 'ได้ง่าย', 'ๆ']\n"
          ]
        }
      ]
    },
    {
      "cell_type": "code",
      "metadata": {
        "id": "FBeE0DepscyC",
        "colab": {
          "base_uri": "https://localhost:8080/"
        },
        "outputId": "953b4bda-2b93-4c1d-b901-b3df77e51a06"
      },
      "source": [
        "sen_token = sent_tokenize(thai_sen, engine=\"whitespace+newline\")\n",
        "\n",
        "print('original thai_sen:\\n',thai_sen)\n",
        "print('sent_tokenize:\\n',sen_token)"
      ],
      "execution_count": null,
      "outputs": [
        {
          "output_type": "stream",
          "name": "stdout",
          "text": [
            "original thai_sen:\n",
            " เมื่อวันก่อน Google\n",
            "ได้เผยฟีเจอร์ใหม่\tที่จะทำให้ผู้ใช้สามารถยืนยันตัวตนบนบริการต่าง ๆ ของ Google ได้ง่าย ๆ\n",
            "sent_tokenize:\n",
            " ['เมื่อวันก่อน', 'Google', 'ได้เผยฟีเจอร์ใหม่', 'ที่จะทำให้ผู้ใช้สามารถยืนยันตัวตนบนบริการต่าง', 'ๆ', 'ของ', 'Google', 'ได้ง่าย', 'ๆ']\n"
          ]
        }
      ]
    },
    {
      "cell_type": "markdown",
      "metadata": {
        "id": "g2dVCuIIKh-v"
      },
      "source": [
        "##2.2.word tokenization"
      ]
    },
    {
      "cell_type": "markdown",
      "metadata": {
        "id": "JgkK6IYavSp2"
      },
      "source": [
        "###2.2.1 Word Tokenization from PythaiNLP"
      ]
    },
    {
      "cell_type": "code",
      "metadata": {
        "colab": {
          "base_uri": "https://localhost:8080/"
        },
        "id": "RWiXBIFzt70o",
        "outputId": "d966a08f-b5e3-4e0a-d0f0-68403716b599"
      },
      "source": [
        "from pythainlp.tokenize import word_tokenize\n",
        "\n",
        "for word in sen_token:\n",
        "  tokens = word_tokenize(word, engine=\"newmm\")\n",
        "  print(tokens)"
      ],
      "execution_count": null,
      "outputs": [
        {
          "output_type": "stream",
          "name": "stdout",
          "text": [
            "['เมื่อวันก่อน']\n",
            "['Google']\n",
            "['ได้', 'เผย', 'ฟีเจอร์', 'ใหม่']\n",
            "['ที่จะ', 'ทำให้', 'ผู้ใช้', 'สามารถ', 'ยืนยัน', 'ตัวตน', 'บน', 'บริการ', 'ต่าง']\n",
            "['ๆ']\n",
            "['ของ']\n",
            "['Google']\n",
            "['ได้', 'ง่าย']\n",
            "['ๆ']\n"
          ]
        }
      ]
    },
    {
      "cell_type": "code",
      "metadata": {
        "id": "Hkcg6FMm7CCY",
        "colab": {
          "base_uri": "https://localhost:8080/"
        },
        "outputId": "07888fb6-3547-41d6-8607-716200f4a4a4"
      },
      "source": [
        "#select other engine\n",
        "from pythainlp.tokenize import word_tokenize\n",
        "\n",
        "for word in sen_token:\n",
        "  tokens = word_tokenize(word, engine=\"deepcut\")\n",
        "  print(tokens)"
      ],
      "execution_count": null,
      "outputs": [
        {
          "output_type": "stream",
          "name": "stderr",
          "text": [
            "/usr/local/lib/python3.10/dist-packages/keras/src/layers/core/embedding.py:90: UserWarning: Argument `input_length` is deprecated. Just remove it.\n",
            "  warnings.warn(\n",
            "/usr/local/lib/python3.10/dist-packages/keras/src/layers/core/dense.py:87: UserWarning: Do not pass an `input_shape`/`input_dim` argument to a layer. When using Sequential models, prefer using an `Input(shape)` object as the first layer in the model instead.\n",
            "  super().__init__(activity_regularizer=activity_regularizer, **kwargs)\n"
          ]
        },
        {
          "output_type": "stream",
          "name": "stdout",
          "text": [
            "\u001b[1m1/1\u001b[0m \u001b[32m━━━━━━━━━━━━━━━━━━━━\u001b[0m\u001b[37m\u001b[0m \u001b[1m2s\u001b[0m 2s/step\n",
            "['เมื่อ', 'วัน', 'ก่อน']\n",
            "\u001b[1m1/1\u001b[0m \u001b[32m━━━━━━━━━━━━━━━━━━━━\u001b[0m\u001b[37m\u001b[0m \u001b[1m2s\u001b[0m 2s/step\n",
            "['Google']\n",
            "\u001b[1m1/1\u001b[0m \u001b[32m━━━━━━━━━━━━━━━━━━━━\u001b[0m\u001b[37m\u001b[0m \u001b[1m0s\u001b[0m 47ms/step\n",
            "['ได้', 'เผย', 'ฟีเจอร์', 'ใหม่']\n",
            "\u001b[1m2/2\u001b[0m \u001b[32m━━━━━━━━━━━━━━━━━━━━\u001b[0m\u001b[37m\u001b[0m \u001b[1m0s\u001b[0m 19ms/step\n",
            "['ที่', 'จะ', 'ทำ', 'ให้', 'ผู้', 'ใช้', 'สามารถ', 'ยืนยัน', 'ตัว', 'ตน', 'บน', 'บริการ', 'ต่าง']\n",
            "\u001b[1m1/1\u001b[0m \u001b[32m━━━━━━━━━━━━━━━━━━━━\u001b[0m\u001b[37m\u001b[0m \u001b[1m0s\u001b[0m 45ms/step\n",
            "['ๆ']\n",
            "\u001b[1m1/1\u001b[0m \u001b[32m━━━━━━━━━━━━━━━━━━━━\u001b[0m\u001b[37m\u001b[0m \u001b[1m0s\u001b[0m 44ms/step\n",
            "['ของ']\n",
            "\u001b[1m1/1\u001b[0m \u001b[32m━━━━━━━━━━━━━━━━━━━━\u001b[0m\u001b[37m\u001b[0m \u001b[1m0s\u001b[0m 47ms/step\n",
            "['Google']\n",
            "\u001b[1m1/1\u001b[0m \u001b[32m━━━━━━━━━━━━━━━━━━━━\u001b[0m\u001b[37m\u001b[0m \u001b[1m0s\u001b[0m 47ms/step\n",
            "['ได้', 'ง่าย']\n",
            "\u001b[1m1/1\u001b[0m \u001b[32m━━━━━━━━━━━━━━━━━━━━\u001b[0m\u001b[37m\u001b[0m \u001b[1m0s\u001b[0m 43ms/step\n",
            "['ๆ']\n"
          ]
        }
      ]
    },
    {
      "cell_type": "code",
      "metadata": {
        "id": "4XPnanf-tyDZ"
      },
      "source": [],
      "execution_count": null,
      "outputs": []
    },
    {
      "cell_type": "markdown",
      "metadata": {
        "id": "gMZos0qAvbaH"
      },
      "source": [
        "###2.2.2 Word Tokenization from Stanza"
      ]
    },
    {
      "cell_type": "code",
      "metadata": {
        "id": "XrWOrXPjtLvT",
        "colab": {
          "base_uri": "https://localhost:8080/"
        },
        "outputId": "6b98974e-adde-4f79-e11b-e001508747a6"
      },
      "source": [
        "!pip install stanza\n",
        "import stanza"
      ],
      "execution_count": null,
      "outputs": [
        {
          "output_type": "stream",
          "name": "stdout",
          "text": [
            "Collecting stanza\n",
            "  Downloading stanza-1.9.2-py3-none-any.whl.metadata (13 kB)\n",
            "Collecting emoji (from stanza)\n",
            "  Downloading emoji-2.14.0-py3-none-any.whl.metadata (5.7 kB)\n",
            "Requirement already satisfied: numpy in /usr/local/lib/python3.10/dist-packages (from stanza) (1.26.4)\n",
            "Requirement already satisfied: protobuf>=3.15.0 in /usr/local/lib/python3.10/dist-packages (from stanza) (4.25.5)\n",
            "Requirement already satisfied: requests in /usr/local/lib/python3.10/dist-packages (from stanza) (2.32.3)\n",
            "Requirement already satisfied: networkx in /usr/local/lib/python3.10/dist-packages (from stanza) (3.4.2)\n",
            "Requirement already satisfied: torch>=1.3.0 in /usr/local/lib/python3.10/dist-packages (from stanza) (2.5.1+cu121)\n",
            "Requirement already satisfied: tqdm in /usr/local/lib/python3.10/dist-packages (from stanza) (4.66.6)\n",
            "Requirement already satisfied: tomli in /usr/local/lib/python3.10/dist-packages (from stanza) (2.1.0)\n",
            "Requirement already satisfied: filelock in /usr/local/lib/python3.10/dist-packages (from torch>=1.3.0->stanza) (3.16.1)\n",
            "Requirement already satisfied: typing-extensions>=4.8.0 in /usr/local/lib/python3.10/dist-packages (from torch>=1.3.0->stanza) (4.12.2)\n",
            "Requirement already satisfied: jinja2 in /usr/local/lib/python3.10/dist-packages (from torch>=1.3.0->stanza) (3.1.4)\n",
            "Requirement already satisfied: fsspec in /usr/local/lib/python3.10/dist-packages (from torch>=1.3.0->stanza) (2024.10.0)\n",
            "Requirement already satisfied: sympy==1.13.1 in /usr/local/lib/python3.10/dist-packages (from torch>=1.3.0->stanza) (1.13.1)\n",
            "Requirement already satisfied: mpmath<1.4,>=1.1.0 in /usr/local/lib/python3.10/dist-packages (from sympy==1.13.1->torch>=1.3.0->stanza) (1.3.0)\n",
            "Requirement already satisfied: charset-normalizer<4,>=2 in /usr/local/lib/python3.10/dist-packages (from requests->stanza) (3.4.0)\n",
            "Requirement already satisfied: idna<4,>=2.5 in /usr/local/lib/python3.10/dist-packages (from requests->stanza) (3.10)\n",
            "Requirement already satisfied: urllib3<3,>=1.21.1 in /usr/local/lib/python3.10/dist-packages (from requests->stanza) (2.2.3)\n",
            "Requirement already satisfied: certifi>=2017.4.17 in /usr/local/lib/python3.10/dist-packages (from requests->stanza) (2024.8.30)\n",
            "Requirement already satisfied: MarkupSafe>=2.0 in /usr/local/lib/python3.10/dist-packages (from jinja2->torch>=1.3.0->stanza) (3.0.2)\n",
            "Downloading stanza-1.9.2-py3-none-any.whl (1.1 MB)\n",
            "\u001b[2K   \u001b[90m━━━━━━━━━━━━━━━━━━━━━━━━━━━━━━━━━━━━━━━━\u001b[0m \u001b[32m1.1/1.1 MB\u001b[0m \u001b[31m17.1 MB/s\u001b[0m eta \u001b[36m0:00:00\u001b[0m\n",
            "\u001b[?25hDownloading emoji-2.14.0-py3-none-any.whl (586 kB)\n",
            "\u001b[2K   \u001b[90m━━━━━━━━━━━━━━━━━━━━━━━━━━━━━━━━━━━━━━━━\u001b[0m \u001b[32m586.9/586.9 kB\u001b[0m \u001b[31m31.7 MB/s\u001b[0m eta \u001b[36m0:00:00\u001b[0m\n",
            "\u001b[?25hInstalling collected packages: emoji, stanza\n",
            "Successfully installed emoji-2.14.0 stanza-1.9.2\n"
          ]
        }
      ]
    },
    {
      "cell_type": "code",
      "metadata": {
        "id": "wJG1CuXltPhK",
        "colab": {
          "base_uri": "https://localhost:8080/",
          "height": 584,
          "referenced_widgets": [
            "d17bece33c724412bbe4d78c62375089",
            "7d2d9d1e2fad4e3da45fb545d8102070",
            "441f47461d444b46bcc19b6c6fed549c",
            "c861054439554169b43fbde081213aac",
            "2d91010b3aaf4db083981c1371cf7d80",
            "8c9fd5ff759f42be9774ace145290935",
            "0054376a8f7c4923ab6d4a268389b947",
            "7789f660b65f45dc9b5630ed80e6d453",
            "deb1be9a77a449528c1cfbca401f5790",
            "6b62d68e75284a05a5f6fd50232e73f4",
            "2130c7834f644c3084da0638ae480366",
            "be17fd3655f34a8ea8b7599e8233f844",
            "e1b16a1ab9264b1f8f90d0f061d93833",
            "e5e9cf06aa37412f8e099c8d9d4cec9b",
            "08cbc622c7074941a054a38eea3ee0c9",
            "2aa0f1e4741544a69f6af588e071cd71",
            "b94c2133de744b52b7a760e5e3923134",
            "c7a61b032f1247da908bea851458efbd",
            "2dc761223e5643839c20ea3128e547ae",
            "0697152249bc4bd89bb6479388472d79",
            "a43cf440ec024ac1a69395d2dfd7cf7a",
            "a8349216adfc48f6bc50d1826a71435e",
            "ca8d83e1c8c3449f99e2aead1eaea1f3",
            "0465481255b44f09861359792b8ffcd1",
            "31f60e9b3ccc45b499444161e06be6c5",
            "4371280703af4219b4f001f565f6b715",
            "9b8447287d5c4feb8296c3585fef7110",
            "aa43098355714dd5b0853a02501bba88",
            "a37709cf083c4bdaa863c4be188aed76",
            "a2a10e2afcb64473885b154e678dc6f6",
            "0b7cda4898d84dd999ca1ce9d6401630",
            "8d8732cf86e343b88304565c379b269f",
            "6d57654440064defb97732adab1f70d9"
          ]
        },
        "outputId": "be229673-40f4-4f2a-aaac-980acfd672a6"
      },
      "source": [
        "stanza.download('th')\n",
        "nlp = stanza.Pipeline('th')"
      ],
      "execution_count": null,
      "outputs": [
        {
          "output_type": "display_data",
          "data": {
            "text/plain": [
              "Downloading https://raw.githubusercontent.com/stanfordnlp/stanza-resources/main/resources_1.9.0.json:   0%|   …"
            ],
            "application/vnd.jupyter.widget-view+json": {
              "version_major": 2,
              "version_minor": 0,
              "model_id": "d17bece33c724412bbe4d78c62375089"
            }
          },
          "metadata": {}
        },
        {
          "output_type": "stream",
          "name": "stderr",
          "text": [
            "INFO:stanza:Downloaded file to /root/stanza_resources/resources.json\n",
            "INFO:stanza:Downloading default packages for language: th (Thai) ...\n"
          ]
        },
        {
          "output_type": "display_data",
          "data": {
            "text/plain": [
              "Downloading https://huggingface.co/stanfordnlp/stanza-th/resolve/v1.9.0/models/default.zip:   0%|          | 0…"
            ],
            "application/vnd.jupyter.widget-view+json": {
              "version_major": 2,
              "version_minor": 0,
              "model_id": "be17fd3655f34a8ea8b7599e8233f844"
            }
          },
          "metadata": {}
        },
        {
          "output_type": "stream",
          "name": "stderr",
          "text": [
            "INFO:stanza:Downloaded file to /root/stanza_resources/th/default.zip\n",
            "INFO:stanza:Finished downloading models and saved to /root/stanza_resources\n",
            "INFO:stanza:Checking for updates to resources.json in case models have been updated.  Note: this behavior can be turned off with download_method=None or download_method=DownloadMethod.REUSE_RESOURCES\n"
          ]
        },
        {
          "output_type": "display_data",
          "data": {
            "text/plain": [
              "Downloading https://raw.githubusercontent.com/stanfordnlp/stanza-resources/main/resources_1.9.0.json:   0%|   …"
            ],
            "application/vnd.jupyter.widget-view+json": {
              "version_major": 2,
              "version_minor": 0,
              "model_id": "ca8d83e1c8c3449f99e2aead1eaea1f3"
            }
          },
          "metadata": {}
        },
        {
          "output_type": "stream",
          "name": "stderr",
          "text": [
            "INFO:stanza:Downloaded file to /root/stanza_resources/resources.json\n",
            "INFO:stanza:Loading these models for language: th (Thai):\n",
            "=======================\n",
            "| Processor | Package |\n",
            "-----------------------\n",
            "| tokenize  | orchid  |\n",
            "| ner       | lst20   |\n",
            "=======================\n",
            "\n",
            "INFO:stanza:Using device: cpu\n",
            "INFO:stanza:Loading: tokenize\n",
            "/usr/local/lib/python3.10/dist-packages/stanza/models/tokenization/trainer.py:82: FutureWarning: You are using `torch.load` with `weights_only=False` (the current default value), which uses the default pickle module implicitly. It is possible to construct malicious pickle data which will execute arbitrary code during unpickling (See https://github.com/pytorch/pytorch/blob/main/SECURITY.md#untrusted-models for more details). In a future release, the default value for `weights_only` will be flipped to `True`. This limits the functions that could be executed during unpickling. Arbitrary objects will no longer be allowed to be loaded via this mode unless they are explicitly allowlisted by the user via `torch.serialization.add_safe_globals`. We recommend you start setting `weights_only=True` for any use case where you don't have full control of the loaded file. Please open an issue on GitHub for any issues related to this experimental feature.\n",
            "  checkpoint = torch.load(filename, lambda storage, loc: storage)\n",
            "INFO:stanza:Loading: ner\n",
            "/usr/local/lib/python3.10/dist-packages/stanza/models/ner/trainer.py:197: FutureWarning: You are using `torch.load` with `weights_only=False` (the current default value), which uses the default pickle module implicitly. It is possible to construct malicious pickle data which will execute arbitrary code during unpickling (See https://github.com/pytorch/pytorch/blob/main/SECURITY.md#untrusted-models for more details). In a future release, the default value for `weights_only` will be flipped to `True`. This limits the functions that could be executed during unpickling. Arbitrary objects will no longer be allowed to be loaded via this mode unless they are explicitly allowlisted by the user via `torch.serialization.add_safe_globals`. We recommend you start setting `weights_only=True` for any use case where you don't have full control of the loaded file. Please open an issue on GitHub for any issues related to this experimental feature.\n",
            "  checkpoint = torch.load(filename, lambda storage, loc: storage)\n",
            "/usr/local/lib/python3.10/dist-packages/stanza/models/common/pretrain.py:56: FutureWarning: You are using `torch.load` with `weights_only=False` (the current default value), which uses the default pickle module implicitly. It is possible to construct malicious pickle data which will execute arbitrary code during unpickling (See https://github.com/pytorch/pytorch/blob/main/SECURITY.md#untrusted-models for more details). In a future release, the default value for `weights_only` will be flipped to `True`. This limits the functions that could be executed during unpickling. Arbitrary objects will no longer be allowed to be loaded via this mode unless they are explicitly allowlisted by the user via `torch.serialization.add_safe_globals`. We recommend you start setting `weights_only=True` for any use case where you don't have full control of the loaded file. Please open an issue on GitHub for any issues related to this experimental feature.\n",
            "  data = torch.load(self.filename, lambda storage, loc: storage)\n",
            "/usr/local/lib/python3.10/dist-packages/stanza/models/common/char_model.py:271: FutureWarning: You are using `torch.load` with `weights_only=False` (the current default value), which uses the default pickle module implicitly. It is possible to construct malicious pickle data which will execute arbitrary code during unpickling (See https://github.com/pytorch/pytorch/blob/main/SECURITY.md#untrusted-models for more details). In a future release, the default value for `weights_only` will be flipped to `True`. This limits the functions that could be executed during unpickling. Arbitrary objects will no longer be allowed to be loaded via this mode unless they are explicitly allowlisted by the user via `torch.serialization.add_safe_globals`. We recommend you start setting `weights_only=True` for any use case where you don't have full control of the loaded file. Please open an issue on GitHub for any issues related to this experimental feature.\n",
            "  state = torch.load(filename, lambda storage, loc: storage)\n",
            "INFO:stanza:Done loading processors!\n"
          ]
        }
      ]
    },
    {
      "cell_type": "code",
      "metadata": {
        "id": "8CPbMsyZtUbt",
        "colab": {
          "base_uri": "https://localhost:8080/"
        },
        "outputId": "2b174854-cd35-4127-e2b8-7eec12b8d49f"
      },
      "source": [
        "token = nlp(\"มาทดสอบภาษาไทยกัน\")\n",
        "token"
      ],
      "execution_count": null,
      "outputs": [
        {
          "output_type": "execute_result",
          "data": {
            "text/plain": [
              "[\n",
              "  [\n",
              "    {\n",
              "      \"id\": 1,\n",
              "      \"text\": \"มา\",\n",
              "      \"start_char\": 0,\n",
              "      \"end_char\": 2,\n",
              "      \"ner\": \"O\",\n",
              "      \"multi_ner\": [\n",
              "        \"O\"\n",
              "      ],\n",
              "      \"misc\": \"SpaceAfter=No\"\n",
              "    },\n",
              "    {\n",
              "      \"id\": 2,\n",
              "      \"text\": \"ทดสอบ\",\n",
              "      \"start_char\": 2,\n",
              "      \"end_char\": 7,\n",
              "      \"ner\": \"O\",\n",
              "      \"multi_ner\": [\n",
              "        \"O\"\n",
              "      ],\n",
              "      \"misc\": \"SpaceAfter=No\"\n",
              "    },\n",
              "    {\n",
              "      \"id\": 3,\n",
              "      \"text\": \"ภาษาไทย\",\n",
              "      \"start_char\": 7,\n",
              "      \"end_char\": 14,\n",
              "      \"ner\": \"O\",\n",
              "      \"multi_ner\": [\n",
              "        \"O\"\n",
              "      ],\n",
              "      \"misc\": \"SpaceAfter=No\"\n",
              "    },\n",
              "    {\n",
              "      \"id\": 4,\n",
              "      \"text\": \"กัน\",\n",
              "      \"start_char\": 14,\n",
              "      \"end_char\": 17,\n",
              "      \"ner\": \"O\",\n",
              "      \"multi_ner\": [\n",
              "        \"O\"\n",
              "      ],\n",
              "      \"misc\": \"SpaceAfter=No\"\n",
              "    }\n",
              "  ]\n",
              "]"
            ]
          },
          "metadata": {},
          "execution_count": 12
        }
      ]
    },
    {
      "cell_type": "code",
      "metadata": {
        "id": "PoCizsjfurRJ",
        "colab": {
          "base_uri": "https://localhost:8080/"
        },
        "outputId": "fab50b79-8d7c-494c-dab2-aae35c786705"
      },
      "source": [
        "for word in sen_token:\n",
        "  tokens = nlp(word)\n",
        "  print(tokens)"
      ],
      "execution_count": null,
      "outputs": [
        {
          "output_type": "stream",
          "name": "stdout",
          "text": [
            "[\n",
            "  [\n",
            "    {\n",
            "      \"id\": 1,\n",
            "      \"text\": \"เมื่อวันก่อน\",\n",
            "      \"start_char\": 0,\n",
            "      \"end_char\": 12,\n",
            "      \"ner\": \"O\",\n",
            "      \"multi_ner\": [\n",
            "        \"O\"\n",
            "      ],\n",
            "      \"misc\": \"SpaceAfter=No\"\n",
            "    }\n",
            "  ]\n",
            "]\n",
            "[\n",
            "  [\n",
            "    {\n",
            "      \"id\": 1,\n",
            "      \"text\": \"Google\",\n",
            "      \"start_char\": 0,\n",
            "      \"end_char\": 6,\n",
            "      \"ner\": \"S-ORG\",\n",
            "      \"multi_ner\": [\n",
            "        \"S-ORG\"\n",
            "      ],\n",
            "      \"misc\": \"SpaceAfter=No\"\n",
            "    }\n",
            "  ]\n",
            "]\n",
            "[\n",
            "  [\n",
            "    {\n",
            "      \"id\": 1,\n",
            "      \"text\": \"ได้\",\n",
            "      \"start_char\": 0,\n",
            "      \"end_char\": 3,\n",
            "      \"ner\": \"O\",\n",
            "      \"multi_ner\": [\n",
            "        \"O\"\n",
            "      ],\n",
            "      \"misc\": \"SpaceAfter=No\"\n",
            "    },\n",
            "    {\n",
            "      \"id\": 2,\n",
            "      \"text\": \"เผย\",\n",
            "      \"start_char\": 3,\n",
            "      \"end_char\": 6,\n",
            "      \"ner\": \"O\",\n",
            "      \"multi_ner\": [\n",
            "        \"O\"\n",
            "      ],\n",
            "      \"misc\": \"SpaceAfter=No\"\n",
            "    },\n",
            "    {\n",
            "      \"id\": 3,\n",
            "      \"text\": \"ฟีเจอร์\",\n",
            "      \"start_char\": 6,\n",
            "      \"end_char\": 13,\n",
            "      \"ner\": \"O\",\n",
            "      \"multi_ner\": [\n",
            "        \"O\"\n",
            "      ],\n",
            "      \"misc\": \"SpaceAfter=No\"\n",
            "    },\n",
            "    {\n",
            "      \"id\": 4,\n",
            "      \"text\": \"ใหม่\",\n",
            "      \"start_char\": 13,\n",
            "      \"end_char\": 17,\n",
            "      \"ner\": \"O\",\n",
            "      \"multi_ner\": [\n",
            "        \"O\"\n",
            "      ],\n",
            "      \"misc\": \"SpaceAfter=No\"\n",
            "    }\n",
            "  ]\n",
            "]\n",
            "[\n",
            "  [\n",
            "    {\n",
            "      \"id\": 1,\n",
            "      \"text\": \"ที่จะ\",\n",
            "      \"start_char\": 0,\n",
            "      \"end_char\": 5,\n",
            "      \"ner\": \"O\",\n",
            "      \"multi_ner\": [\n",
            "        \"O\"\n",
            "      ],\n",
            "      \"misc\": \"SpaceAfter=No\"\n",
            "    },\n",
            "    {\n",
            "      \"id\": 2,\n",
            "      \"text\": \"ทำให้\",\n",
            "      \"start_char\": 5,\n",
            "      \"end_char\": 10,\n",
            "      \"ner\": \"O\",\n",
            "      \"multi_ner\": [\n",
            "        \"O\"\n",
            "      ],\n",
            "      \"misc\": \"SpaceAfter=No\"\n",
            "    },\n",
            "    {\n",
            "      \"id\": 3,\n",
            "      \"text\": \"ผู้ใช้\",\n",
            "      \"start_char\": 10,\n",
            "      \"end_char\": 16,\n",
            "      \"ner\": \"O\",\n",
            "      \"multi_ner\": [\n",
            "        \"O\"\n",
            "      ],\n",
            "      \"misc\": \"SpaceAfter=No\"\n",
            "    },\n",
            "    {\n",
            "      \"id\": 4,\n",
            "      \"text\": \"สามารถ\",\n",
            "      \"start_char\": 16,\n",
            "      \"end_char\": 22,\n",
            "      \"ner\": \"O\",\n",
            "      \"multi_ner\": [\n",
            "        \"O\"\n",
            "      ],\n",
            "      \"misc\": \"SpaceAfter=No\"\n",
            "    },\n",
            "    {\n",
            "      \"id\": 5,\n",
            "      \"text\": \"ยืนยัน\",\n",
            "      \"start_char\": 22,\n",
            "      \"end_char\": 28,\n",
            "      \"ner\": \"O\",\n",
            "      \"multi_ner\": [\n",
            "        \"O\"\n",
            "      ],\n",
            "      \"misc\": \"SpaceAfter=No\"\n",
            "    },\n",
            "    {\n",
            "      \"id\": 6,\n",
            "      \"text\": \"ตัวตน\",\n",
            "      \"start_char\": 28,\n",
            "      \"end_char\": 33,\n",
            "      \"ner\": \"O\",\n",
            "      \"multi_ner\": [\n",
            "        \"O\"\n",
            "      ],\n",
            "      \"misc\": \"SpaceAfter=No\"\n",
            "    },\n",
            "    {\n",
            "      \"id\": 7,\n",
            "      \"text\": \"บน\",\n",
            "      \"start_char\": 33,\n",
            "      \"end_char\": 35,\n",
            "      \"ner\": \"O\",\n",
            "      \"multi_ner\": [\n",
            "        \"O\"\n",
            "      ],\n",
            "      \"misc\": \"SpaceAfter=No\"\n",
            "    },\n",
            "    {\n",
            "      \"id\": 8,\n",
            "      \"text\": \"บริการ\",\n",
            "      \"start_char\": 35,\n",
            "      \"end_char\": 41,\n",
            "      \"ner\": \"O\",\n",
            "      \"multi_ner\": [\n",
            "        \"O\"\n",
            "      ],\n",
            "      \"misc\": \"SpaceAfter=No\"\n",
            "    },\n",
            "    {\n",
            "      \"id\": 9,\n",
            "      \"text\": \"ต่าง\",\n",
            "      \"start_char\": 41,\n",
            "      \"end_char\": 45,\n",
            "      \"ner\": \"O\",\n",
            "      \"multi_ner\": [\n",
            "        \"O\"\n",
            "      ],\n",
            "      \"misc\": \"SpaceAfter=No\"\n",
            "    }\n",
            "  ]\n",
            "]\n",
            "[\n",
            "  [\n",
            "    {\n",
            "      \"id\": 1,\n",
            "      \"text\": \"ๆ\",\n",
            "      \"start_char\": 0,\n",
            "      \"end_char\": 1,\n",
            "      \"ner\": \"O\",\n",
            "      \"multi_ner\": [\n",
            "        \"O\"\n",
            "      ],\n",
            "      \"misc\": \"SpaceAfter=No\"\n",
            "    }\n",
            "  ]\n",
            "]\n",
            "[\n",
            "  [\n",
            "    {\n",
            "      \"id\": 1,\n",
            "      \"text\": \"ของ\",\n",
            "      \"start_char\": 0,\n",
            "      \"end_char\": 3,\n",
            "      \"ner\": \"O\",\n",
            "      \"multi_ner\": [\n",
            "        \"O\"\n",
            "      ],\n",
            "      \"misc\": \"SpaceAfter=No\"\n",
            "    }\n",
            "  ]\n",
            "]\n",
            "[\n",
            "  [\n",
            "    {\n",
            "      \"id\": 1,\n",
            "      \"text\": \"Google\",\n",
            "      \"start_char\": 0,\n",
            "      \"end_char\": 6,\n",
            "      \"ner\": \"S-ORG\",\n",
            "      \"multi_ner\": [\n",
            "        \"S-ORG\"\n",
            "      ],\n",
            "      \"misc\": \"SpaceAfter=No\"\n",
            "    }\n",
            "  ]\n",
            "]\n",
            "[\n",
            "  [\n",
            "    {\n",
            "      \"id\": 1,\n",
            "      \"text\": \"ได้\",\n",
            "      \"start_char\": 0,\n",
            "      \"end_char\": 3,\n",
            "      \"ner\": \"O\",\n",
            "      \"multi_ner\": [\n",
            "        \"O\"\n",
            "      ],\n",
            "      \"misc\": \"SpaceAfter=No\"\n",
            "    },\n",
            "    {\n",
            "      \"id\": 2,\n",
            "      \"text\": \"ง่าย\",\n",
            "      \"start_char\": 3,\n",
            "      \"end_char\": 7,\n",
            "      \"ner\": \"O\",\n",
            "      \"multi_ner\": [\n",
            "        \"O\"\n",
            "      ],\n",
            "      \"misc\": \"SpaceAfter=No\"\n",
            "    }\n",
            "  ]\n",
            "]\n",
            "[\n",
            "  [\n",
            "    {\n",
            "      \"id\": 1,\n",
            "      \"text\": \"ๆ\",\n",
            "      \"start_char\": 0,\n",
            "      \"end_char\": 1,\n",
            "      \"ner\": \"O\",\n",
            "      \"multi_ner\": [\n",
            "        \"O\"\n",
            "      ],\n",
            "      \"misc\": \"SpaceAfter=No\"\n",
            "    }\n",
            "  ]\n",
            "]\n"
          ]
        }
      ]
    },
    {
      "cell_type": "markdown",
      "metadata": {
        "id": "MZZTy7RGpHY8"
      },
      "source": [
        "###2.2.3 Word Tokenization from newnewthaicut"
      ]
    },
    {
      "cell_type": "code",
      "metadata": {
        "colab": {
          "base_uri": "https://localhost:8080/"
        },
        "id": "7OpNW223pcD6",
        "outputId": "f964f277-70a3-4ccf-b3c7-c02354e1bbf2"
      },
      "source": [
        "!pip install https://github.com/wannaphong/newnewthaicut/archive/main.zip"
      ],
      "execution_count": null,
      "outputs": [
        {
          "output_type": "stream",
          "name": "stdout",
          "text": [
            "Collecting https://github.com/wannaphong/newnewthaicut/archive/main.zip\n",
            "  Downloading https://github.com/wannaphong/newnewthaicut/archive/main.zip\n",
            "\u001b[2K     \u001b[32m-\u001b[0m \u001b[32m6.0 kB\u001b[0m \u001b[31m9.2 MB/s\u001b[0m \u001b[33m0:00:00\u001b[0m\n",
            "\u001b[?25h  Preparing metadata (setup.py) ... \u001b[?25l\u001b[?25hdone\n",
            "Requirement already satisfied: pythainlp>=2.2.6 in /usr/local/lib/python3.10/dist-packages (from newnewthaicut==0.0.1) (5.0.4)\n",
            "Requirement already satisfied: requests>=2.22.0 in /usr/local/lib/python3.10/dist-packages (from pythainlp>=2.2.6->newnewthaicut==0.0.1) (2.32.3)\n",
            "Requirement already satisfied: charset-normalizer<4,>=2 in /usr/local/lib/python3.10/dist-packages (from requests>=2.22.0->pythainlp>=2.2.6->newnewthaicut==0.0.1) (3.4.0)\n",
            "Requirement already satisfied: idna<4,>=2.5 in /usr/local/lib/python3.10/dist-packages (from requests>=2.22.0->pythainlp>=2.2.6->newnewthaicut==0.0.1) (3.10)\n",
            "Requirement already satisfied: urllib3<3,>=1.21.1 in /usr/local/lib/python3.10/dist-packages (from requests>=2.22.0->pythainlp>=2.2.6->newnewthaicut==0.0.1) (2.2.3)\n",
            "Requirement already satisfied: certifi>=2017.4.17 in /usr/local/lib/python3.10/dist-packages (from requests>=2.22.0->pythainlp>=2.2.6->newnewthaicut==0.0.1) (2024.8.30)\n",
            "Building wheels for collected packages: newnewthaicut\n",
            "  Building wheel for newnewthaicut (setup.py) ... \u001b[?25l\u001b[?25hdone\n",
            "  Created wheel for newnewthaicut: filename=newnewthaicut-0.0.1-py3-none-any.whl size=12617 sha256=f7b87e7ef035bbfd2e6a08e512736d504062e15fbf0fb97032281de0afb78ec8\n",
            "  Stored in directory: /tmp/pip-ephem-wheel-cache-7gdcs4l3/wheels/62/7b/cd/b695e0ff8ac3346e58c0a091f7b91aff43ecb17fbb8370af79\n",
            "Successfully built newnewthaicut\n",
            "Installing collected packages: newnewthaicut\n",
            "Successfully installed newnewthaicut-0.0.1\n"
          ]
        }
      ]
    },
    {
      "cell_type": "code",
      "metadata": {
        "id": "ejBLxH-zpnOH"
      },
      "source": [
        "from pythainlp import word_tokenize as pythainlpcut\n",
        "#from newnewthaicut import word_tokenize"
      ],
      "execution_count": null,
      "outputs": []
    },
    {
      "cell_type": "code",
      "metadata": {
        "colab": {
          "base_uri": "https://localhost:8080/"
        },
        "id": "YnmyatVZphnm",
        "outputId": "ea457edc-341d-47b2-c3c0-47cccf4fdf5a"
      },
      "source": [
        "text = \"ผมชื่อนายวรรณพงษ์ ภัททิยไพบูลย์ ผมเป็นคนไทยเรียนที่มหาวิทยาลัยขอนแก่น\"\n",
        "print(\"PyThaiNLP newmm: \"+'|'.join(pythainlpcut(text)))\n",
        "print(\"newnewthaicut: \"+'|'.join(word_tokenize(text)))"
      ],
      "execution_count": null,
      "outputs": [
        {
          "output_type": "stream",
          "name": "stdout",
          "text": [
            "PyThaiNLP newmm: ผม|ชื่อ|นาย|วรรณ|พงษ์| |ภัททิย|ไพบูลย์| |ผม|เป็น|คนไทย|เรียน|ที่|มหาวิทยาลัยขอนแก่น\n",
            "newnewthaicut: ผม|ชื่อ|นาย|วรรณ|พงษ์| |ภัททิย|ไพบูลย์| |ผม|เป็น|คนไทย|เรียน|ที่|มหาวิทยาลัยขอนแก่น\n"
          ]
        }
      ]
    },
    {
      "cell_type": "code",
      "metadata": {
        "colab": {
          "base_uri": "https://localhost:8080/"
        },
        "id": "rTvdRD4erO0f",
        "outputId": "a3bffd14-8558-4243-c3ae-6495a1ae0c7a"
      },
      "source": [
        "#Try new text\n",
        "text = \"นายกรัฐมนตรีเดินทางมาที่จังหวัดชลบุรีเพื่อฟังสรุปสถานการณ์โรคโควิด19 วันนี้ ณ สำนักงานสาธารณสุขจังหวัดชลบุรี\"\n",
        "print(\"PyThaiNLP newmm: \"+'|'.join(pythainlpcut(text)))\n",
        "print(\"newnewthaicut: \"+'|'.join(word_tokenize(text)))"
      ],
      "execution_count": null,
      "outputs": [
        {
          "output_type": "stream",
          "name": "stdout",
          "text": [
            "PyThaiNLP newmm: นายกรัฐมนตรี|เดินทาง|มา|ที่|จังหวัด|ชลบุรี|เพื่อ|ฟัง|สรุป|สถานการณ์|โรค|โควิด|19| |วันนี้| |ณ| |สำนักงาน|สาธารณสุข|จังหวัด|ชลบุรี\n",
            "newnewthaicut: นายกรัฐมนตรี|เดินทาง|มา|ที่|จังหวัด|ชลบุรี|เพื่อ|ฟัง|สรุป|สถานการณ์|โรค|โควิด|19| |วันนี้| |ณ| |สำนักงาน|สาธารณสุข|จังหวัด|ชลบุรี\n"
          ]
        }
      ]
    },
    {
      "cell_type": "markdown",
      "source": [
        "### นายอิทธิเดช กระจ่าง 6430250440"
      ],
      "metadata": {
        "id": "HUwRLb-Jj7nG"
      }
    },
    {
      "cell_type": "markdown",
      "source": [
        "### การบ้าน 1.1 ตัดคำ"
      ],
      "metadata": {
        "id": "toPWlV85aFHH"
      }
    },
    {
      "cell_type": "code",
      "source": [
        "!pip install attacut\n",
        "!pip install deepcut"
      ],
      "metadata": {
        "colab": {
          "base_uri": "https://localhost:8080/"
        },
        "collapsed": true,
        "id": "rGFIX5mKd8ju",
        "outputId": "37a2c9ec-d80b-4fb5-dd84-df2ac16002f6"
      },
      "execution_count": null,
      "outputs": [
        {
          "output_type": "stream",
          "name": "stdout",
          "text": [
            "Collecting attacut\n",
            "  Downloading attacut-1.0.6-py3-none-any.whl.metadata (4.0 kB)\n",
            "Collecting docopt>=0.6.2 (from attacut)\n",
            "  Downloading docopt-0.6.2.tar.gz (25 kB)\n",
            "  Preparing metadata (setup.py) ... \u001b[?25l\u001b[?25hdone\n",
            "Collecting fire>=0.1.3 (from attacut)\n",
            "  Downloading fire-0.7.0.tar.gz (87 kB)\n",
            "\u001b[2K     \u001b[90m━━━━━━━━━━━━━━━━━━━━━━━━━━━━━━━━━━━━━━━━\u001b[0m \u001b[32m87.2/87.2 kB\u001b[0m \u001b[31m3.9 MB/s\u001b[0m eta \u001b[36m0:00:00\u001b[0m\n",
            "\u001b[?25h  Preparing metadata (setup.py) ... \u001b[?25l\u001b[?25hdone\n",
            "Collecting nptyping>=0.2.0 (from attacut)\n",
            "  Downloading nptyping-2.5.0-py3-none-any.whl.metadata (7.6 kB)\n",
            "Requirement already satisfied: numpy>=1.17.0 in /usr/local/lib/python3.10/dist-packages (from attacut) (1.26.4)\n",
            "Requirement already satisfied: pyyaml>=5.1.2 in /usr/local/lib/python3.10/dist-packages (from attacut) (6.0.2)\n",
            "Requirement already satisfied: six>=1.12.0 in /usr/local/lib/python3.10/dist-packages (from attacut) (1.16.0)\n",
            "Collecting ssg>=0.0.4 (from attacut)\n",
            "  Downloading ssg-0.0.8-py3-none-any.whl.metadata (762 bytes)\n",
            "Requirement already satisfied: torch>=1.2.0 in /usr/local/lib/python3.10/dist-packages (from attacut) (2.5.1+cu121)\n",
            "Requirement already satisfied: termcolor in /usr/local/lib/python3.10/dist-packages (from fire>=0.1.3->attacut) (2.5.0)\n",
            "Collecting python-crfsuite>=0.9.6 (from ssg>=0.0.4->attacut)\n",
            "  Downloading python_crfsuite-0.9.11-cp310-cp310-manylinux_2_17_x86_64.manylinux2014_x86_64.whl.metadata (4.3 kB)\n",
            "Requirement already satisfied: tqdm>=4.32.2 in /usr/local/lib/python3.10/dist-packages (from ssg>=0.0.4->attacut) (4.66.6)\n",
            "Requirement already satisfied: filelock in /usr/local/lib/python3.10/dist-packages (from torch>=1.2.0->attacut) (3.16.1)\n",
            "Requirement already satisfied: typing-extensions>=4.8.0 in /usr/local/lib/python3.10/dist-packages (from torch>=1.2.0->attacut) (4.12.2)\n",
            "Requirement already satisfied: networkx in /usr/local/lib/python3.10/dist-packages (from torch>=1.2.0->attacut) (3.4.2)\n",
            "Requirement already satisfied: jinja2 in /usr/local/lib/python3.10/dist-packages (from torch>=1.2.0->attacut) (3.1.4)\n",
            "Requirement already satisfied: fsspec in /usr/local/lib/python3.10/dist-packages (from torch>=1.2.0->attacut) (2024.10.0)\n",
            "Requirement already satisfied: sympy==1.13.1 in /usr/local/lib/python3.10/dist-packages (from torch>=1.2.0->attacut) (1.13.1)\n",
            "Requirement already satisfied: mpmath<1.4,>=1.1.0 in /usr/local/lib/python3.10/dist-packages (from sympy==1.13.1->torch>=1.2.0->attacut) (1.3.0)\n",
            "Requirement already satisfied: MarkupSafe>=2.0 in /usr/local/lib/python3.10/dist-packages (from jinja2->torch>=1.2.0->attacut) (3.0.2)\n",
            "Downloading attacut-1.0.6-py3-none-any.whl (1.3 MB)\n",
            "\u001b[2K   \u001b[90m━━━━━━━━━━━━━━━━━━━━━━━━━━━━━━━━━━━━━━━━\u001b[0m \u001b[32m1.3/1.3 MB\u001b[0m \u001b[31m18.0 MB/s\u001b[0m eta \u001b[36m0:00:00\u001b[0m\n",
            "\u001b[?25hDownloading nptyping-2.5.0-py3-none-any.whl (37 kB)\n",
            "Downloading ssg-0.0.8-py3-none-any.whl (473 kB)\n",
            "\u001b[2K   \u001b[90m━━━━━━━━━━━━━━━━━━━━━━━━━━━━━━━━━━━━━━━━\u001b[0m \u001b[32m473.8/473.8 kB\u001b[0m \u001b[31m23.4 MB/s\u001b[0m eta \u001b[36m0:00:00\u001b[0m\n",
            "\u001b[?25hDownloading python_crfsuite-0.9.11-cp310-cp310-manylinux_2_17_x86_64.manylinux2014_x86_64.whl (1.2 MB)\n",
            "\u001b[2K   \u001b[90m━━━━━━━━━━━━━━━━━━━━━━━━━━━━━━━━━━━━━━━━\u001b[0m \u001b[32m1.2/1.2 MB\u001b[0m \u001b[31m25.0 MB/s\u001b[0m eta \u001b[36m0:00:00\u001b[0m\n",
            "\u001b[?25hBuilding wheels for collected packages: docopt, fire\n",
            "  Building wheel for docopt (setup.py) ... \u001b[?25l\u001b[?25hdone\n",
            "  Created wheel for docopt: filename=docopt-0.6.2-py2.py3-none-any.whl size=13706 sha256=b53b9cc2b7ed96a0685973a34e323198c20c2d58c0ff1d0861e26a5d13cc6006\n",
            "  Stored in directory: /root/.cache/pip/wheels/fc/ab/d4/5da2067ac95b36618c629a5f93f809425700506f72c9732fac\n",
            "  Building wheel for fire (setup.py) ... \u001b[?25l\u001b[?25hdone\n",
            "  Created wheel for fire: filename=fire-0.7.0-py3-none-any.whl size=114249 sha256=0109ab9d797637a1fe20958d04b2a422eab0715e424d354a8ada339a6e2d03b1\n",
            "  Stored in directory: /root/.cache/pip/wheels/19/39/2f/2d3cadc408a8804103f1c34ddd4b9f6a93497b11fa96fe738e\n",
            "Successfully built docopt fire\n",
            "Installing collected packages: docopt, python-crfsuite, nptyping, fire, ssg, attacut\n",
            "Successfully installed attacut-1.0.6 docopt-0.6.2 fire-0.7.0 nptyping-2.5.0 python-crfsuite-0.9.11 ssg-0.0.8\n",
            "Requirement already satisfied: deepcut in /usr/local/lib/python3.10/dist-packages (0.7.0.0)\n",
            "Requirement already satisfied: tensorflow>=2.0.0 in /usr/local/lib/python3.10/dist-packages (from deepcut) (2.17.1)\n",
            "Requirement already satisfied: pandas in /usr/local/lib/python3.10/dist-packages (from deepcut) (2.2.2)\n",
            "Requirement already satisfied: scipy in /usr/local/lib/python3.10/dist-packages (from deepcut) (1.13.1)\n",
            "Requirement already satisfied: numpy in /usr/local/lib/python3.10/dist-packages (from deepcut) (1.26.4)\n",
            "Requirement already satisfied: scikit-learn in /usr/local/lib/python3.10/dist-packages (from deepcut) (1.5.2)\n",
            "Requirement already satisfied: h5py in /usr/local/lib/python3.10/dist-packages (from deepcut) (3.12.1)\n",
            "Requirement already satisfied: absl-py>=1.0.0 in /usr/local/lib/python3.10/dist-packages (from tensorflow>=2.0.0->deepcut) (1.4.0)\n",
            "Requirement already satisfied: astunparse>=1.6.0 in /usr/local/lib/python3.10/dist-packages (from tensorflow>=2.0.0->deepcut) (1.6.3)\n",
            "Requirement already satisfied: flatbuffers>=24.3.25 in /usr/local/lib/python3.10/dist-packages (from tensorflow>=2.0.0->deepcut) (24.3.25)\n",
            "Requirement already satisfied: gast!=0.5.0,!=0.5.1,!=0.5.2,>=0.2.1 in /usr/local/lib/python3.10/dist-packages (from tensorflow>=2.0.0->deepcut) (0.6.0)\n",
            "Requirement already satisfied: google-pasta>=0.1.1 in /usr/local/lib/python3.10/dist-packages (from tensorflow>=2.0.0->deepcut) (0.2.0)\n",
            "Requirement already satisfied: libclang>=13.0.0 in /usr/local/lib/python3.10/dist-packages (from tensorflow>=2.0.0->deepcut) (18.1.1)\n",
            "Requirement already satisfied: ml-dtypes<0.5.0,>=0.3.1 in /usr/local/lib/python3.10/dist-packages (from tensorflow>=2.0.0->deepcut) (0.4.1)\n",
            "Requirement already satisfied: opt-einsum>=2.3.2 in /usr/local/lib/python3.10/dist-packages (from tensorflow>=2.0.0->deepcut) (3.4.0)\n",
            "Requirement already satisfied: packaging in /usr/local/lib/python3.10/dist-packages (from tensorflow>=2.0.0->deepcut) (24.2)\n",
            "Requirement already satisfied: protobuf!=4.21.0,!=4.21.1,!=4.21.2,!=4.21.3,!=4.21.4,!=4.21.5,<5.0.0dev,>=3.20.3 in /usr/local/lib/python3.10/dist-packages (from tensorflow>=2.0.0->deepcut) (4.25.5)\n",
            "Requirement already satisfied: requests<3,>=2.21.0 in /usr/local/lib/python3.10/dist-packages (from tensorflow>=2.0.0->deepcut) (2.32.3)\n",
            "Requirement already satisfied: setuptools in /usr/local/lib/python3.10/dist-packages (from tensorflow>=2.0.0->deepcut) (75.1.0)\n",
            "Requirement already satisfied: six>=1.12.0 in /usr/local/lib/python3.10/dist-packages (from tensorflow>=2.0.0->deepcut) (1.16.0)\n",
            "Requirement already satisfied: termcolor>=1.1.0 in /usr/local/lib/python3.10/dist-packages (from tensorflow>=2.0.0->deepcut) (2.5.0)\n",
            "Requirement already satisfied: typing-extensions>=3.6.6 in /usr/local/lib/python3.10/dist-packages (from tensorflow>=2.0.0->deepcut) (4.12.2)\n",
            "Requirement already satisfied: wrapt>=1.11.0 in /usr/local/lib/python3.10/dist-packages (from tensorflow>=2.0.0->deepcut) (1.16.0)\n",
            "Requirement already satisfied: grpcio<2.0,>=1.24.3 in /usr/local/lib/python3.10/dist-packages (from tensorflow>=2.0.0->deepcut) (1.68.0)\n",
            "Requirement already satisfied: tensorboard<2.18,>=2.17 in /usr/local/lib/python3.10/dist-packages (from tensorflow>=2.0.0->deepcut) (2.17.1)\n",
            "Requirement already satisfied: keras>=3.2.0 in /usr/local/lib/python3.10/dist-packages (from tensorflow>=2.0.0->deepcut) (3.5.0)\n",
            "Requirement already satisfied: tensorflow-io-gcs-filesystem>=0.23.1 in /usr/local/lib/python3.10/dist-packages (from tensorflow>=2.0.0->deepcut) (0.37.1)\n",
            "Requirement already satisfied: python-dateutil>=2.8.2 in /usr/local/lib/python3.10/dist-packages (from pandas->deepcut) (2.8.2)\n",
            "Requirement already satisfied: pytz>=2020.1 in /usr/local/lib/python3.10/dist-packages (from pandas->deepcut) (2024.2)\n",
            "Requirement already satisfied: tzdata>=2022.7 in /usr/local/lib/python3.10/dist-packages (from pandas->deepcut) (2024.2)\n",
            "Requirement already satisfied: joblib>=1.2.0 in /usr/local/lib/python3.10/dist-packages (from scikit-learn->deepcut) (1.4.2)\n",
            "Requirement already satisfied: threadpoolctl>=3.1.0 in /usr/local/lib/python3.10/dist-packages (from scikit-learn->deepcut) (3.5.0)\n",
            "Requirement already satisfied: wheel<1.0,>=0.23.0 in /usr/local/lib/python3.10/dist-packages (from astunparse>=1.6.0->tensorflow>=2.0.0->deepcut) (0.45.0)\n",
            "Requirement already satisfied: rich in /usr/local/lib/python3.10/dist-packages (from keras>=3.2.0->tensorflow>=2.0.0->deepcut) (13.9.4)\n",
            "Requirement already satisfied: namex in /usr/local/lib/python3.10/dist-packages (from keras>=3.2.0->tensorflow>=2.0.0->deepcut) (0.0.8)\n",
            "Requirement already satisfied: optree in /usr/local/lib/python3.10/dist-packages (from keras>=3.2.0->tensorflow>=2.0.0->deepcut) (0.13.1)\n",
            "Requirement already satisfied: charset-normalizer<4,>=2 in /usr/local/lib/python3.10/dist-packages (from requests<3,>=2.21.0->tensorflow>=2.0.0->deepcut) (3.4.0)\n",
            "Requirement already satisfied: idna<4,>=2.5 in /usr/local/lib/python3.10/dist-packages (from requests<3,>=2.21.0->tensorflow>=2.0.0->deepcut) (3.10)\n",
            "Requirement already satisfied: urllib3<3,>=1.21.1 in /usr/local/lib/python3.10/dist-packages (from requests<3,>=2.21.0->tensorflow>=2.0.0->deepcut) (2.2.3)\n",
            "Requirement already satisfied: certifi>=2017.4.17 in /usr/local/lib/python3.10/dist-packages (from requests<3,>=2.21.0->tensorflow>=2.0.0->deepcut) (2024.8.30)\n",
            "Requirement already satisfied: markdown>=2.6.8 in /usr/local/lib/python3.10/dist-packages (from tensorboard<2.18,>=2.17->tensorflow>=2.0.0->deepcut) (3.7)\n",
            "Requirement already satisfied: tensorboard-data-server<0.8.0,>=0.7.0 in /usr/local/lib/python3.10/dist-packages (from tensorboard<2.18,>=2.17->tensorflow>=2.0.0->deepcut) (0.7.2)\n",
            "Requirement already satisfied: werkzeug>=1.0.1 in /usr/local/lib/python3.10/dist-packages (from tensorboard<2.18,>=2.17->tensorflow>=2.0.0->deepcut) (3.1.3)\n",
            "Requirement already satisfied: MarkupSafe>=2.1.1 in /usr/local/lib/python3.10/dist-packages (from werkzeug>=1.0.1->tensorboard<2.18,>=2.17->tensorflow>=2.0.0->deepcut) (3.0.2)\n",
            "Requirement already satisfied: markdown-it-py>=2.2.0 in /usr/local/lib/python3.10/dist-packages (from rich->keras>=3.2.0->tensorflow>=2.0.0->deepcut) (3.0.0)\n",
            "Requirement already satisfied: pygments<3.0.0,>=2.13.0 in /usr/local/lib/python3.10/dist-packages (from rich->keras>=3.2.0->tensorflow>=2.0.0->deepcut) (2.18.0)\n",
            "Requirement already satisfied: mdurl~=0.1 in /usr/local/lib/python3.10/dist-packages (from markdown-it-py>=2.2.0->rich->keras>=3.2.0->tensorflow>=2.0.0->deepcut) (0.1.2)\n"
          ]
        }
      ]
    },
    {
      "cell_type": "code",
      "source": [
        "from pythainlp.tokenize import word_tokenize\n",
        "import attacut\n",
        "import deepcut\n",
        "from pythainlp.tokenize import Tokenizer\n",
        "from pythainlp.util import dict_trie"
      ],
      "metadata": {
        "id": "-zFA1jMOevwe"
      },
      "execution_count": null,
      "outputs": []
    },
    {
      "cell_type": "code",
      "source": [
        "sentence = \"\"\"นายเสริมศักดิ์ พงษ์พานิช รัฐมนตรีว่าการกระทรวงการท่องเที่ยวและกีฬา กล่าวว่า กระทรวงการท่องเที่ยวและกีฬามีมาตรการกระตุ้นตลาดต่างประเทศ ด้วยการส่งเสริมภาพลักษณ์เชิงบวกเพื่อกระตุ้นให้เกิดการเดินทางของนักท่องเที่ยวต่างชาติมายังประเทศไทย จึงได้ร่วมมือกับ POP MART จัดกิจกรรม Welcome Ceremony of LABUBU เตรียมเฉลิมฉลองความสัมพันธ์ไทยจีนครบ 50 ปี ภายใต้โครงการ “ลาบูบู้เที่ยวไทย” ต้อนรับมาสคอตลาบูบู้จากกรุงปักกิ่ง สาธารณรัฐประชาชนจีนสู่ท่าอากาศยานสุวรรณภูมิ ประเทศไทย เพื่อจัดทำคลิปวิดีโอประชาสัมพันธ์เที่ยวไทยตามรอยลาบูบู้\"\"\"\n",
        "words = word_tokenize(sentence)\n",
        "words[0:20]"
      ],
      "metadata": {
        "colab": {
          "base_uri": "https://localhost:8080/"
        },
        "id": "gDqyyuk8bVGq",
        "outputId": "a0d5cfe8-9ef8-4803-9b84-c23adb651573"
      },
      "execution_count": null,
      "outputs": [
        {
          "output_type": "execute_result",
          "data": {
            "text/plain": [
              "['นาย',\n",
              " 'เสริม',\n",
              " 'ศักดิ์',\n",
              " ' ',\n",
              " 'พงษ์',\n",
              " 'พา',\n",
              " 'นิช',\n",
              " ' ',\n",
              " 'รัฐมนตรี',\n",
              " 'ว่าการ',\n",
              " 'กระทรวง',\n",
              " 'การท่องเที่ยว',\n",
              " 'และ',\n",
              " 'กีฬา',\n",
              " ' ',\n",
              " 'กล่าวว่า',\n",
              " ' ',\n",
              " 'กระทรวง',\n",
              " 'การท่องเที่ยว',\n",
              " 'และ']"
            ]
          },
          "metadata": {},
          "execution_count": 20
        }
      ]
    },
    {
      "cell_type": "markdown",
      "source": [
        "### การบ้าน 1.2 ทดลองอัลกอริทึม"
      ],
      "metadata": {
        "id": "hWNtVXd7e7im"
      }
    },
    {
      "cell_type": "code",
      "source": [
        "words = word_tokenize(sentence,engine='attacut')\n",
        "words[0:20]"
      ],
      "metadata": {
        "colab": {
          "base_uri": "https://localhost:8080/"
        },
        "id": "4qVQl9ftf10P",
        "outputId": "2b8bd170-6235-42ca-d03e-231caf6d7c30"
      },
      "execution_count": null,
      "outputs": [
        {
          "output_type": "stream",
          "name": "stderr",
          "text": [
            "/usr/local/lib/python3.10/dist-packages/attacut/models/__init__.py:60: FutureWarning: You are using `torch.load` with `weights_only=False` (the current default value), which uses the default pickle module implicitly. It is possible to construct malicious pickle data which will execute arbitrary code during unpickling (See https://github.com/pytorch/pytorch/blob/main/SECURITY.md#untrusted-models for more details). In a future release, the default value for `weights_only` will be flipped to `True`. This limits the functions that could be executed during unpickling. Arbitrary objects will no longer be allowed to be loaded via this mode unless they are explicitly allowlisted by the user via `torch.serialization.add_safe_globals`. We recommend you start setting `weights_only=True` for any use case where you don't have full control of the loaded file. Please open an issue on GitHub for any issues related to this experimental feature.\n",
            "  model.load_state_dict(torch.load(model_path, map_location=\"cpu\"))\n"
          ]
        },
        {
          "output_type": "execute_result",
          "data": {
            "text/plain": [
              "['นายเสริมศักดิ์ พงษ์พานิช',\n",
              " ' ',\n",
              " 'รัฐมนตรี',\n",
              " 'ว่าการ',\n",
              " 'กระทรวงการท่องเที่ยว',\n",
              " 'และกีฬา',\n",
              " ' ',\n",
              " 'กล่าว',\n",
              " 'ว่า',\n",
              " ' ',\n",
              " 'กระทรวงการท่องเที่ยว',\n",
              " 'และกีฬา',\n",
              " 'มี',\n",
              " 'มาตรการ',\n",
              " 'กระตุ้น',\n",
              " 'ตลาด',\n",
              " 'ต่าง',\n",
              " 'ประเทศ',\n",
              " ' ',\n",
              " 'ด้วย']"
            ]
          },
          "metadata": {},
          "execution_count": 21
        }
      ]
    },
    {
      "cell_type": "code",
      "source": [
        "words = word_tokenize(sentence,engine='deepcut')\n",
        "words[0:20]"
      ],
      "metadata": {
        "colab": {
          "base_uri": "https://localhost:8080/"
        },
        "id": "7jYccS1lg2x3",
        "outputId": "eea52074-74bf-4b6b-9f12-4d228cdfb6aa"
      },
      "execution_count": null,
      "outputs": [
        {
          "output_type": "stream",
          "name": "stdout",
          "text": [
            "\u001b[1m17/17\u001b[0m \u001b[32m━━━━━━━━━━━━━━━━━━━━\u001b[0m\u001b[37m\u001b[0m \u001b[1m0s\u001b[0m 18ms/step\n"
          ]
        },
        {
          "output_type": "execute_result",
          "data": {
            "text/plain": [
              "['นายเสริมศักดิ์ พงษ์พานิช',\n",
              " ' ',\n",
              " 'รัฐมนตรี',\n",
              " 'ว่าการ',\n",
              " 'กระทรวงการท่องเที่ยวและกีฬา',\n",
              " ' ',\n",
              " 'กล่าว',\n",
              " 'ว่า',\n",
              " ' ',\n",
              " 'กระทรวงการท่องเที่ยวและ',\n",
              " 'กีฬา',\n",
              " 'มี',\n",
              " 'มาตรการ',\n",
              " 'กระตุ้น',\n",
              " 'ตลาด',\n",
              " 'ต่าง',\n",
              " 'ประเทศ',\n",
              " ' ',\n",
              " 'ด้วย',\n",
              " 'การ']"
            ]
          },
          "metadata": {},
          "execution_count": 22
        }
      ]
    },
    {
      "cell_type": "code",
      "source": [
        "words = word_tokenize(sentence,engine='longest')\n",
        "words[0:20]"
      ],
      "metadata": {
        "colab": {
          "base_uri": "https://localhost:8080/"
        },
        "id": "Jwbe1L_VhJGA",
        "outputId": "5dbba743-ef1e-4a83-974f-627737b8860b"
      },
      "execution_count": null,
      "outputs": [
        {
          "output_type": "execute_result",
          "data": {
            "text/plain": [
              "['นาย',\n",
              " 'เสริม',\n",
              " 'ศักดิ์',\n",
              " ' ',\n",
              " 'พงษ์',\n",
              " 'พา',\n",
              " 'นิช',\n",
              " ' ',\n",
              " 'รัฐมนตรี',\n",
              " 'ว่าการ',\n",
              " 'กระทรวง',\n",
              " 'การท่องเที่ยว',\n",
              " 'และ',\n",
              " 'กีฬา',\n",
              " ' ',\n",
              " 'กล่าวว่า',\n",
              " ' ',\n",
              " 'กระทรวง',\n",
              " 'การท่องเที่ยว',\n",
              " 'และ']"
            ]
          },
          "metadata": {},
          "execution_count": 23
        }
      ]
    },
    {
      "cell_type": "code",
      "source": [
        "words = word_tokenize(sentence,engine='newmm')\n",
        "words[0:20]"
      ],
      "metadata": {
        "colab": {
          "base_uri": "https://localhost:8080/"
        },
        "id": "jX-_oc-KhR3m",
        "outputId": "6da4767b-bd19-4db5-b804-7c789710cbe3"
      },
      "execution_count": null,
      "outputs": [
        {
          "output_type": "execute_result",
          "data": {
            "text/plain": [
              "['นาย',\n",
              " 'เสริม',\n",
              " 'ศักดิ์',\n",
              " ' ',\n",
              " 'พงษ์',\n",
              " 'พา',\n",
              " 'นิช',\n",
              " ' ',\n",
              " 'รัฐมนตรี',\n",
              " 'ว่าการ',\n",
              " 'กระทรวง',\n",
              " 'การท่องเที่ยว',\n",
              " 'และ',\n",
              " 'กีฬา',\n",
              " ' ',\n",
              " 'กล่าวว่า',\n",
              " ' ',\n",
              " 'กระทรวง',\n",
              " 'การท่องเที่ยว',\n",
              " 'และ']"
            ]
          },
          "metadata": {},
          "execution_count": 24
        }
      ]
    },
    {
      "cell_type": "code",
      "source": [
        "words = word_tokenize(sentence,engine='newmm-safe')\n",
        "words[0:20]"
      ],
      "metadata": {
        "colab": {
          "base_uri": "https://localhost:8080/"
        },
        "id": "H-OxX8-ShaEx",
        "outputId": "e74b1778-2ada-4178-dc2d-fc374872d3fd"
      },
      "execution_count": null,
      "outputs": [
        {
          "output_type": "execute_result",
          "data": {
            "text/plain": [
              "['นาย',\n",
              " 'เสริม',\n",
              " 'ศักดิ์',\n",
              " ' ',\n",
              " 'พงษ์',\n",
              " 'พา',\n",
              " 'นิช',\n",
              " ' ',\n",
              " 'รัฐมนตรี',\n",
              " 'ว',\n",
              " '่า',\n",
              " 'การ',\n",
              " 'กระทรวง',\n",
              " 'การท่องเที่ยว',\n",
              " 'และ',\n",
              " 'กีฬา',\n",
              " ' ',\n",
              " 'กล่าวว่า',\n",
              " ' ',\n",
              " 'กระทรวง']"
            ]
          },
          "metadata": {},
          "execution_count": 25
        }
      ]
    },
    {
      "cell_type": "markdown",
      "source": [
        "### การบ้าน 1.3 เพิ่มคำ"
      ],
      "metadata": {
        "id": "ewq-IYM6fRk3"
      }
    },
    {
      "cell_type": "code",
      "source": [
        "custom_words_list = [\"เสริมศักดิ์ พงษ์พานิช\",\"ลาบูบู้\",\"มาสคอต\",\"สุวรรณภูมิ\"]\n",
        "trie = dict_trie(dict_source=custom_words_list)\n",
        "\n",
        "words = word_tokenize(sentence,custom_dict=trie, engine='newmm')\n",
        "words\n",
        "\n",
        "\n"
      ],
      "metadata": {
        "colab": {
          "base_uri": "https://localhost:8080/"
        },
        "id": "zyNbx-KQaJbw",
        "outputId": "fd22ff02-7f69-4458-ccb9-1cd3b9a0b7e8"
      },
      "execution_count": null,
      "outputs": [
        {
          "output_type": "execute_result",
          "data": {
            "text/plain": [
              "['นาย',\n",
              " 'เสริมศักดิ์ พงษ์พานิช',\n",
              " ' ',\n",
              " 'รัฐมนตรีว่าการกระทรวงการท่องเที่ยวและกีฬา',\n",
              " ' ',\n",
              " 'กล่าวว่า',\n",
              " ' ',\n",
              " 'กระทรวงการท่องเที่ยวและกีฬามีมาตรการกระตุ้นตลาดต่างประเทศ',\n",
              " ' ',\n",
              " 'ด้วยการส่งเสริมภาพลักษณ์เชิงบวกเพื่อกระตุ้นให้เกิดการเดินทางของนักท่องเที่ยวต่างชาติมายังประเทศไทย',\n",
              " ' ',\n",
              " 'จึงได้ร่วมมือกับ',\n",
              " ' ',\n",
              " 'POP',\n",
              " ' ',\n",
              " 'MART',\n",
              " ' ',\n",
              " 'จัดกิจกรรม',\n",
              " ' ',\n",
              " 'Welcome',\n",
              " ' ',\n",
              " 'Ceremony',\n",
              " ' ',\n",
              " 'of',\n",
              " ' ',\n",
              " 'LABUBU',\n",
              " ' ',\n",
              " 'เตรียมเฉลิมฉลองความสัมพันธ์ไทยจีนครบ',\n",
              " ' ',\n",
              " '50',\n",
              " ' ',\n",
              " 'ปี',\n",
              " ' ',\n",
              " 'ภายใต้โครงการ',\n",
              " ' ',\n",
              " '“',\n",
              " 'ลาบูบู้',\n",
              " 'เที่ยวไทย',\n",
              " '”',\n",
              " ' ',\n",
              " 'ต้อนรับ',\n",
              " 'มาสคอต',\n",
              " 'ลาบูบู้',\n",
              " 'จากกรุงปักกิ่ง',\n",
              " ' ',\n",
              " 'สาธารณรัฐประชาชนจีนสู่ท่าอากาศยาน',\n",
              " 'สุวรรณภูมิ',\n",
              " ' ',\n",
              " 'ประเทศไทย',\n",
              " ' ',\n",
              " 'เพื่อจัดทำคลิปวิดีโอประชาสัมพันธ์เที่ยวไทยตามรอย',\n",
              " 'ลาบูบู้']"
            ]
          },
          "metadata": {},
          "execution_count": 26
        }
      ]
    },
    {
      "cell_type": "code",
      "source": [
        "custom_words_list = [\"เสริมศักดิ์ พงษ์พานิช\",\"ลาบูบู้\",\"มาสคอต\",\"สุวรรณภูมิ\"]\n",
        "trie = dict_trie(dict_source=custom_words_list)\n",
        "\n",
        "words = word_tokenize(sentence,custom_dict=trie, engine='newmm-safe')\n",
        "words"
      ],
      "metadata": {
        "id": "FPvvRh78cEoH",
        "colab": {
          "base_uri": "https://localhost:8080/"
        },
        "outputId": "03e57995-a25f-4b5e-f6f3-d28a2d14bb69"
      },
      "execution_count": null,
      "outputs": [
        {
          "output_type": "execute_result",
          "data": {
            "text/plain": [
              "['นาย',\n",
              " 'เสริมศักดิ์ พงษ์พานิช',\n",
              " ' ',\n",
              " 'รัฐมนตรีว',\n",
              " '่าการกระทรวงการท่องเที่ยวและกีฬา',\n",
              " ' ',\n",
              " 'กล่าวว่า',\n",
              " ' ',\n",
              " 'กระทรวงการท่องเที่ยวและกีฬามีมาตรการกระตุ้นตลาดต่างประเทศ',\n",
              " ' ',\n",
              " 'ด้วยการส่งเสริมภาพลักษณ์เชิงบวกเพื่อ',\n",
              " 'กระตุ้นให้เกิดการเดินทางของ',\n",
              " 'นักท่องเที่ยวต่างชาติมายังประเทศไทย',\n",
              " ' ',\n",
              " 'จึงไ',\n",
              " 'ด้ร่วมมือกับ',\n",
              " ' ',\n",
              " 'POP',\n",
              " ' ',\n",
              " 'MART',\n",
              " ' ',\n",
              " 'จัดกิจกรรม',\n",
              " ' ',\n",
              " 'Wel',\n",
              " 'come',\n",
              " ' ',\n",
              " 'Ceremony',\n",
              " ' ',\n",
              " 'of',\n",
              " ' ',\n",
              " 'LABUBU',\n",
              " ' ',\n",
              " 'เตรียมเฉลิม',\n",
              " 'ฉลองความสัมพันธ์ไทยจีนครบ',\n",
              " ' ',\n",
              " '50',\n",
              " ' ',\n",
              " 'ปี',\n",
              " ' ',\n",
              " 'ภายใต้โครงการ',\n",
              " ' ',\n",
              " '“',\n",
              " 'ลาบูบู้',\n",
              " 'เที่ยวไทย',\n",
              " '”',\n",
              " ' ',\n",
              " 'ต้อนรับ',\n",
              " 'มาสคอต',\n",
              " 'ลาบูบู้',\n",
              " 'จากกรุงปักกิ่ง',\n",
              " ' ',\n",
              " 'สาธารณรัฐประชาชนจีนสู่ท่าอากาศยาน',\n",
              " 'สุวรรณภูมิ',\n",
              " ' ',\n",
              " 'ประเทศไทย',\n",
              " ' ',\n",
              " 'เพื่อจัดทำคลิปวิดีโอประชาสัมพันธ์เที่ยวไทยตามรอย',\n",
              " 'ลาบูบู้']"
            ]
          },
          "metadata": {},
          "execution_count": 29
        }
      ]
    }
  ]
}